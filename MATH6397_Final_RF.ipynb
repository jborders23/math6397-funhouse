{
  "nbformat": 4,
  "nbformat_minor": 0,
  "metadata": {
    "colab": {
      "name": "MATH6397-Final-RF.ipynb",
      "provenance": [],
      "authorship_tag": "ABX9TyPu7yokhgNCaG3eCB0ZhCTP",
      "include_colab_link": true
    },
    "kernelspec": {
      "name": "python3",
      "display_name": "Python 3"
    },
    "language_info": {
      "name": "python"
    }
  },
  "cells": [
    {
      "cell_type": "markdown",
      "metadata": {
        "id": "view-in-github",
        "colab_type": "text"
      },
      "source": [
        "<a href=\"https://colab.research.google.com/github/jborders23/math6397-funhouse/blob/main/MATH6397_Final_RF.ipynb\" target=\"_parent\"><img src=\"https://colab.research.google.com/assets/colab-badge.svg\" alt=\"Open In Colab\"/></a>"
      ]
    },
    {
      "cell_type": "markdown",
      "metadata": {
        "id": "CUkpLWrUhtLe"
      },
      "source": [
        "# Load Data, Generate Features"
      ]
    },
    {
      "cell_type": "code",
      "metadata": {
        "id": "E7bNfn2c6dLg"
      },
      "source": [
        "import numpy as np\n",
        "import pandas as pd\n",
        "import matplotlib.pyplot as plt\n",
        "\n",
        "#load data from GitHub\n",
        "tesla = pd.read_csv(\"https://raw.githubusercontent.com/jborders23/math6397-funhouse/master/TSLA.csv\")\n",
        "ford = pd.read_csv(\"https://raw.githubusercontent.com/jborders23/math6397-funhouse/master/F.csv\")\n",
        "gm = pd.read_csv(\"https://raw.githubusercontent.com/jborders23/math6397-funhouse/master/GM.csv\")\n",
        "sp500 = pd.read_excel(\"https://raw.githubusercontent.com/jborders23/math6397-funhouse/master/SP500.xlsx\")\n",
        "#reverse sp500 and reset index\n",
        "sp500 = sp500.iloc[::-1].reset_index(drop=True)"
      ],
      "execution_count": 18,
      "outputs": []
    },
    {
      "cell_type": "code",
      "metadata": {
        "id": "P93LKbcydEXe"
      },
      "source": [
        "#generate some features for Tesla\n",
        "tesla['Close-Open'] = (tesla.Close - tesla.Open)/tesla.Open\n",
        "tesla['High-Low'] = (tesla.High - tesla.Low)/tesla.Low\n",
        "tesla['percent_change'] = tesla['Adj Close'].pct_change()\n",
        "tesla['week_sd'] = tesla['percent_change'].rolling(5).std()\n",
        "tesla['week_return'] = tesla['percent_change'].rolling(5).mean()\n",
        "tesla.dropna(inplace=True)"
      ],
      "execution_count": 19,
      "outputs": []
    },
    {
      "cell_type": "code",
      "metadata": {
        "colab": {
          "base_uri": "https://localhost:8080/"
        },
        "id": "rAuHIxAG6p7b",
        "outputId": "d49d6486-5ee1-46f0-ecb3-a411be7bfd2d"
      },
      "source": [
        "#keep date & closing price for all non-Tesla securities\n",
        "f = ford.iloc[:,[0,4]]\n",
        "g = gm.iloc[:,[0,4]]\n",
        "s = sp500.iloc[:,[0,4]]\n",
        "\n",
        "#keep tesla's extra features & 'tomorrow' price\n",
        "t = tesla.iloc[:,[0,4,7,8,9,10,11,12]]\n",
        "#add column to tesla that equals 1 if tomorrow>close\n",
        "t['Movement'] = np.where(t['Tomorrow'] > t['Close'],1,0)"
      ],
      "execution_count": 20,
      "outputs": [
        {
          "output_type": "stream",
          "text": [
            "/usr/local/lib/python3.7/dist-packages/ipykernel_launcher.py:9: SettingWithCopyWarning: \n",
            "A value is trying to be set on a copy of a slice from a DataFrame.\n",
            "Try using .loc[row_indexer,col_indexer] = value instead\n",
            "\n",
            "See the caveats in the documentation: https://pandas.pydata.org/pandas-docs/stable/user_guide/indexing.html#returning-a-view-versus-a-copy\n",
            "  if __name__ == '__main__':\n"
          ],
          "name": "stderr"
        }
      ]
    },
    {
      "cell_type": "markdown",
      "metadata": {
        "id": "O2DaXJOZJok3"
      },
      "source": [
        "Standardize and Concatenate"
      ]
    },
    {
      "cell_type": "code",
      "metadata": {
        "id": "uju2Lw0tJvN8"
      },
      "source": [
        "#concatenate dfs (drop Tesla's tomorrow price)\n",
        "data = pd.concat(objs=[f['Date'],s['Close'],f['Close'],g['Close'],t['Close'],\n",
        "                       t['Close-Open'],t['High-Low'],t['percent_change'],t['week_sd'],t['week_return'],t['Movement']]\n",
        "                 ,axis=1,keys=['Date','SP','Ford','GM','Tesla','Close-Open','High-Low','Pct Change','week_sd','week_return','Movement'])\n",
        "data.dropna(inplace=True)"
      ],
      "execution_count": 23,
      "outputs": []
    },
    {
      "cell_type": "code",
      "metadata": {
        "colab": {
          "base_uri": "https://localhost:8080/",
          "height": 206
        },
        "id": "UlpjTOJWLAC_",
        "outputId": "bd7cecfe-eeb2-4e02-d494-fd1ef99411e6"
      },
      "source": [
        "data.head()"
      ],
      "execution_count": 24,
      "outputs": [
        {
          "output_type": "execute_result",
          "data": {
            "text/html": [
              "<div>\n",
              "<style scoped>\n",
              "    .dataframe tbody tr th:only-of-type {\n",
              "        vertical-align: middle;\n",
              "    }\n",
              "\n",
              "    .dataframe tbody tr th {\n",
              "        vertical-align: top;\n",
              "    }\n",
              "\n",
              "    .dataframe thead th {\n",
              "        text-align: right;\n",
              "    }\n",
              "</style>\n",
              "<table border=\"1\" class=\"dataframe\">\n",
              "  <thead>\n",
              "    <tr style=\"text-align: right;\">\n",
              "      <th></th>\n",
              "      <th>Date</th>\n",
              "      <th>SP</th>\n",
              "      <th>Ford</th>\n",
              "      <th>GM</th>\n",
              "      <th>Tesla</th>\n",
              "      <th>Close-Open</th>\n",
              "      <th>High-Low</th>\n",
              "      <th>Pct Change</th>\n",
              "      <th>week_sd</th>\n",
              "      <th>week_return</th>\n",
              "      <th>Movement</th>\n",
              "    </tr>\n",
              "  </thead>\n",
              "  <tbody>\n",
              "    <tr>\n",
              "      <th>5</th>\n",
              "      <td>5/3/2016</td>\n",
              "      <td>2063.37</td>\n",
              "      <td>13.43</td>\n",
              "      <td>31.250000</td>\n",
              "      <td>46.464001</td>\n",
              "      <td>-0.021234</td>\n",
              "      <td>0.031474</td>\n",
              "      <td>-0.039206</td>\n",
              "      <td>0.016869</td>\n",
              "      <td>-0.017368</td>\n",
              "      <td>0.0</td>\n",
              "    </tr>\n",
              "    <tr>\n",
              "      <th>6</th>\n",
              "      <td>5/4/2016</td>\n",
              "      <td>2051.12</td>\n",
              "      <td>13.31</td>\n",
              "      <td>30.590000</td>\n",
              "      <td>44.512001</td>\n",
              "      <td>-0.033566</td>\n",
              "      <td>0.063793</td>\n",
              "      <td>-0.042011</td>\n",
              "      <td>0.019078</td>\n",
              "      <td>-0.023981</td>\n",
              "      <td>0.0</td>\n",
              "    </tr>\n",
              "    <tr>\n",
              "      <th>7</th>\n",
              "      <td>5/5/2016</td>\n",
              "      <td>2050.63</td>\n",
              "      <td>13.32</td>\n",
              "      <td>30.540001</td>\n",
              "      <td>42.306000</td>\n",
              "      <td>-0.074105</td>\n",
              "      <td>0.089852</td>\n",
              "      <td>-0.049560</td>\n",
              "      <td>0.021149</td>\n",
              "      <td>-0.030903</td>\n",
              "      <td>1.0</td>\n",
              "    </tr>\n",
              "    <tr>\n",
              "      <th>8</th>\n",
              "      <td>5/6/2016</td>\n",
              "      <td>2057.14</td>\n",
              "      <td>13.44</td>\n",
              "      <td>30.959999</td>\n",
              "      <td>42.986000</td>\n",
              "      <td>0.019254</td>\n",
              "      <td>0.039690</td>\n",
              "      <td>0.016073</td>\n",
              "      <td>0.029993</td>\n",
              "      <td>-0.022077</td>\n",
              "      <td>0.0</td>\n",
              "    </tr>\n",
              "    <tr>\n",
              "      <th>9</th>\n",
              "      <td>5/9/2016</td>\n",
              "      <td>2058.69</td>\n",
              "      <td>13.32</td>\n",
              "      <td>30.780001</td>\n",
              "      <td>41.784000</td>\n",
              "      <td>-0.031522</td>\n",
              "      <td>0.045213</td>\n",
              "      <td>-0.027963</td>\n",
              "      <td>0.026114</td>\n",
              "      <td>-0.028533</td>\n",
              "      <td>0.0</td>\n",
              "    </tr>\n",
              "  </tbody>\n",
              "</table>\n",
              "</div>"
            ],
            "text/plain": [
              "       Date       SP   Ford  ...   week_sd  week_return  Movement\n",
              "5  5/3/2016  2063.37  13.43  ...  0.016869    -0.017368       0.0\n",
              "6  5/4/2016  2051.12  13.31  ...  0.019078    -0.023981       0.0\n",
              "7  5/5/2016  2050.63  13.32  ...  0.021149    -0.030903       1.0\n",
              "8  5/6/2016  2057.14  13.44  ...  0.029993    -0.022077       0.0\n",
              "9  5/9/2016  2058.69  13.32  ...  0.026114    -0.028533       0.0\n",
              "\n",
              "[5 rows x 11 columns]"
            ]
          },
          "metadata": {
            "tags": []
          },
          "execution_count": 24
        }
      ]
    },
    {
      "cell_type": "code",
      "metadata": {
        "colab": {
          "base_uri": "https://localhost:8080/",
          "height": 206
        },
        "id": "ZYHjDazc6uCy",
        "outputId": "9d5e51b3-2147-4b11-f3ae-3e585e4d8ce6"
      },
      "source": [
        "#normalize the time series: xi - min(xi)/max(xi) - min(xi)\n",
        "#only normalizing SP, Ford, GM, and Tesla\n",
        "s_data = data #will work with a standardized data frame\n",
        "from sklearn.preprocessing import MinMaxScaler\n",
        "scaler = MinMaxScaler()\n",
        "s_data[['SP','Ford','GM','Tesla']] = scaler.fit_transform(s_data[['SP','Ford','GM','Tesla']])\n",
        "s_data.head()"
      ],
      "execution_count": 25,
      "outputs": [
        {
          "output_type": "execute_result",
          "data": {
            "text/html": [
              "<div>\n",
              "<style scoped>\n",
              "    .dataframe tbody tr th:only-of-type {\n",
              "        vertical-align: middle;\n",
              "    }\n",
              "\n",
              "    .dataframe tbody tr th {\n",
              "        vertical-align: top;\n",
              "    }\n",
              "\n",
              "    .dataframe thead th {\n",
              "        text-align: right;\n",
              "    }\n",
              "</style>\n",
              "<table border=\"1\" class=\"dataframe\">\n",
              "  <thead>\n",
              "    <tr style=\"text-align: right;\">\n",
              "      <th></th>\n",
              "      <th>Date</th>\n",
              "      <th>SP</th>\n",
              "      <th>Ford</th>\n",
              "      <th>GM</th>\n",
              "      <th>Tesla</th>\n",
              "      <th>Close-Open</th>\n",
              "      <th>High-Low</th>\n",
              "      <th>Pct Change</th>\n",
              "      <th>week_sd</th>\n",
              "      <th>week_return</th>\n",
              "      <th>Movement</th>\n",
              "    </tr>\n",
              "  </thead>\n",
              "  <tbody>\n",
              "    <tr>\n",
              "      <th>5</th>\n",
              "      <td>5/3/2016</td>\n",
              "      <td>0.028756</td>\n",
              "      <td>0.950555</td>\n",
              "      <td>0.320115</td>\n",
              "      <td>0.012593</td>\n",
              "      <td>-0.021234</td>\n",
              "      <td>0.031474</td>\n",
              "      <td>-0.039206</td>\n",
              "      <td>0.016869</td>\n",
              "      <td>-0.017368</td>\n",
              "      <td>0.0</td>\n",
              "    </tr>\n",
              "    <tr>\n",
              "      <th>6</th>\n",
              "      <td>5/4/2016</td>\n",
              "      <td>0.023149</td>\n",
              "      <td>0.938446</td>\n",
              "      <td>0.305494</td>\n",
              "      <td>0.010289</td>\n",
              "      <td>-0.033566</td>\n",
              "      <td>0.063793</td>\n",
              "      <td>-0.042011</td>\n",
              "      <td>0.019078</td>\n",
              "      <td>-0.023981</td>\n",
              "      <td>0.0</td>\n",
              "    </tr>\n",
              "    <tr>\n",
              "      <th>7</th>\n",
              "      <td>5/5/2016</td>\n",
              "      <td>0.022925</td>\n",
              "      <td>0.939455</td>\n",
              "      <td>0.304386</td>\n",
              "      <td>0.007686</td>\n",
              "      <td>-0.074105</td>\n",
              "      <td>0.089852</td>\n",
              "      <td>-0.049560</td>\n",
              "      <td>0.021149</td>\n",
              "      <td>-0.030903</td>\n",
              "      <td>1.0</td>\n",
              "    </tr>\n",
              "    <tr>\n",
              "      <th>8</th>\n",
              "      <td>5/6/2016</td>\n",
              "      <td>0.025905</td>\n",
              "      <td>0.951564</td>\n",
              "      <td>0.313691</td>\n",
              "      <td>0.008488</td>\n",
              "      <td>0.019254</td>\n",
              "      <td>0.039690</td>\n",
              "      <td>0.016073</td>\n",
              "      <td>0.029993</td>\n",
              "      <td>-0.022077</td>\n",
              "      <td>0.0</td>\n",
              "    </tr>\n",
              "    <tr>\n",
              "      <th>9</th>\n",
              "      <td>5/9/2016</td>\n",
              "      <td>0.026614</td>\n",
              "      <td>0.939455</td>\n",
              "      <td>0.309703</td>\n",
              "      <td>0.007070</td>\n",
              "      <td>-0.031522</td>\n",
              "      <td>0.045213</td>\n",
              "      <td>-0.027963</td>\n",
              "      <td>0.026114</td>\n",
              "      <td>-0.028533</td>\n",
              "      <td>0.0</td>\n",
              "    </tr>\n",
              "  </tbody>\n",
              "</table>\n",
              "</div>"
            ],
            "text/plain": [
              "       Date        SP      Ford  ...   week_sd  week_return  Movement\n",
              "5  5/3/2016  0.028756  0.950555  ...  0.016869    -0.017368       0.0\n",
              "6  5/4/2016  0.023149  0.938446  ...  0.019078    -0.023981       0.0\n",
              "7  5/5/2016  0.022925  0.939455  ...  0.021149    -0.030903       1.0\n",
              "8  5/6/2016  0.025905  0.951564  ...  0.029993    -0.022077       0.0\n",
              "9  5/9/2016  0.026614  0.939455  ...  0.026114    -0.028533       0.0\n",
              "\n",
              "[5 rows x 11 columns]"
            ]
          },
          "metadata": {
            "tags": []
          },
          "execution_count": 25
        }
      ]
    },
    {
      "cell_type": "markdown",
      "metadata": {
        "id": "ao69yWUGh27U"
      },
      "source": [
        "# Specifying RF Model"
      ]
    },
    {
      "cell_type": "code",
      "metadata": {
        "id": "DscW0ubO62qr"
      },
      "source": [
        "#train/test split (first 80:last 20)\n",
        "splitter = int(len(s_data) * 0.8)\n",
        "train = s_data.iloc[0:splitter,1:10] #length 997\n",
        "train_labels = s_data.iloc[0:splitter,-1]\n",
        "test = s_data.iloc[splitter:,1:10] #length 250\n",
        "test_labels = s_data.iloc[splitter:,-1]"
      ],
      "execution_count": 27,
      "outputs": []
    },
    {
      "cell_type": "markdown",
      "metadata": {
        "id": "57qk3-Dc72Na"
      },
      "source": [
        "Most of this taken from: https://towardsdatascience.com/an-implementation-and-explanation-of-the-random-forest-in-python-77bf308a9b76\n",
        "\n",
        "and https://blog.quantinsti.com/random-forest-algorithm-in-python/"
      ]
    },
    {
      "cell_type": "code",
      "metadata": {
        "colab": {
          "base_uri": "https://localhost:8080/"
        },
        "id": "6FYW0-DK7v8K",
        "outputId": "c17e4ed6-3723-428d-ed47-24efbb09ac38"
      },
      "source": [
        "from sklearn.ensemble import RandomForestClassifier\n",
        "\n",
        "RSEED = 50\n",
        "\n",
        "# Features for feature importances\n",
        "features = list(train.columns)\n",
        "\n",
        "# Create the model with x trees\n",
        "model = RandomForestClassifier(n_estimators=50, \n",
        "                               random_state=RSEED, \n",
        "                               max_features = 'sqrt',\n",
        "                               n_jobs=-1, verbose = 1)\n",
        "\n",
        "# Fit on training data\n",
        "model.fit(train, train_labels)"
      ],
      "execution_count": 31,
      "outputs": [
        {
          "output_type": "stream",
          "text": [
            "[Parallel(n_jobs=-1)]: Using backend ThreadingBackend with 2 concurrent workers.\n",
            "[Parallel(n_jobs=-1)]: Done  46 tasks      | elapsed:    0.1s\n",
            "[Parallel(n_jobs=-1)]: Done  50 out of  50 | elapsed:    0.2s finished\n"
          ],
          "name": "stderr"
        },
        {
          "output_type": "execute_result",
          "data": {
            "text/plain": [
              "RandomForestClassifier(bootstrap=True, ccp_alpha=0.0, class_weight=None,\n",
              "                       criterion='gini', max_depth=None, max_features='sqrt',\n",
              "                       max_leaf_nodes=None, max_samples=None,\n",
              "                       min_impurity_decrease=0.0, min_impurity_split=None,\n",
              "                       min_samples_leaf=1, min_samples_split=2,\n",
              "                       min_weight_fraction_leaf=0.0, n_estimators=50, n_jobs=-1,\n",
              "                       oob_score=False, random_state=50, verbose=1,\n",
              "                       warm_start=False)"
            ]
          },
          "metadata": {
            "tags": []
          },
          "execution_count": 31
        }
      ]
    },
    {
      "cell_type": "code",
      "metadata": {
        "colab": {
          "base_uri": "https://localhost:8080/"
        },
        "id": "g5ayzoRc8YCp",
        "outputId": "fea0ea9a-8a6b-4766-aded-b3f188a1aee3"
      },
      "source": [
        "n_nodes = []\n",
        "max_depths = []\n",
        "\n",
        "# Stats about the trees in random forest\n",
        "for ind_tree in model.estimators_:\n",
        "    n_nodes.append(ind_tree.tree_.node_count)\n",
        "    max_depths.append(ind_tree.tree_.max_depth)\n",
        "    \n",
        "print(f'Average number of nodes {int(np.mean(n_nodes))}')\n",
        "print(f'Average maximum depth {int(np.mean(max_depths))}')\n",
        "\n",
        "# Training predictions (to demonstrate overfitting)\n",
        "train_rf_predictions = model.predict(train)\n",
        "train_rf_probs = model.predict_proba(train)[:, 1]\n",
        "\n",
        "# Testing predictions (to determine performance)\n",
        "rf_predictions = model.predict(test)\n",
        "rf_probs = model.predict_proba(test)[:, 1]"
      ],
      "execution_count": 32,
      "outputs": [
        {
          "output_type": "stream",
          "text": [
            "Average number of nodes 402\n",
            "Average maximum depth 22\n"
          ],
          "name": "stdout"
        },
        {
          "output_type": "stream",
          "text": [
            "[Parallel(n_jobs=2)]: Using backend ThreadingBackend with 2 concurrent workers.\n",
            "[Parallel(n_jobs=2)]: Done  46 tasks      | elapsed:    0.0s\n",
            "[Parallel(n_jobs=2)]: Done  50 out of  50 | elapsed:    0.0s finished\n",
            "[Parallel(n_jobs=2)]: Using backend ThreadingBackend with 2 concurrent workers.\n",
            "[Parallel(n_jobs=2)]: Done  46 tasks      | elapsed:    0.0s\n",
            "[Parallel(n_jobs=2)]: Done  50 out of  50 | elapsed:    0.0s finished\n",
            "[Parallel(n_jobs=2)]: Using backend ThreadingBackend with 2 concurrent workers.\n",
            "[Parallel(n_jobs=2)]: Done  46 tasks      | elapsed:    0.0s\n",
            "[Parallel(n_jobs=2)]: Done  50 out of  50 | elapsed:    0.0s finished\n",
            "[Parallel(n_jobs=2)]: Using backend ThreadingBackend with 2 concurrent workers.\n",
            "[Parallel(n_jobs=2)]: Done  46 tasks      | elapsed:    0.0s\n",
            "[Parallel(n_jobs=2)]: Done  50 out of  50 | elapsed:    0.0s finished\n"
          ],
          "name": "stderr"
        }
      ]
    },
    {
      "cell_type": "markdown",
      "metadata": {
        "id": "2EKLFNtsiCFN"
      },
      "source": [
        "# Results"
      ]
    },
    {
      "cell_type": "code",
      "metadata": {
        "colab": {
          "base_uri": "https://localhost:8080/",
          "height": 501
        },
        "id": "bMFNKPDo8wiU",
        "outputId": "e908af0f-0f34-4bb2-a265-c45919fdefd7"
      },
      "source": [
        "from sklearn.metrics import precision_score, recall_score, roc_auc_score, roc_curve\n",
        "import matplotlib.pyplot as plt\n",
        "\n",
        "# Plot formatting\n",
        "plt.style.use('fivethirtyeight')\n",
        "plt.rcParams['font.size'] = 14\n",
        "\n",
        "def evaluate_model(predictions, probs, train_predictions, train_probs):\n",
        "    \"\"\"Compare machine learning model to baseline performance.\n",
        "    Computes statistics and shows ROC curve.\"\"\"\n",
        "    \n",
        "    baseline = {}\n",
        "    \n",
        "    baseline['recall'] = recall_score(test_labels, \n",
        "                                     [1 for _ in range(len(test_labels))])\n",
        "    baseline['precision'] = precision_score(test_labels, \n",
        "                                      [1 for _ in range(len(test_labels))])\n",
        "    baseline['roc'] = 0.5\n",
        "    \n",
        "    results = {}\n",
        "    \n",
        "    results['recall'] = recall_score(test_labels, predictions)\n",
        "    results['precision'] = precision_score(test_labels, predictions)\n",
        "    results['roc'] = roc_auc_score(test_labels, probs)\n",
        "    \n",
        "    train_results = {}\n",
        "    train_results['recall'] = recall_score(train_labels, train_predictions)\n",
        "    train_results['precision'] = precision_score(train_labels, train_predictions)\n",
        "    train_results['roc'] = roc_auc_score(train_labels, train_probs)\n",
        "    \n",
        "    for metric in ['recall', 'precision', 'roc']:\n",
        "        print(f'{metric.capitalize()} Baseline: {round(baseline[metric], 2)} Test: {round(results[metric], 2)} Train: {round(train_results[metric], 2)}')\n",
        "    \n",
        "    # Calculate false positive rates and true positive rates\n",
        "    base_fpr, base_tpr, _ = roc_curve(test_labels, [1 for _ in range(len(test_labels))])\n",
        "    model_fpr, model_tpr, _ = roc_curve(test_labels, probs)\n",
        "\n",
        "    plt.figure(figsize = (8, 6))\n",
        "    plt.rcParams['font.size'] = 16\n",
        "    \n",
        "    # Plot both curves\n",
        "    plt.plot(base_fpr, base_tpr, 'b', label = 'baseline')\n",
        "    plt.plot(model_fpr, model_tpr, 'r', label = 'model')\n",
        "    plt.legend();\n",
        "    plt.xlabel('Told Buy, Should Sell'); \n",
        "    plt.ylabel('Told Buy, Should Buy'); plt.title('ROC Curves');\n",
        "    plt.show();\n",
        "\n",
        "evaluate_model(rf_predictions, rf_probs, train_rf_predictions, train_rf_probs)"
      ],
      "execution_count": 33,
      "outputs": [
        {
          "output_type": "stream",
          "text": [
            "Recall Baseline: 1.0 Test: 0.38 Train: 1.0\n",
            "Precision Baseline: 0.57 Test: 0.67 Train: 1.0\n",
            "Roc Baseline: 0.5 Test: 0.53 Train: 1.0\n"
          ],
          "name": "stdout"
        },
        {
          "output_type": "display_data",
          "data": {
            "image/png": "[encoded data removed]",
            "text/plain": [
              "<Figure size 576x432 with 1 Axes>"
            ]
          },
          "metadata": {
            "tags": []
          }
        }
      ]
    },
    {
      "cell_type": "code",
      "metadata": {
        "colab": {
          "base_uri": "https://localhost:8080/",
          "height": 670
        },
        "id": "ecQeFY5_6V8l",
        "outputId": "5659ca36-73b4-4b41-cc9c-a5ff67c0a95b"
      },
      "source": [
        "\n",
        "#plt.savefig('roc_auc_curve.png')\n",
        "\n",
        "from sklearn.metrics import confusion_matrix\n",
        "import itertools\n",
        "\n",
        "def plot_confusion_matrix(cm, classes,\n",
        "                          normalize=False,\n",
        "                          title='Confusion matrix',\n",
        "                          cmap=plt.cm.Oranges):\n",
        "    \"\"\"\n",
        "    This function prints and plots the confusion matrix.\n",
        "    Normalization can be applied by setting `normalize=True`.\n",
        "    Source: http://scikit-learn.org/stable/auto_examples/model_selection/plot_confusion_matrix.html\n",
        "    \"\"\"\n",
        "    if normalize:\n",
        "        cm = cm.astype('float') / cm.sum(axis=1)[:, np.newaxis]\n",
        "        print(\"Normalized confusion matrix\")\n",
        "    else:\n",
        "        print('Confusion matrix, without normalization')\n",
        "\n",
        "    print(cm)\n",
        "\n",
        "    # Plot the confusion matrix\n",
        "    plt.figure(figsize = (10, 10))\n",
        "    plt.imshow(cm, interpolation='nearest', cmap=cmap)\n",
        "    plt.title(title, size = 24)\n",
        "    plt.colorbar(aspect=4)\n",
        "    tick_marks = np.arange(len(classes))\n",
        "    plt.xticks(tick_marks, classes, rotation=45, size = 14)\n",
        "    plt.yticks(tick_marks, classes, size = 14)\n",
        "\n",
        "    fmt = '.2f' if normalize else 'd'\n",
        "    thresh = cm.max() / 2.\n",
        "    \n",
        "    # Labeling the plot\n",
        "    for i, j in itertools.product(range(cm.shape[0]), range(cm.shape[1])):\n",
        "        plt.text(j, i, format(cm[i, j], fmt), fontsize = 20,\n",
        "                 horizontalalignment=\"center\",\n",
        "                 color=\"white\" if cm[i, j] > thresh else \"black\")\n",
        "        \n",
        "    plt.grid(None)\n",
        "    plt.tight_layout()\n",
        "    plt.ylabel('True label', size = 18)\n",
        "    plt.xlabel('Predicted label', size = 18)\n",
        "\n",
        "# Confusion matrix\n",
        "cm = confusion_matrix(test_labels, rf_predictions)\n",
        "plot_confusion_matrix(cm, classes = ['Sell', 'Buy'],\n",
        "                      title = 'Performance of RF on Tesla Test Set',normalize=False)\n",
        "\n",
        "\n",
        "#plt.savefig('cm.png')"
      ],
      "execution_count": 35,
      "outputs": [
        {
          "output_type": "stream",
          "text": [
            "Confusion matrix, without normalization\n",
            "[[82 27]\n",
            " [88 54]]\n"
          ],
          "name": "stdout"
        },
        {
          "output_type": "display_data",
          "data": {
            "image/png": "[encoded data removed]",
            "text/plain": [
              "<Figure size 720x720 with 2 Axes>"
            ]
          },
          "metadata": {
            "tags": []
          }
        }
      ]
    },
    {
      "cell_type": "code",
      "metadata": {
        "colab": {
          "base_uri": "https://localhost:8080/"
        },
        "id": "9w9HEPqRTHlh",
        "outputId": "9d082bf5-94a0-4a41-b417-59c9d441aa9a"
      },
      "source": [
        "# handy dandy global accuracy generator (normalize must equal False to work)\n",
        "global_acc = (cm[0,0] + cm[1,1]) / cm.sum()\n",
        "print(round(global_acc,3))"
      ],
      "execution_count": 40,
      "outputs": [
        {
          "output_type": "stream",
          "text": [
            "0.542\n"
          ],
          "name": "stdout"
        }
      ]
    },
    {
      "cell_type": "code",
      "metadata": {
        "colab": {
          "base_uri": "https://localhost:8080/"
        },
        "id": "ZEa16Me_pEM6",
        "outputId": "e7d857db-83a8-4561-a2d4-1d26f9cfdbfe"
      },
      "source": [
        "# Extract feature importances\n",
        "fi = pd.DataFrame({'feature': list(train.columns),\n",
        "                   'importance': model.feature_importances_}).\\\n",
        "                    sort_values('importance', ascending = False)\n",
        "\n",
        "# Display\n",
        "print(fi)"
      ],
      "execution_count": null,
      "outputs": [
        {
          "output_type": "stream",
          "text": [
            "      feature  importance\n",
            "7       std_5    0.114173\n",
            "3       Tesla    0.113432\n",
            "6  Pct Change    0.113298\n",
            "2          GM    0.113150\n",
            "0          SP    0.112347\n",
            "8    return_5    0.111033\n",
            "4  Open-Close    0.108627\n",
            "5    High-Low    0.107091\n",
            "1        Ford    0.106849\n"
          ],
          "name": "stdout"
        }
      ]
    }
  ]
}