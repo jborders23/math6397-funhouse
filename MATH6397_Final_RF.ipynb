{
  "nbformat": 4,
  "nbformat_minor": 0,
  "metadata": {
    "colab": {
      "name": "MATH6397-Final-RF.ipynb",
      "provenance": [],
      "authorship_tag": "ABX9TyPQ/D1DpbhIbnHVqUnqTlI6",
      "include_colab_link": true
    },
    "kernelspec": {
      "name": "python3",
      "display_name": "Python 3"
    },
    "language_info": {
      "name": "python"
    }
  },
  "cells": [
    {
      "cell_type": "markdown",
      "metadata": {
        "id": "view-in-github",
        "colab_type": "text"
      },
      "source": [
        "<a href=\"https://colab.research.google.com/github/jborders23/math6397-funhouse/blob/main/MATH6397_Final_RF.ipynb\" target=\"_parent\"><img src=\"https://colab.research.google.com/assets/colab-badge.svg\" alt=\"Open In Colab\"/></a>"
      ]
    },
    {
      "cell_type": "markdown",
      "metadata": {
        "id": "CUkpLWrUhtLe"
      },
      "source": [
        "# Load Data, Generate Features"
      ]
    },
    {
      "cell_type": "code",
      "metadata": {
        "id": "E7bNfn2c6dLg"
      },
      "source": [
        "import numpy as np\n",
        "import pandas as pd\n",
        "import matplotlib.pyplot as plt\n",
        "\n",
        "#load data from GitHub\n",
        "tesla = pd.read_csv(\"https://raw.githubusercontent.com/jborders23/math6397-funhouse/master/TSLA.csv\")\n",
        "ford = pd.read_csv(\"https://raw.githubusercontent.com/jborders23/math6397-funhouse/master/F.csv\")\n",
        "gm = pd.read_csv(\"https://raw.githubusercontent.com/jborders23/math6397-funhouse/master/GM.csv\")\n",
        "sp500 = pd.read_excel(\"https://raw.githubusercontent.com/jborders23/math6397-funhouse/master/SP500.xlsx\")\n",
        "#reverse sp500 and reset index\n",
        "sp500 = sp500.iloc[::-1].reset_index(drop=True)"
      ],
      "execution_count": null,
      "outputs": []
    },
    {
      "cell_type": "code",
      "metadata": {
        "id": "P93LKbcydEXe"
      },
      "source": [
        "#generate some features for Tesla\n",
        "tesla['Open-Close'] = (tesla.Open - tesla.Close)/tesla.Open\n",
        "tesla['High-Low'] = (tesla.High - tesla.Low)/tesla.Low\n",
        "tesla['percent_change'] = tesla['Adj Close'].pct_change()\n",
        "tesla['std_5'] = tesla['percent_change'].rolling(5).std()\n",
        "tesla['return_5'] = tesla['percent_change'].rolling(5).mean()\n",
        "tesla.dropna(inplace=True)"
      ],
      "execution_count": null,
      "outputs": []
    },
    {
      "cell_type": "code",
      "metadata": {
        "colab": {
          "base_uri": "https://localhost:8080/"
        },
        "id": "rAuHIxAG6p7b",
        "outputId": "3526fd1a-3fc4-48d4-c266-4214103a448d"
      },
      "source": [
        "#keep date & closing price for all non-Tesla securities\n",
        "f = ford.iloc[:,[0,4]]\n",
        "g = gm.iloc[:,[0,4]]\n",
        "s = sp500.iloc[:,[0,4]]\n",
        "\n",
        "#keep tesla's extra features & 'tomorrow' price\n",
        "t = tesla.iloc[:,[0,4,7,8,9,10,11,12]]\n",
        "#add column to tesla that equals 1 if tomorrow>close\n",
        "t['Movement'] = np.where(t['Tomorrow'] > t['Close'],1,0)"
      ],
      "execution_count": null,
      "outputs": [
        {
          "output_type": "stream",
          "text": [
            "/usr/local/lib/python3.7/dist-packages/ipykernel_launcher.py:9: SettingWithCopyWarning: \n",
            "A value is trying to be set on a copy of a slice from a DataFrame.\n",
            "Try using .loc[row_indexer,col_indexer] = value instead\n",
            "\n",
            "See the caveats in the documentation: https://pandas.pydata.org/pandas-docs/stable/user_guide/indexing.html#returning-a-view-versus-a-copy\n",
            "  if __name__ == '__main__':\n"
          ],
          "name": "stderr"
        }
      ]
    },
    {
      "cell_type": "code",
      "metadata": {
        "colab": {
          "base_uri": "https://localhost:8080/",
          "height": 206
        },
        "id": "ZYHjDazc6uCy",
        "outputId": "f820e532-5059-4f26-ac66-b00a5847fb09"
      },
      "source": [
        "#concatenate dfs (drop Tesla's tomorrow price)\n",
        "data = pd.concat(objs=[f['Date'],s['Close'],f['Close'],g['Close'],t['Close'],\n",
        "                       t['Open-Close'],t['High-Low'],t['percent_change'],t['std_5'],t['return_5'],t['Movement']]\n",
        "                 ,axis=1,keys=['Date','SP','Ford','GM','Tesla','Open-Close','High-Low','Pct Change','std_5','return_5','Movement'])\n",
        "#normalize the time series: xi - min(xi)/max(xi) - min(xi)\n",
        "s_data = data #will work with a standardized data frame\n",
        "from sklearn.preprocessing import MinMaxScaler\n",
        "scaler = MinMaxScaler()\n",
        "s_data[['SP','Ford','GM','Tesla','Open-Close','High-Low','Pct Change','std_5','return_5']] = scaler.fit_transform(s_data[['SP',\n",
        "                                        'Ford','GM','Tesla','Open-Close','High-Low','Pct Change','std_5','return_5']])\n",
        "s_data.dropna(inplace=True)\n",
        "s_data.head()"
      ],
      "execution_count": null,
      "outputs": [
        {
          "output_type": "execute_result",
          "data": {
            "text/html": [
              "<div>\n",
              "<style scoped>\n",
              "    .dataframe tbody tr th:only-of-type {\n",
              "        vertical-align: middle;\n",
              "    }\n",
              "\n",
              "    .dataframe tbody tr th {\n",
              "        vertical-align: top;\n",
              "    }\n",
              "\n",
              "    .dataframe thead th {\n",
              "        text-align: right;\n",
              "    }\n",
              "</style>\n",
              "<table border=\"1\" class=\"dataframe\">\n",
              "  <thead>\n",
              "    <tr style=\"text-align: right;\">\n",
              "      <th></th>\n",
              "      <th>Date</th>\n",
              "      <th>SP</th>\n",
              "      <th>Ford</th>\n",
              "      <th>GM</th>\n",
              "      <th>Tesla</th>\n",
              "      <th>Open-Close</th>\n",
              "      <th>High-Low</th>\n",
              "      <th>Pct Change</th>\n",
              "      <th>std_5</th>\n",
              "      <th>return_5</th>\n",
              "      <th>Movement</th>\n",
              "    </tr>\n",
              "  </thead>\n",
              "  <tbody>\n",
              "    <tr>\n",
              "      <th>10</th>\n",
              "      <td>5/10/2016</td>\n",
              "      <td>0.038377</td>\n",
              "      <td>0.940476</td>\n",
              "      <td>0.322331</td>\n",
              "      <td>0.007015</td>\n",
              "      <td>0.573942</td>\n",
              "      <td>0.050404</td>\n",
              "      <td>0.511570</td>\n",
              "      <td>0.168494</td>\n",
              "      <td>0.416075</td>\n",
              "      <td>1.0</td>\n",
              "    </tr>\n",
              "    <tr>\n",
              "      <th>11</th>\n",
              "      <td>5/11/2016</td>\n",
              "      <td>0.029255</td>\n",
              "      <td>0.923611</td>\n",
              "      <td>0.316349</td>\n",
              "      <td>0.007079</td>\n",
              "      <td>0.569772</td>\n",
              "      <td>0.145547</td>\n",
              "      <td>0.517417</td>\n",
              "      <td>0.158002</td>\n",
              "      <td>0.459388</td>\n",
              "      <td>0.0</td>\n",
              "    </tr>\n",
              "    <tr>\n",
              "      <th>12</th>\n",
              "      <td>5/12/2016</td>\n",
              "      <td>0.029095</td>\n",
              "      <td>0.926587</td>\n",
              "      <td>0.318564</td>\n",
              "      <td>0.006682</td>\n",
              "      <td>0.668779</td>\n",
              "      <td>0.119994</td>\n",
              "      <td>0.494629</td>\n",
              "      <td>0.087628</td>\n",
              "      <td>0.500916</td>\n",
              "      <td>1.0</td>\n",
              "    </tr>\n",
              "    <tr>\n",
              "      <th>13</th>\n",
              "      <td>5/13/2016</td>\n",
              "      <td>0.021085</td>\n",
              "      <td>0.913690</td>\n",
              "      <td>0.303943</td>\n",
              "      <td>0.006760</td>\n",
              "      <td>0.597723</td>\n",
              "      <td>0.050268</td>\n",
              "      <td>0.518145</td>\n",
              "      <td>0.062588</td>\n",
              "      <td>0.486431</td>\n",
              "      <td>1.0</td>\n",
              "    </tr>\n",
              "    <tr>\n",
              "      <th>14</th>\n",
              "      <td>5/16/2016</td>\n",
              "      <td>0.030262</td>\n",
              "      <td>0.923611</td>\n",
              "      <td>0.307266</td>\n",
              "      <td>0.006921</td>\n",
              "      <td>0.592106</td>\n",
              "      <td>0.063702</td>\n",
              "      <td>0.522255</td>\n",
              "      <td>0.007339</td>\n",
              "      <td>0.517675</td>\n",
              "      <td>0.0</td>\n",
              "    </tr>\n",
              "  </tbody>\n",
              "</table>\n",
              "</div>"
            ],
            "text/plain": [
              "         Date        SP      Ford  ...     std_5  return_5  Movement\n",
              "10  5/10/2016  0.038377  0.940476  ...  0.168494  0.416075       1.0\n",
              "11  5/11/2016  0.029255  0.923611  ...  0.158002  0.459388       0.0\n",
              "12  5/12/2016  0.029095  0.926587  ...  0.087628  0.500916       1.0\n",
              "13  5/13/2016  0.021085  0.913690  ...  0.062588  0.486431       1.0\n",
              "14  5/16/2016  0.030262  0.923611  ...  0.007339  0.517675       0.0\n",
              "\n",
              "[5 rows x 11 columns]"
            ]
          },
          "metadata": {
            "tags": []
          },
          "execution_count": 42
        }
      ]
    },
    {
      "cell_type": "code",
      "metadata": {
        "id": "YTEibmjs6146",
        "colab": {
          "base_uri": "https://localhost:8080/",
          "height": 206
        },
        "outputId": "0c2a3d6e-7fec-4c75-b111-30431eb1563a"
      },
      "source": [
        "# split s_data into what the network needs\n",
        "df = s_data.iloc[:,1:10]\n",
        "labels = s_data.iloc[:,-1]"
      ],
      "execution_count": null,
      "outputs": [
        {
          "output_type": "execute_result",
          "data": {
            "text/html": [
              "<div>\n",
              "<style scoped>\n",
              "    .dataframe tbody tr th:only-of-type {\n",
              "        vertical-align: middle;\n",
              "    }\n",
              "\n",
              "    .dataframe tbody tr th {\n",
              "        vertical-align: top;\n",
              "    }\n",
              "\n",
              "    .dataframe thead th {\n",
              "        text-align: right;\n",
              "    }\n",
              "</style>\n",
              "<table border=\"1\" class=\"dataframe\">\n",
              "  <thead>\n",
              "    <tr style=\"text-align: right;\">\n",
              "      <th></th>\n",
              "      <th>SP</th>\n",
              "      <th>Ford</th>\n",
              "      <th>GM</th>\n",
              "      <th>Tesla</th>\n",
              "      <th>Open-Close</th>\n",
              "      <th>High-Low</th>\n",
              "      <th>Pct Change</th>\n",
              "      <th>std_5</th>\n",
              "      <th>return_5</th>\n",
              "    </tr>\n",
              "  </thead>\n",
              "  <tbody>\n",
              "    <tr>\n",
              "      <th>10</th>\n",
              "      <td>0.038377</td>\n",
              "      <td>0.940476</td>\n",
              "      <td>0.322331</td>\n",
              "      <td>0.007015</td>\n",
              "      <td>0.573942</td>\n",
              "      <td>0.050404</td>\n",
              "      <td>0.511570</td>\n",
              "      <td>0.168494</td>\n",
              "      <td>0.416075</td>\n",
              "    </tr>\n",
              "    <tr>\n",
              "      <th>11</th>\n",
              "      <td>0.029255</td>\n",
              "      <td>0.923611</td>\n",
              "      <td>0.316349</td>\n",
              "      <td>0.007079</td>\n",
              "      <td>0.569772</td>\n",
              "      <td>0.145547</td>\n",
              "      <td>0.517417</td>\n",
              "      <td>0.158002</td>\n",
              "      <td>0.459388</td>\n",
              "    </tr>\n",
              "    <tr>\n",
              "      <th>12</th>\n",
              "      <td>0.029095</td>\n",
              "      <td>0.926587</td>\n",
              "      <td>0.318564</td>\n",
              "      <td>0.006682</td>\n",
              "      <td>0.668779</td>\n",
              "      <td>0.119994</td>\n",
              "      <td>0.494629</td>\n",
              "      <td>0.087628</td>\n",
              "      <td>0.500916</td>\n",
              "    </tr>\n",
              "    <tr>\n",
              "      <th>13</th>\n",
              "      <td>0.021085</td>\n",
              "      <td>0.913690</td>\n",
              "      <td>0.303943</td>\n",
              "      <td>0.006760</td>\n",
              "      <td>0.597723</td>\n",
              "      <td>0.050268</td>\n",
              "      <td>0.518145</td>\n",
              "      <td>0.062588</td>\n",
              "      <td>0.486431</td>\n",
              "    </tr>\n",
              "    <tr>\n",
              "      <th>14</th>\n",
              "      <td>0.030262</td>\n",
              "      <td>0.923611</td>\n",
              "      <td>0.307266</td>\n",
              "      <td>0.006921</td>\n",
              "      <td>0.592106</td>\n",
              "      <td>0.063702</td>\n",
              "      <td>0.522255</td>\n",
              "      <td>0.007339</td>\n",
              "      <td>0.517675</td>\n",
              "    </tr>\n",
              "  </tbody>\n",
              "</table>\n",
              "</div>"
            ],
            "text/plain": [
              "          SP      Ford        GM  ...  Pct Change     std_5  return_5\n",
              "10  0.038377  0.940476  0.322331  ...    0.511570  0.168494  0.416075\n",
              "11  0.029255  0.923611  0.316349  ...    0.517417  0.158002  0.459388\n",
              "12  0.029095  0.926587  0.318564  ...    0.494629  0.087628  0.500916\n",
              "13  0.021085  0.913690  0.303943  ...    0.518145  0.062588  0.486431\n",
              "14  0.030262  0.923611  0.307266  ...    0.522255  0.007339  0.517675\n",
              "\n",
              "[5 rows x 9 columns]"
            ]
          },
          "metadata": {
            "tags": []
          },
          "execution_count": 43
        }
      ]
    },
    {
      "cell_type": "markdown",
      "metadata": {
        "id": "ao69yWUGh27U"
      },
      "source": [
        "# Specifying RF Model"
      ]
    },
    {
      "cell_type": "code",
      "metadata": {
        "id": "DscW0ubO62qr"
      },
      "source": [
        "#train/test split (first 80:last 20)\n",
        "splitter = int(len(s_data) * 0.8)\n",
        "train = s_data.iloc[0:splitter,1:10] #length 997\n",
        "train_labels = s_data.iloc[0:splitter,-1]\n",
        "test = s_data.iloc[splitter:,1:10] #length 250\n",
        "test_labels = s_data.iloc[splitter:,-1]"
      ],
      "execution_count": null,
      "outputs": []
    },
    {
      "cell_type": "markdown",
      "metadata": {
        "id": "57qk3-Dc72Na"
      },
      "source": [
        "Most of this taken from: https://towardsdatascience.com/an-implementation-and-explanation-of-the-random-forest-in-python-77bf308a9b76\n",
        "\n",
        "and https://blog.quantinsti.com/random-forest-algorithm-in-python/"
      ]
    },
    {
      "cell_type": "code",
      "metadata": {
        "colab": {
          "base_uri": "https://localhost:8080/"
        },
        "id": "6FYW0-DK7v8K",
        "outputId": "5ac06e94-76cd-4448-e807-9c164ebca3ab"
      },
      "source": [
        "from sklearn.ensemble import RandomForestClassifier\n",
        "\n",
        "RSEED = 50\n",
        "\n",
        "# Features for feature importances\n",
        "features = list(train.columns)\n",
        "\n",
        "# Create the model with x trees\n",
        "model = RandomForestClassifier(n_estimators=150, \n",
        "                               random_state=RSEED, \n",
        "                               max_features = 'sqrt',\n",
        "                               n_jobs=-1, verbose = 1)\n",
        "\n",
        "# Fit on training data\n",
        "model.fit(train, train_labels)"
      ],
      "execution_count": null,
      "outputs": [
        {
          "output_type": "stream",
          "text": [
            "[Parallel(n_jobs=-1)]: Using backend ThreadingBackend with 2 concurrent workers.\n",
            "[Parallel(n_jobs=-1)]: Done  46 tasks      | elapsed:    0.2s\n",
            "[Parallel(n_jobs=-1)]: Done 150 out of 150 | elapsed:    0.5s finished\n"
          ],
          "name": "stderr"
        },
        {
          "output_type": "execute_result",
          "data": {
            "text/plain": [
              "RandomForestClassifier(bootstrap=True, ccp_alpha=0.0, class_weight=None,\n",
              "                       criterion='gini', max_depth=None, max_features='sqrt',\n",
              "                       max_leaf_nodes=None, max_samples=None,\n",
              "                       min_impurity_decrease=0.0, min_impurity_split=None,\n",
              "                       min_samples_leaf=1, min_samples_split=2,\n",
              "                       min_weight_fraction_leaf=0.0, n_estimators=150,\n",
              "                       n_jobs=-1, oob_score=False, random_state=50, verbose=1,\n",
              "                       warm_start=False)"
            ]
          },
          "metadata": {
            "tags": []
          },
          "execution_count": 70
        }
      ]
    },
    {
      "cell_type": "code",
      "metadata": {
        "colab": {
          "base_uri": "https://localhost:8080/"
        },
        "id": "g5ayzoRc8YCp",
        "outputId": "a7095b28-512a-4737-ecba-4782aefca58a"
      },
      "source": [
        "n_nodes = []\n",
        "max_depths = []\n",
        "\n",
        "# Stats about the trees in random forest\n",
        "for ind_tree in model.estimators_:\n",
        "    n_nodes.append(ind_tree.tree_.node_count)\n",
        "    max_depths.append(ind_tree.tree_.max_depth)\n",
        "    \n",
        "print(f'Average number of nodes {int(np.mean(n_nodes))}')\n",
        "print(f'Average maximum depth {int(np.mean(max_depths))}')\n",
        "\n",
        "# Training predictions (to demonstrate overfitting)\n",
        "train_rf_predictions = model.predict(train)\n",
        "train_rf_probs = model.predict_proba(train)[:, 1]\n",
        "\n",
        "# Testing predictions (to determine performance)\n",
        "rf_predictions = model.predict(test)\n",
        "rf_probs = model.predict_proba(test)[:, 1]"
      ],
      "execution_count": null,
      "outputs": [
        {
          "output_type": "stream",
          "text": [
            "Average number of nodes 399\n",
            "Average maximum depth 21\n"
          ],
          "name": "stdout"
        },
        {
          "output_type": "stream",
          "text": [
            "[Parallel(n_jobs=2)]: Using backend ThreadingBackend with 2 concurrent workers.\n",
            "[Parallel(n_jobs=2)]: Done  46 tasks      | elapsed:    0.0s\n",
            "[Parallel(n_jobs=2)]: Done 150 out of 150 | elapsed:    0.1s finished\n",
            "[Parallel(n_jobs=2)]: Using backend ThreadingBackend with 2 concurrent workers.\n",
            "[Parallel(n_jobs=2)]: Done  46 tasks      | elapsed:    0.0s\n",
            "[Parallel(n_jobs=2)]: Done 150 out of 150 | elapsed:    0.1s finished\n",
            "[Parallel(n_jobs=2)]: Using backend ThreadingBackend with 2 concurrent workers.\n",
            "[Parallel(n_jobs=2)]: Done  46 tasks      | elapsed:    0.0s\n",
            "[Parallel(n_jobs=2)]: Done 150 out of 150 | elapsed:    0.1s finished\n",
            "[Parallel(n_jobs=2)]: Using backend ThreadingBackend with 2 concurrent workers.\n",
            "[Parallel(n_jobs=2)]: Done  46 tasks      | elapsed:    0.0s\n",
            "[Parallel(n_jobs=2)]: Done 150 out of 150 | elapsed:    0.0s finished\n"
          ],
          "name": "stderr"
        }
      ]
    },
    {
      "cell_type": "markdown",
      "metadata": {
        "id": "2EKLFNtsiCFN"
      },
      "source": [
        "# Results"
      ]
    },
    {
      "cell_type": "code",
      "metadata": {
        "colab": {
          "base_uri": "https://localhost:8080/",
          "height": 501
        },
        "id": "bMFNKPDo8wiU",
        "outputId": "729c41ff-f0cb-4b62-8ef8-e20ca52905ea"
      },
      "source": [
        "from sklearn.metrics import precision_score, recall_score, roc_auc_score, roc_curve\n",
        "import matplotlib.pyplot as plt\n",
        "\n",
        "# Plot formatting\n",
        "plt.style.use('fivethirtyeight')\n",
        "plt.rcParams['font.size'] = 14\n",
        "\n",
        "def evaluate_model(predictions, probs, train_predictions, train_probs):\n",
        "    \"\"\"Compare machine learning model to baseline performance.\n",
        "    Computes statistics and shows ROC curve.\"\"\"\n",
        "    \n",
        "    baseline = {}\n",
        "    \n",
        "    baseline['recall'] = recall_score(test_labels, \n",
        "                                     [1 for _ in range(len(test_labels))])\n",
        "    baseline['precision'] = precision_score(test_labels, \n",
        "                                      [1 for _ in range(len(test_labels))])\n",
        "    baseline['roc'] = 0.5\n",
        "    \n",
        "    results = {}\n",
        "    \n",
        "    results['recall'] = recall_score(test_labels, predictions)\n",
        "    results['precision'] = precision_score(test_labels, predictions)\n",
        "    results['roc'] = roc_auc_score(test_labels, probs)\n",
        "    \n",
        "    train_results = {}\n",
        "    train_results['recall'] = recall_score(train_labels, train_predictions)\n",
        "    train_results['precision'] = precision_score(train_labels, train_predictions)\n",
        "    train_results['roc'] = roc_auc_score(train_labels, train_probs)\n",
        "    \n",
        "    for metric in ['recall', 'precision', 'roc']:\n",
        "        print(f'{metric.capitalize()} Baseline: {round(baseline[metric], 2)} Test: {round(results[metric], 2)} Train: {round(train_results[metric], 2)}')\n",
        "    \n",
        "    # Calculate false positive rates and true positive rates\n",
        "    base_fpr, base_tpr, _ = roc_curve(test_labels, [1 for _ in range(len(test_labels))])\n",
        "    model_fpr, model_tpr, _ = roc_curve(test_labels, probs)\n",
        "\n",
        "    plt.figure(figsize = (8, 6))\n",
        "    plt.rcParams['font.size'] = 16\n",
        "    \n",
        "    # Plot both curves\n",
        "    plt.plot(base_fpr, base_tpr, 'b', label = 'baseline')\n",
        "    plt.plot(model_fpr, model_tpr, 'r', label = 'model')\n",
        "    plt.legend();\n",
        "    plt.xlabel('Told Buy, Should Sell'); \n",
        "    plt.ylabel('Told Buy, Should Buy'); plt.title('ROC Curves');\n",
        "    plt.show();\n",
        "\n",
        "evaluate_model(rf_predictions, rf_probs, train_rf_predictions, train_rf_probs)"
      ],
      "execution_count": null,
      "outputs": [
        {
          "output_type": "stream",
          "text": [
            "Recall Baseline: 1.0 Test: 0.28 Train: 1.0\n",
            "Precision Baseline: 0.56 Test: 0.66 Train: 1.0\n",
            "Roc Baseline: 0.5 Test: 0.52 Train: 1.0\n"
          ],
          "name": "stdout"
        },
        {
          "output_type": "display_data",
          "data": {
            "image/png": "[encoded data removed]",
            "text/plain": [
              "<Figure size 576x432 with 1 Axes>"
            ]
          },
          "metadata": {
            "tags": []
          }
        }
      ]
    },
    {
      "cell_type": "code",
      "metadata": {
        "colab": {
          "base_uri": "https://localhost:8080/",
          "height": 666
        },
        "id": "ecQeFY5_6V8l",
        "outputId": "27a1f503-026c-4ca9-93b0-95298b02eede"
      },
      "source": [
        "\n",
        "#plt.savefig('roc_auc_curve.png')\n",
        "\n",
        "from sklearn.metrics import confusion_matrix\n",
        "import itertools\n",
        "\n",
        "def plot_confusion_matrix(cm, classes,\n",
        "                          normalize=False,\n",
        "                          title='Confusion matrix',\n",
        "                          cmap=plt.cm.Oranges):\n",
        "    \"\"\"\n",
        "    This function prints and plots the confusion matrix.\n",
        "    Normalization can be applied by setting `normalize=True`.\n",
        "    Source: http://scikit-learn.org/stable/auto_examples/model_selection/plot_confusion_matrix.html\n",
        "    \"\"\"\n",
        "    if normalize:\n",
        "        cm = cm.astype('float') / cm.sum(axis=1)[:, np.newaxis]\n",
        "        print(\"Normalized confusion matrix\")\n",
        "    else:\n",
        "        print('Confusion matrix, without normalization')\n",
        "\n",
        "    print(cm)\n",
        "\n",
        "    # Plot the confusion matrix\n",
        "    plt.figure(figsize = (10, 10))\n",
        "    plt.imshow(cm, interpolation='nearest', cmap=cmap)\n",
        "    plt.title(title, size = 24)\n",
        "    plt.colorbar(aspect=4)\n",
        "    tick_marks = np.arange(len(classes))\n",
        "    plt.xticks(tick_marks, classes, rotation=45, size = 14)\n",
        "    plt.yticks(tick_marks, classes, size = 14)\n",
        "\n",
        "    fmt = '.2f' if normalize else 'd'\n",
        "    thresh = cm.max() / 2.\n",
        "    \n",
        "    # Labeling the plot\n",
        "    for i, j in itertools.product(range(cm.shape[0]), range(cm.shape[1])):\n",
        "        plt.text(j, i, format(cm[i, j], fmt), fontsize = 20,\n",
        "                 horizontalalignment=\"center\",\n",
        "                 color=\"white\" if cm[i, j] > thresh else \"black\")\n",
        "        \n",
        "    plt.grid(None)\n",
        "    plt.tight_layout()\n",
        "    plt.ylabel('True label', size = 18)\n",
        "    plt.xlabel('Predicted label', size = 18)\n",
        "\n",
        "# Confusion matrix\n",
        "cm = confusion_matrix(test_labels, rf_predictions)\n",
        "plot_confusion_matrix(cm, classes = ['Sell', 'Buy'],\n",
        "                      title = 'Performance of RF on Tesla Test Set',normalize=True)\n",
        "\n",
        "#plt.savefig('cm.png')"
      ],
      "execution_count": null,
      "outputs": [
        {
          "output_type": "stream",
          "text": [
            "Normalized confusion matrix\n",
            "[[0.80733945 0.19266055]\n",
            " [0.71631206 0.28368794]]\n"
          ],
          "name": "stdout"
        },
        {
          "output_type": "display_data",
          "data": {
            "image/png": "[encoded data removed]",
            "text/plain": [
              "<Figure size 720x720 with 2 Axes>"
            ]
          },
          "metadata": {
            "tags": []
          }
        }
      ]
    },
    {
      "cell_type": "code",
      "metadata": {
        "colab": {
          "base_uri": "https://localhost:8080/"
        },
        "id": "ZEa16Me_pEM6",
        "outputId": "e7d857db-83a8-4561-a2d4-1d26f9cfdbfe"
      },
      "source": [
        "# Extract feature importances\n",
        "fi = pd.DataFrame({'feature': list(train.columns),\n",
        "                   'importance': model.feature_importances_}).\\\n",
        "                    sort_values('importance', ascending = False)\n",
        "\n",
        "# Display\n",
        "print(fi)"
      ],
      "execution_count": null,
      "outputs": [
        {
          "output_type": "stream",
          "text": [
            "      feature  importance\n",
            "7       std_5    0.114173\n",
            "3       Tesla    0.113432\n",
            "6  Pct Change    0.113298\n",
            "2          GM    0.113150\n",
            "0          SP    0.112347\n",
            "8    return_5    0.111033\n",
            "4  Open-Close    0.108627\n",
            "5    High-Low    0.107091\n",
            "1        Ford    0.106849\n"
          ],
          "name": "stdout"
        }
      ]
    }
  ]
}