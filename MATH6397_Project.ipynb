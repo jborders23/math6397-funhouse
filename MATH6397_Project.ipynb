{
  "nbformat": 4,
  "nbformat_minor": 0,
  "metadata": {
    "colab": {
      "name": "MATH6397-Project.ipynb",
      "provenance": [],
      "authorship_tag": "ABX9TyM5hpS3klQmXJA/BqpbEgQq",
      "include_colab_link": true
    },
    "kernelspec": {
      "name": "python3",
      "display_name": "Python 3"
    },
    "language_info": {
      "name": "python"
    }
  },
  "cells": [
    {
      "cell_type": "markdown",
      "metadata": {
        "id": "view-in-github",
        "colab_type": "text"
      },
      "source": [
        "<a href=\"https://colab.research.google.com/github/jborders23/math6397-funhouse/blob/main/MATH6397_Project.ipynb\" target=\"_parent\"><img src=\"https://colab.research.google.com/assets/colab-badge.svg\" alt=\"Open In Colab\"/></a>"
      ]
    },
    {
      "cell_type": "code",
      "metadata": {
        "id": "uxgUtjtcQYn9"
      },
      "source": [
        "import numpy as np\n",
        "import pandas as pd\n",
        "import matplotlib.pyplot as plt\n",
        "\n",
        "#load data from GitHub\n",
        "tesla = pd.read_csv(\"https://raw.githubusercontent.com/jborders23/math6397-funhouse/master/TSLA.csv\")\n",
        "ford = pd.read_csv(\"https://raw.githubusercontent.com/jborders23/math6397-funhouse/master/F.csv\")\n",
        "gm = pd.read_csv(\"https://raw.githubusercontent.com/jborders23/math6397-funhouse/master/GM.csv\")\n",
        "\n"
      ],
      "execution_count": 4,
      "outputs": []
    }
  ]
}