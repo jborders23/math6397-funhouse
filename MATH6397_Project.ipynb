{
  "nbformat": 4,
  "nbformat_minor": 0,
  "metadata": {
    "colab": {
      "name": "MATH6397-Project.ipynb",
      "provenance": [],
      "toc_visible": true,
      "authorship_tag": "ABX9TyNUELNH8mS002vqaEdfEH0h",
      "include_colab_link": true
    },
    "kernelspec": {
      "display_name": "Python 3",
      "name": "python3"
    },
    "language_info": {
      "name": "python"
    }
  },
  "cells": [
    {
      "cell_type": "markdown",
      "metadata": {
        "id": "view-in-github",
        "colab_type": "text"
      },
      "source": [
        "<a href=\"https://colab.research.google.com/github/jborders23/math6397-funhouse/blob/main/MATH6397_Project.ipynb\" target=\"_parent\"><img src=\"https://colab.research.google.com/assets/colab-badge.svg\" alt=\"Open In Colab\"/></a>"
      ]
    },
    {
      "cell_type": "markdown",
      "metadata": {
        "id": "Jkx1gvhs84TG"
      },
      "source": [
        "# Pre-Processing"
      ]
    },
    {
      "cell_type": "markdown",
      "metadata": {
        "id": "kPcE4bD09FD2"
      },
      "source": [
        "Import & Pre-Process Data"
      ]
    },
    {
      "cell_type": "code",
      "metadata": {
        "id": "uxgUtjtcQYn9"
      },
      "source": [
        "import numpy as np\n",
        "import pandas as pd\n",
        "import matplotlib.pyplot as plt\n",
        "\n",
        "#load data from GitHub\n",
        "tesla = pd.read_csv(\"https://raw.githubusercontent.com/jborders23/math6397-funhouse/master/TSLA.csv\")\n",
        "ford = pd.read_csv(\"https://raw.githubusercontent.com/jborders23/math6397-funhouse/master/F.csv\")\n",
        "gm = pd.read_csv(\"https://raw.githubusercontent.com/jborders23/math6397-funhouse/master/GM.csv\")\n",
        "sp500 = pd.read_excel(\"https://raw.githubusercontent.com/jborders23/math6397-funhouse/master/SP500.xlsx\")\n",
        "#reverse sp500 and reset index\n",
        "sp500 = sp500.iloc[::-1].reset_index(drop=True)\n"
      ],
      "execution_count": 11,
      "outputs": []
    },
    {
      "cell_type": "code",
      "metadata": {
        "id": "xUCoMl9f6UXi",
        "colab": {
          "base_uri": "https://localhost:8080/"
        },
        "outputId": "a63964a3-7dff-45e3-bfa3-890946baf285"
      },
      "source": [
        "#keep date and closing price for each security\n",
        "t = tesla.iloc[:,[0,4,7]] #keep 'tomorrow' price for tesla, the target stock\n",
        "f = ford.iloc[:,[0,4]]\n",
        "g = gm.iloc[:,[0,4]]\n",
        "s = sp500.iloc[:,[0,4]]\n",
        "\n",
        "#add column to tesla that equals 1 if tomorrow>close\n",
        "t['Movement'] = np.where(t['Tomorrow'] > t['Close'],1,0)"
      ],
      "execution_count": 12,
      "outputs": [
        {
          "output_type": "stream",
          "text": [
            "/usr/local/lib/python3.7/dist-packages/ipykernel_launcher.py:8: SettingWithCopyWarning: \n",
            "A value is trying to be set on a copy of a slice from a DataFrame.\n",
            "Try using .loc[row_indexer,col_indexer] = value instead\n",
            "\n",
            "See the caveats in the documentation: https://pandas.pydata.org/pandas-docs/stable/user_guide/indexing.html#returning-a-view-versus-a-copy\n",
            "  \n"
          ],
          "name": "stderr"
        }
      ]
    },
    {
      "cell_type": "code",
      "metadata": {
        "colab": {
          "base_uri": "https://localhost:8080/",
          "height": 0
        },
        "id": "lqi3xo5eD01n",
        "outputId": "68291e96-86fd-4a9b-f45a-b6f4a52c75bf"
      },
      "source": [
        "#concatenate dfs\n",
        "data = pd.concat(objs=[f['Date'],s['Close'],f['Close'],g['Close'],t['Close'],t['Tomorrow'],t['Movement']],axis=1,keys=['Date','SP','Ford','GM','Tesla','Tomorrow','Movement'])\n",
        "#normalize the time series: xi - min(xi)/max(xi) - min(xi)\n",
        "s_data = data #will work with a standardized data frame\n",
        "from sklearn.preprocessing import MinMaxScaler\n",
        "scaler = MinMaxScaler()\n",
        "s_data[['SP','Ford','GM','Tesla','Tomorrow']] = scaler.fit_transform(s_data[['SP','Ford','GM','Tesla','Tomorrow']])\n",
        "s_data.head()"
      ],
      "execution_count": 13,
      "outputs": [
        {
          "output_type": "execute_result",
          "data": {
            "text/html": [
              "<div>\n",
              "<style scoped>\n",
              "    .dataframe tbody tr th:only-of-type {\n",
              "        vertical-align: middle;\n",
              "    }\n",
              "\n",
              "    .dataframe tbody tr th {\n",
              "        vertical-align: top;\n",
              "    }\n",
              "\n",
              "    .dataframe thead th {\n",
              "        text-align: right;\n",
              "    }\n",
              "</style>\n",
              "<table border=\"1\" class=\"dataframe\">\n",
              "  <thead>\n",
              "    <tr style=\"text-align: right;\">\n",
              "      <th></th>\n",
              "      <th>Date</th>\n",
              "      <th>SP</th>\n",
              "      <th>Ford</th>\n",
              "      <th>GM</th>\n",
              "      <th>Tesla</th>\n",
              "      <th>Tomorrow</th>\n",
              "      <th>Movement</th>\n",
              "    </tr>\n",
              "  </thead>\n",
              "  <tbody>\n",
              "    <tr>\n",
              "      <th>0</th>\n",
              "      <td>4/26/2016</td>\n",
              "      <td>0.041722</td>\n",
              "      <td>0.966270</td>\n",
              "      <td>0.340939</td>\n",
              "      <td>0.017649</td>\n",
              "      <td>0.017113</td>\n",
              "      <td>0</td>\n",
              "    </tr>\n",
              "    <tr>\n",
              "      <th>1</th>\n",
              "      <td>4/27/2016</td>\n",
              "      <td>0.043301</td>\n",
              "      <td>0.957341</td>\n",
              "      <td>0.340275</td>\n",
              "      <td>0.017113</td>\n",
              "      <td>0.016226</td>\n",
              "      <td>0</td>\n",
              "    </tr>\n",
              "    <tr>\n",
              "      <th>2</th>\n",
              "      <td>4/28/2016</td>\n",
              "      <td>0.034450</td>\n",
              "      <td>1.000000</td>\n",
              "      <td>0.346478</td>\n",
              "      <td>0.016226</td>\n",
              "      <td>0.014585</td>\n",
              "      <td>0</td>\n",
              "    </tr>\n",
              "    <tr>\n",
              "      <th>3</th>\n",
              "      <td>4/29/2016</td>\n",
              "      <td>0.029639</td>\n",
              "      <td>0.947421</td>\n",
              "      <td>0.332300</td>\n",
              "      <td>0.014585</td>\n",
              "      <td>0.014831</td>\n",
              "      <td>1</td>\n",
              "    </tr>\n",
              "    <tr>\n",
              "      <th>4</th>\n",
              "      <td>5/2/2016</td>\n",
              "      <td>0.037022</td>\n",
              "      <td>0.953373</td>\n",
              "      <td>0.331192</td>\n",
              "      <td>0.014831</td>\n",
              "      <td>0.012593</td>\n",
              "      <td>0</td>\n",
              "    </tr>\n",
              "  </tbody>\n",
              "</table>\n",
              "</div>"
            ],
            "text/plain": [
              "        Date        SP      Ford        GM     Tesla  Tomorrow  Movement\n",
              "0  4/26/2016  0.041722  0.966270  0.340939  0.017649  0.017113         0\n",
              "1  4/27/2016  0.043301  0.957341  0.340275  0.017113  0.016226         0\n",
              "2  4/28/2016  0.034450  1.000000  0.346478  0.016226  0.014585         0\n",
              "3  4/29/2016  0.029639  0.947421  0.332300  0.014585  0.014831         1\n",
              "4   5/2/2016  0.037022  0.953373  0.331192  0.014831  0.012593         0"
            ]
          },
          "metadata": {
            "tags": []
          },
          "execution_count": 13
        }
      ]
    },
    {
      "cell_type": "markdown",
      "metadata": {
        "id": "kADzm_doHz4j"
      },
      "source": [
        "# Convolution"
      ]
    },
    {
      "cell_type": "markdown",
      "metadata": {
        "id": "gIB0XFY13yQ0"
      },
      "source": [
        "https://machinelearningmastery.com/how-to-develop-convolutional-neural-network-models-for-time-series-forecasting/"
      ]
    },
    {
      "cell_type": "markdown",
      "metadata": {
        "id": "6IoMH7GgKOnv"
      },
      "source": [
        "Prepare Data for Convolution (in progress)"
      ]
    },
    {
      "cell_type": "code",
      "metadata": {
        "id": "3SaX9z9csEwK",
        "outputId": "028785f3-af0c-420c-f1c0-c20677e0e202",
        "colab": {
          "base_uri": "https://localhost:8080/"
        }
      },
      "source": [
        "# split s_data into what the network needs\n",
        "d_data = s_data[['SP','Ford','GM','Tesla','Movement']]\n",
        "X = d_data.iloc[:,0:4]\n",
        "y = d_data.iloc[:,-1]\n",
        "\n",
        "X = np.array(X[:])\n",
        "X"
      ],
      "execution_count": 16,
      "outputs": [
        {
          "output_type": "execute_result",
          "data": {
            "text/plain": [
              "array([[0.04172216, 0.96626984, 0.3409393 , 0.01764909],\n",
              "       [0.04330116, 0.95734127, 0.34027472, 0.01711326],\n",
              "       [0.03444962, 1.        , 0.34647763, 0.01622574],\n",
              "       ...,\n",
              "       [0.9768734 , 0.73809524, 0.86331416, 0.80632503],\n",
              "       [0.99448495, 0.76587302, 0.90141788, 0.83598409],\n",
              "       [0.97689171, 0.78670635, 0.88303059, 0.8071512 ]])"
            ]
          },
          "metadata": {
            "tags": []
          },
          "execution_count": 16
        }
      ]
    },
    {
      "cell_type": "code",
      "metadata": {
        "colab": {
          "base_uri": "https://localhost:8080/",
          "height": 467
        },
        "id": "4anNnoqeKfQg",
        "outputId": "38d77abc-d994-4e67-c4c8-2e15d62c79d1"
      },
      "source": [
        ""
      ],
      "execution_count": 8,
      "outputs": [
        {
          "output_type": "error",
          "ename": "TypeError",
          "evalue": "ignored",
          "traceback": [
            "\u001b[0;31m---------------------------------------------------------------------------\u001b[0m",
            "\u001b[0;31mTypeError\u001b[0m                                 Traceback (most recent call last)",
            "\u001b[0;32m<ipython-input-8-fe22dc005a63>\u001b[0m in \u001b[0;36m<module>\u001b[0;34m()\u001b[0m\n\u001b[1;32m      3\u001b[0m \u001b[0mn_steps\u001b[0m \u001b[0;34m=\u001b[0m \u001b[0;36m1\u001b[0m\u001b[0;34m\u001b[0m\u001b[0;34m\u001b[0m\u001b[0m\n\u001b[1;32m      4\u001b[0m \u001b[0;31m# convert into input/output\u001b[0m\u001b[0;34m\u001b[0m\u001b[0;34m\u001b[0m\u001b[0;34m\u001b[0m\u001b[0m\n\u001b[0;32m----> 5\u001b[0;31m \u001b[0mX\u001b[0m\u001b[0;34m,\u001b[0m \u001b[0my\u001b[0m \u001b[0;34m=\u001b[0m \u001b[0msplit_sequences\u001b[0m\u001b[0;34m(\u001b[0m\u001b[0md_data\u001b[0m\u001b[0;34m,\u001b[0m \u001b[0mn_steps\u001b[0m\u001b[0;34m)\u001b[0m\u001b[0;34m\u001b[0m\u001b[0;34m\u001b[0m\u001b[0m\n\u001b[0m\u001b[1;32m      6\u001b[0m \u001b[0mprint\u001b[0m\u001b[0;34m(\u001b[0m\u001b[0mX\u001b[0m\u001b[0;34m.\u001b[0m\u001b[0mshape\u001b[0m\u001b[0;34m,\u001b[0m \u001b[0my\u001b[0m\u001b[0;34m.\u001b[0m\u001b[0mshape\u001b[0m\u001b[0;34m)\u001b[0m\u001b[0;34m\u001b[0m\u001b[0;34m\u001b[0m\u001b[0m\n\u001b[1;32m      7\u001b[0m \u001b[0;31m# summarize the data\u001b[0m\u001b[0;34m\u001b[0m\u001b[0;34m\u001b[0m\u001b[0;34m\u001b[0m\u001b[0m\n",
            "\u001b[0;32m<ipython-input-4-10edbc752a56>\u001b[0m in \u001b[0;36msplit_sequences\u001b[0;34m(sequences, n_steps)\u001b[0m\n\u001b[1;32m      9\u001b[0m                         \u001b[0;32mbreak\u001b[0m\u001b[0;34m\u001b[0m\u001b[0;34m\u001b[0m\u001b[0m\n\u001b[1;32m     10\u001b[0m                 \u001b[0;31m# gather input and output parts of the pattern\u001b[0m\u001b[0;34m\u001b[0m\u001b[0;34m\u001b[0m\u001b[0;34m\u001b[0m\u001b[0m\n\u001b[0;32m---> 11\u001b[0;31m                 \u001b[0mseq_x\u001b[0m\u001b[0;34m,\u001b[0m \u001b[0mseq_y\u001b[0m \u001b[0;34m=\u001b[0m \u001b[0msequences\u001b[0m\u001b[0;34m[\u001b[0m\u001b[0mi\u001b[0m\u001b[0;34m:\u001b[0m\u001b[0mend_ix\u001b[0m\u001b[0;34m,\u001b[0m \u001b[0;34m:\u001b[0m\u001b[0;34m-\u001b[0m\u001b[0;36m1\u001b[0m\u001b[0;34m]\u001b[0m\u001b[0;34m,\u001b[0m \u001b[0msequences\u001b[0m\u001b[0;34m[\u001b[0m\u001b[0mend_ix\u001b[0m\u001b[0;34m-\u001b[0m\u001b[0;36m1\u001b[0m\u001b[0;34m,\u001b[0m \u001b[0;34m-\u001b[0m\u001b[0;36m1\u001b[0m\u001b[0;34m]\u001b[0m\u001b[0;34m\u001b[0m\u001b[0;34m\u001b[0m\u001b[0m\n\u001b[0m\u001b[1;32m     12\u001b[0m                 \u001b[0mX\u001b[0m\u001b[0;34m.\u001b[0m\u001b[0mappend\u001b[0m\u001b[0;34m(\u001b[0m\u001b[0mseq_x\u001b[0m\u001b[0;34m)\u001b[0m\u001b[0;34m\u001b[0m\u001b[0;34m\u001b[0m\u001b[0m\n\u001b[1;32m     13\u001b[0m                 \u001b[0my\u001b[0m\u001b[0;34m.\u001b[0m\u001b[0mappend\u001b[0m\u001b[0;34m(\u001b[0m\u001b[0mseq_y\u001b[0m\u001b[0;34m)\u001b[0m\u001b[0;34m\u001b[0m\u001b[0;34m\u001b[0m\u001b[0m\n",
            "\u001b[0;32m/usr/local/lib/python3.7/dist-packages/pandas/core/frame.py\u001b[0m in \u001b[0;36m__getitem__\u001b[0;34m(self, key)\u001b[0m\n\u001b[1;32m   2904\u001b[0m             \u001b[0;32mif\u001b[0m \u001b[0mself\u001b[0m\u001b[0;34m.\u001b[0m\u001b[0mcolumns\u001b[0m\u001b[0;34m.\u001b[0m\u001b[0mnlevels\u001b[0m \u001b[0;34m>\u001b[0m \u001b[0;36m1\u001b[0m\u001b[0;34m:\u001b[0m\u001b[0;34m\u001b[0m\u001b[0;34m\u001b[0m\u001b[0m\n\u001b[1;32m   2905\u001b[0m                 \u001b[0;32mreturn\u001b[0m \u001b[0mself\u001b[0m\u001b[0;34m.\u001b[0m\u001b[0m_getitem_multilevel\u001b[0m\u001b[0;34m(\u001b[0m\u001b[0mkey\u001b[0m\u001b[0;34m)\u001b[0m\u001b[0;34m\u001b[0m\u001b[0;34m\u001b[0m\u001b[0m\n\u001b[0;32m-> 2906\u001b[0;31m             \u001b[0mindexer\u001b[0m \u001b[0;34m=\u001b[0m \u001b[0mself\u001b[0m\u001b[0;34m.\u001b[0m\u001b[0mcolumns\u001b[0m\u001b[0;34m.\u001b[0m\u001b[0mget_loc\u001b[0m\u001b[0;34m(\u001b[0m\u001b[0mkey\u001b[0m\u001b[0;34m)\u001b[0m\u001b[0;34m\u001b[0m\u001b[0;34m\u001b[0m\u001b[0m\n\u001b[0m\u001b[1;32m   2907\u001b[0m             \u001b[0;32mif\u001b[0m \u001b[0mis_integer\u001b[0m\u001b[0;34m(\u001b[0m\u001b[0mindexer\u001b[0m\u001b[0;34m)\u001b[0m\u001b[0;34m:\u001b[0m\u001b[0;34m\u001b[0m\u001b[0;34m\u001b[0m\u001b[0m\n\u001b[1;32m   2908\u001b[0m                 \u001b[0mindexer\u001b[0m \u001b[0;34m=\u001b[0m \u001b[0;34m[\u001b[0m\u001b[0mindexer\u001b[0m\u001b[0;34m]\u001b[0m\u001b[0;34m\u001b[0m\u001b[0;34m\u001b[0m\u001b[0m\n",
            "\u001b[0;32m/usr/local/lib/python3.7/dist-packages/pandas/core/indexes/base.py\u001b[0m in \u001b[0;36mget_loc\u001b[0;34m(self, key, method, tolerance)\u001b[0m\n\u001b[1;32m   2896\u001b[0m             \u001b[0mcasted_key\u001b[0m \u001b[0;34m=\u001b[0m \u001b[0mself\u001b[0m\u001b[0;34m.\u001b[0m\u001b[0m_maybe_cast_indexer\u001b[0m\u001b[0;34m(\u001b[0m\u001b[0mkey\u001b[0m\u001b[0;34m)\u001b[0m\u001b[0;34m\u001b[0m\u001b[0;34m\u001b[0m\u001b[0m\n\u001b[1;32m   2897\u001b[0m             \u001b[0;32mtry\u001b[0m\u001b[0;34m:\u001b[0m\u001b[0;34m\u001b[0m\u001b[0;34m\u001b[0m\u001b[0m\n\u001b[0;32m-> 2898\u001b[0;31m                 \u001b[0;32mreturn\u001b[0m \u001b[0mself\u001b[0m\u001b[0;34m.\u001b[0m\u001b[0m_engine\u001b[0m\u001b[0;34m.\u001b[0m\u001b[0mget_loc\u001b[0m\u001b[0;34m(\u001b[0m\u001b[0mcasted_key\u001b[0m\u001b[0;34m)\u001b[0m\u001b[0;34m\u001b[0m\u001b[0;34m\u001b[0m\u001b[0m\n\u001b[0m\u001b[1;32m   2899\u001b[0m             \u001b[0;32mexcept\u001b[0m \u001b[0mKeyError\u001b[0m \u001b[0;32mas\u001b[0m \u001b[0merr\u001b[0m\u001b[0;34m:\u001b[0m\u001b[0;34m\u001b[0m\u001b[0;34m\u001b[0m\u001b[0m\n\u001b[1;32m   2900\u001b[0m                 \u001b[0;32mraise\u001b[0m \u001b[0mKeyError\u001b[0m\u001b[0;34m(\u001b[0m\u001b[0mkey\u001b[0m\u001b[0;34m)\u001b[0m \u001b[0;32mfrom\u001b[0m \u001b[0merr\u001b[0m\u001b[0;34m\u001b[0m\u001b[0;34m\u001b[0m\u001b[0m\n",
            "\u001b[0;32mpandas/_libs/index.pyx\u001b[0m in \u001b[0;36mpandas._libs.index.IndexEngine.get_loc\u001b[0;34m()\u001b[0m\n",
            "\u001b[0;32mpandas/_libs/index.pyx\u001b[0m in \u001b[0;36mpandas._libs.index.IndexEngine.get_loc\u001b[0;34m()\u001b[0m\n",
            "\u001b[0;31mTypeError\u001b[0m: '(slice(0, 1, None), slice(None, -1, None))' is an invalid key"
          ]
        }
      ]
    },
    {
      "cell_type": "code",
      "metadata": {
        "id": "UskBa1WeH5oK"
      },
      "source": [
        "import tensorflow as tf\n",
        "from tensorflow.keras import datasets, layers, models\n",
        "from tensorflow.keras.callbacks import ModelCheckpoint\n",
        "\n",
        "#build\n",
        "model = models.Sequential()\n",
        "model.add(layers.Conv1D(filters=64,kernel_size=10,activation='relu',input_shape=(1,4)))\n",
        "model.add(layers.MaxPooling1D(pool_size=2))\n",
        "model.add(layers.Flatten())\n",
        "model.summary()\n",
        "\n",
        "\n"
      ],
      "execution_count": null,
      "outputs": []
    }
  ]
}