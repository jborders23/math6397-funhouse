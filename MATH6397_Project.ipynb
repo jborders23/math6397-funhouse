{
  "nbformat": 4,
  "nbformat_minor": 0,
  "metadata": {
    "colab": {
      "name": "MATH6397-Project.ipynb",
      "provenance": [],
      "toc_visible": true,
      "authorship_tag": "ABX9TyPdGeSnVS0Bnxd1vTKN8Lnu",
      "include_colab_link": true
    },
    "kernelspec": {
      "display_name": "Python 3",
      "name": "python3"
    },
    "language_info": {
      "name": "python"
    }
  },
  "cells": [
    {
      "cell_type": "markdown",
      "metadata": {
        "id": "view-in-github",
        "colab_type": "text"
      },
      "source": [
        "<a href=\"https://colab.research.google.com/github/jborders23/math6397-funhouse/blob/main/MATH6397_Project.ipynb\" target=\"_parent\"><img src=\"https://colab.research.google.com/assets/colab-badge.svg\" alt=\"Open In Colab\"/></a>"
      ]
    },
    {
      "cell_type": "markdown",
      "metadata": {
        "id": "Jkx1gvhs84TG"
      },
      "source": [
        "# Pre-Processing"
      ]
    },
    {
      "cell_type": "markdown",
      "metadata": {
        "id": "kPcE4bD09FD2"
      },
      "source": [
        "Import & Pre-Process Data"
      ]
    },
    {
      "cell_type": "code",
      "metadata": {
        "id": "uxgUtjtcQYn9"
      },
      "source": [
        "import numpy as np\n",
        "import pandas as pd\n",
        "import matplotlib.pyplot as plt\n",
        "\n",
        "#load data from GitHub\n",
        "tesla = pd.read_csv(\"https://raw.githubusercontent.com/jborders23/math6397-funhouse/master/TSLA.csv\")\n",
        "ford = pd.read_csv(\"https://raw.githubusercontent.com/jborders23/math6397-funhouse/master/F.csv\")\n",
        "gm = pd.read_csv(\"https://raw.githubusercontent.com/jborders23/math6397-funhouse/master/GM.csv\")\n",
        "sp500 = pd.read_excel(\"https://raw.githubusercontent.com/jborders23/math6397-funhouse/master/SP500.xlsx\")\n",
        "#reverse sp500 and reset index\n",
        "sp500 = sp500.iloc[::-1].reset_index(drop=True)\n"
      ],
      "execution_count": 1,
      "outputs": []
    },
    {
      "cell_type": "code",
      "metadata": {
        "id": "xUCoMl9f6UXi",
        "colab": {
          "base_uri": "https://localhost:8080/"
        },
        "outputId": "fa84a616-565b-4aa0-ebbe-c668fe39b310"
      },
      "source": [
        "#keep date and closing price for each security\n",
        "t = tesla.iloc[:,[0,4,7]] #keep 'tomorrow' price for tesla, the target stock\n",
        "f = ford.iloc[:,[0,4]]\n",
        "g = gm.iloc[:,[0,4]]\n",
        "s = sp500.iloc[:,[0,4]]\n",
        "\n",
        "#add column to tesla that equals 1 if tomorrow>close\n",
        "t['Movement'] = np.where(t['Tomorrow'] > t['Close'],1,0)"
      ],
      "execution_count": 2,
      "outputs": [
        {
          "output_type": "stream",
          "text": [
            "/usr/local/lib/python3.7/dist-packages/ipykernel_launcher.py:8: SettingWithCopyWarning: \n",
            "A value is trying to be set on a copy of a slice from a DataFrame.\n",
            "Try using .loc[row_indexer,col_indexer] = value instead\n",
            "\n",
            "See the caveats in the documentation: https://pandas.pydata.org/pandas-docs/stable/user_guide/indexing.html#returning-a-view-versus-a-copy\n",
            "  \n"
          ],
          "name": "stderr"
        }
      ]
    },
    {
      "cell_type": "code",
      "metadata": {
        "colab": {
          "base_uri": "https://localhost:8080/",
          "height": 0
        },
        "id": "lqi3xo5eD01n",
        "outputId": "2444c0ff-3484-429c-848d-75453223f1d0"
      },
      "source": [
        "#concatenate dfs\n",
        "data = pd.concat(objs=[f['Date'],s['Close'],f['Close'],g['Close'],t['Close'],t['Tomorrow'],t['Movement']],axis=1,keys=['Date','SP','Ford','GM','Tesla','Tomorrow','Movement'])\n",
        "#normalize the time series: xi - min(xi)/max(xi) - min(xi)\n",
        "s_data = data #will work with a standardized data frame\n",
        "from sklearn.preprocessing import MinMaxScaler\n",
        "scaler = MinMaxScaler()\n",
        "s_data[['SP','Ford','GM','Tesla','Tomorrow']] = scaler.fit_transform(s_data[['SP','Ford','GM','Tesla','Tomorrow']])\n",
        "s_data.head()"
      ],
      "execution_count": 3,
      "outputs": [
        {
          "output_type": "execute_result",
          "data": {
            "text/html": [
              "<div>\n",
              "<style scoped>\n",
              "    .dataframe tbody tr th:only-of-type {\n",
              "        vertical-align: middle;\n",
              "    }\n",
              "\n",
              "    .dataframe tbody tr th {\n",
              "        vertical-align: top;\n",
              "    }\n",
              "\n",
              "    .dataframe thead th {\n",
              "        text-align: right;\n",
              "    }\n",
              "</style>\n",
              "<table border=\"1\" class=\"dataframe\">\n",
              "  <thead>\n",
              "    <tr style=\"text-align: right;\">\n",
              "      <th></th>\n",
              "      <th>Date</th>\n",
              "      <th>SP</th>\n",
              "      <th>Ford</th>\n",
              "      <th>GM</th>\n",
              "      <th>Tesla</th>\n",
              "      <th>Tomorrow</th>\n",
              "      <th>Movement</th>\n",
              "    </tr>\n",
              "  </thead>\n",
              "  <tbody>\n",
              "    <tr>\n",
              "      <th>0</th>\n",
              "      <td>4/26/2016</td>\n",
              "      <td>0.041722</td>\n",
              "      <td>0.966270</td>\n",
              "      <td>0.340939</td>\n",
              "      <td>0.017649</td>\n",
              "      <td>0.017113</td>\n",
              "      <td>0</td>\n",
              "    </tr>\n",
              "    <tr>\n",
              "      <th>1</th>\n",
              "      <td>4/27/2016</td>\n",
              "      <td>0.043301</td>\n",
              "      <td>0.957341</td>\n",
              "      <td>0.340275</td>\n",
              "      <td>0.017113</td>\n",
              "      <td>0.016226</td>\n",
              "      <td>0</td>\n",
              "    </tr>\n",
              "    <tr>\n",
              "      <th>2</th>\n",
              "      <td>4/28/2016</td>\n",
              "      <td>0.034450</td>\n",
              "      <td>1.000000</td>\n",
              "      <td>0.346478</td>\n",
              "      <td>0.016226</td>\n",
              "      <td>0.014585</td>\n",
              "      <td>0</td>\n",
              "    </tr>\n",
              "    <tr>\n",
              "      <th>3</th>\n",
              "      <td>4/29/2016</td>\n",
              "      <td>0.029639</td>\n",
              "      <td>0.947421</td>\n",
              "      <td>0.332300</td>\n",
              "      <td>0.014585</td>\n",
              "      <td>0.014831</td>\n",
              "      <td>1</td>\n",
              "    </tr>\n",
              "    <tr>\n",
              "      <th>4</th>\n",
              "      <td>5/2/2016</td>\n",
              "      <td>0.037022</td>\n",
              "      <td>0.953373</td>\n",
              "      <td>0.331192</td>\n",
              "      <td>0.014831</td>\n",
              "      <td>0.012593</td>\n",
              "      <td>0</td>\n",
              "    </tr>\n",
              "  </tbody>\n",
              "</table>\n",
              "</div>"
            ],
            "text/plain": [
              "        Date        SP      Ford        GM     Tesla  Tomorrow  Movement\n",
              "0  4/26/2016  0.041722  0.966270  0.340939  0.017649  0.017113         0\n",
              "1  4/27/2016  0.043301  0.957341  0.340275  0.017113  0.016226         0\n",
              "2  4/28/2016  0.034450  1.000000  0.346478  0.016226  0.014585         0\n",
              "3  4/29/2016  0.029639  0.947421  0.332300  0.014585  0.014831         1\n",
              "4   5/2/2016  0.037022  0.953373  0.331192  0.014831  0.012593         0"
            ]
          },
          "metadata": {
            "tags": []
          },
          "execution_count": 3
        }
      ]
    },
    {
      "cell_type": "markdown",
      "metadata": {
        "id": "kADzm_doHz4j"
      },
      "source": [
        "# Convolution"
      ]
    },
    {
      "cell_type": "markdown",
      "metadata": {
        "id": "gIB0XFY13yQ0"
      },
      "source": [
        "https://machinelearningmastery.com/how-to-develop-convolutional-neural-network-models-for-time-series-forecasting/\n",
        "\n",
        "https://github.com/dhwanirc/Image-Classification-with-CNN-RF"
      ]
    },
    {
      "cell_type": "markdown",
      "metadata": {
        "id": "6IoMH7GgKOnv"
      },
      "source": [
        "Prepare Data for Convolution"
      ]
    },
    {
      "cell_type": "code",
      "metadata": {
        "id": "3SaX9z9csEwK"
      },
      "source": [
        "# split s_data into what the network needs\n",
        "d_data = s_data[['SP','Ford','GM','Tesla','Movement']]\n",
        "X = d_data.iloc[:,0:4]\n",
        "y = d_data.iloc[:,-1]\n",
        "#convert X to array\n",
        "X = np.array(X[:])"
      ],
      "execution_count": 4,
      "outputs": []
    },
    {
      "cell_type": "markdown",
      "metadata": {
        "id": "gvYDj5-aWdEg"
      },
      "source": [
        "Train/Test Split: Unsure whether to split randomly\n",
        "or to do standard time series move of first 80% train, last 20% test...right now it's random, can be changed easily."
      ]
    },
    {
      "cell_type": "code",
      "metadata": {
        "id": "hl_oZ_TOWtYc"
      },
      "source": [
        "#train/test split\n",
        "from sklearn.model_selection import train_test_split\n",
        "x_train, x_test, y_train, y_test = train_test_split(X, y, test_size = 0.2)"
      ],
      "execution_count": 5,
      "outputs": []
    },
    {
      "cell_type": "markdown",
      "metadata": {
        "id": "2cBQVY1KXLbk"
      },
      "source": [
        "Building the Model"
      ]
    },
    {
      "cell_type": "code",
      "metadata": {
        "id": "IPq1MAaKXAD-"
      },
      "source": [
        "batch_size = int(round(len(x_train)**0.5,0))\n",
        "num_classes = 2\n",
        "epochs = 100"
      ],
      "execution_count": 7,
      "outputs": []
    },
    {
      "cell_type": "code",
      "metadata": {
        "id": "BNKAIUSbIPVw"
      },
      "source": [
        "#reshape to 3d for convolution network\n",
        "x_train = x_train.reshape(x_train.shape[0],x_train.shape[1], 1)\n",
        "x_test = x_test.reshape(x_test.shape[0],x_test.shape[1], 1)\n",
        "\n",
        "input_shape=(x_train.shape[1], x_train.shape[0]) #gets 4 long rows (4 rows, 1k columns)\n",
        "#gives correct dimension for convolution, flattening, mlp"
      ],
      "execution_count": 68,
      "outputs": []
    },
    {
      "cell_type": "code",
      "metadata": {
        "id": "UskBa1WeH5oK",
        "colab": {
          "base_uri": "https://localhost:8080/"
        },
        "outputId": "b7987611-aef8-4c0c-cb04-c13571da8952"
      },
      "source": [
        "import tensorflow as tf\n",
        "from tensorflow.keras import datasets, layers, models\n",
        "from tensorflow.keras.callbacks import ModelCheckpoint\n",
        "\n",
        "#build\n",
        "model = models.Sequential()\n",
        "model.add(layers.Conv1D(filters=16,kernel_size=10,padding='same',activation='relu',input_shape=input_shape))\n",
        "model.add(layers.MaxPooling1D(pool_size=2))\n",
        "model.add(layers.Conv1D(filters=32,kernel_size=10,padding='same',activation='relu'))\n",
        "model.add(layers.MaxPooling1D(pool_size=2))\n",
        "model.add(layers.Flatten())\n",
        "model.add(layers.Dense(50, activation='relu'))\n",
        "model.add(layers.Dense(2,activation='softmax'))\n",
        "model.summary()\n"
      ],
      "execution_count": 69,
      "outputs": [
        {
          "output_type": "stream",
          "text": [
            "Model: \"sequential_17\"\n",
            "_________________________________________________________________\n",
            "Layer (type)                 Output Shape              Param #   \n",
            "=================================================================\n",
            "conv1d_33 (Conv1D)           (None, 1005, 16)          656       \n",
            "_________________________________________________________________\n",
            "max_pooling1d_33 (MaxPooling (None, 502, 16)           0         \n",
            "_________________________________________________________________\n",
            "conv1d_34 (Conv1D)           (None, 502, 32)           5152      \n",
            "_________________________________________________________________\n",
            "max_pooling1d_34 (MaxPooling (None, 251, 32)           0         \n",
            "_________________________________________________________________\n",
            "flatten_16 (Flatten)         (None, 8032)              0         \n",
            "_________________________________________________________________\n",
            "dense_32 (Dense)             (None, 50)                401650    \n",
            "_________________________________________________________________\n",
            "dense_33 (Dense)             (None, 2)                 102       \n",
            "=================================================================\n",
            "Total params: 407,560\n",
            "Trainable params: 407,560\n",
            "Non-trainable params: 0\n",
            "_________________________________________________________________\n"
          ],
          "name": "stdout"
        }
      ]
    },
    {
      "cell_type": "code",
      "metadata": {
        "id": "DmLshdsnGz76",
        "outputId": "be01ccb6-265b-431b-8111-6f37b03708d5",
        "colab": {
          "base_uri": "https://localhost:8080/",
          "height": 449
        }
      },
      "source": [
        "#fit model to get optimized CNN parameters\n",
        "checkpointer = ModelCheckpoint('does mlp work?', monitor='val_accuracy', save_best_only=True)\n",
        "model.compile(optimizer='adam', loss=tf.keras.losses.CategoricalCrossentropy(from_logits=True), metrics=['accuracy'])\n",
        "monitor = model.fit(x_train, tf.one_hot(pd.Series(y_train,dtype='category').astype('category').cat.codes,2), epochs=epochs, batch_size= batch_size,\n",
        "                    validation_data=(x_test, tf.one_hot(pd.Series(y_test, dtype='category').astype('category').cat.codes,2)), callbacks=[checkpointer])\n"
      ],
      "execution_count": 70,
      "outputs": [
        {
          "output_type": "error",
          "ename": "ValueError",
          "evalue": "ignored",
          "traceback": [
            "\u001b[0;31m---------------------------------------------------------------------------\u001b[0m",
            "\u001b[0;31mValueError\u001b[0m                                Traceback (most recent call last)",
            "\u001b[0;32m<ipython-input-70-ec1972522632>\u001b[0m in \u001b[0;36m<module>\u001b[0;34m()\u001b[0m\n\u001b[1;32m      3\u001b[0m \u001b[0mmodel\u001b[0m\u001b[0;34m.\u001b[0m\u001b[0mcompile\u001b[0m\u001b[0;34m(\u001b[0m\u001b[0moptimizer\u001b[0m\u001b[0;34m=\u001b[0m\u001b[0;34m'adam'\u001b[0m\u001b[0;34m,\u001b[0m \u001b[0mloss\u001b[0m\u001b[0;34m=\u001b[0m\u001b[0mtf\u001b[0m\u001b[0;34m.\u001b[0m\u001b[0mkeras\u001b[0m\u001b[0;34m.\u001b[0m\u001b[0mlosses\u001b[0m\u001b[0;34m.\u001b[0m\u001b[0mCategoricalCrossentropy\u001b[0m\u001b[0;34m(\u001b[0m\u001b[0mfrom_logits\u001b[0m\u001b[0;34m=\u001b[0m\u001b[0;32mTrue\u001b[0m\u001b[0;34m)\u001b[0m\u001b[0;34m,\u001b[0m \u001b[0mmetrics\u001b[0m\u001b[0;34m=\u001b[0m\u001b[0;34m[\u001b[0m\u001b[0;34m'accuracy'\u001b[0m\u001b[0;34m]\u001b[0m\u001b[0;34m)\u001b[0m\u001b[0;34m\u001b[0m\u001b[0;34m\u001b[0m\u001b[0m\n\u001b[1;32m      4\u001b[0m monitor = model.fit(x_train, tf.one_hot(pd.Series(y_train,dtype='category').astype('category').cat.codes,2), epochs=epochs, batch_size= batch_size,\n\u001b[0;32m----> 5\u001b[0;31m                     validation_data=(x_test, tf.one_hot(pd.Series(y_test, dtype='category').astype('category').cat.codes,2)), callbacks=[checkpointer])\n\u001b[0m",
            "\u001b[0;32m/usr/local/lib/python3.7/dist-packages/tensorflow/python/keras/engine/training.py\u001b[0m in \u001b[0;36mfit\u001b[0;34m(self, x, y, batch_size, epochs, verbose, callbacks, validation_split, validation_data, shuffle, class_weight, sample_weight, initial_epoch, steps_per_epoch, validation_steps, validation_batch_size, validation_freq, max_queue_size, workers, use_multiprocessing)\u001b[0m\n\u001b[1;32m   1062\u001b[0m           \u001b[0muse_multiprocessing\u001b[0m\u001b[0;34m=\u001b[0m\u001b[0muse_multiprocessing\u001b[0m\u001b[0;34m,\u001b[0m\u001b[0;34m\u001b[0m\u001b[0;34m\u001b[0m\u001b[0m\n\u001b[1;32m   1063\u001b[0m           \u001b[0mmodel\u001b[0m\u001b[0;34m=\u001b[0m\u001b[0mself\u001b[0m\u001b[0;34m,\u001b[0m\u001b[0;34m\u001b[0m\u001b[0;34m\u001b[0m\u001b[0m\n\u001b[0;32m-> 1064\u001b[0;31m           steps_per_execution=self._steps_per_execution)\n\u001b[0m\u001b[1;32m   1065\u001b[0m \u001b[0;34m\u001b[0m\u001b[0m\n\u001b[1;32m   1066\u001b[0m       \u001b[0;31m# Container that configures and calls `tf.keras.Callback`s.\u001b[0m\u001b[0;34m\u001b[0m\u001b[0;34m\u001b[0m\u001b[0;34m\u001b[0m\u001b[0m\n",
            "\u001b[0;32m/usr/local/lib/python3.7/dist-packages/tensorflow/python/keras/engine/data_adapter.py\u001b[0m in \u001b[0;36m__init__\u001b[0;34m(self, x, y, sample_weight, batch_size, steps_per_epoch, initial_epoch, epochs, shuffle, class_weight, max_queue_size, workers, use_multiprocessing, model, steps_per_execution)\u001b[0m\n\u001b[1;32m   1110\u001b[0m         \u001b[0muse_multiprocessing\u001b[0m\u001b[0;34m=\u001b[0m\u001b[0muse_multiprocessing\u001b[0m\u001b[0;34m,\u001b[0m\u001b[0;34m\u001b[0m\u001b[0;34m\u001b[0m\u001b[0m\n\u001b[1;32m   1111\u001b[0m         \u001b[0mdistribution_strategy\u001b[0m\u001b[0;34m=\u001b[0m\u001b[0mds_context\u001b[0m\u001b[0;34m.\u001b[0m\u001b[0mget_strategy\u001b[0m\u001b[0;34m(\u001b[0m\u001b[0;34m)\u001b[0m\u001b[0;34m,\u001b[0m\u001b[0;34m\u001b[0m\u001b[0;34m\u001b[0m\u001b[0m\n\u001b[0;32m-> 1112\u001b[0;31m         model=model)\n\u001b[0m\u001b[1;32m   1113\u001b[0m \u001b[0;34m\u001b[0m\u001b[0m\n\u001b[1;32m   1114\u001b[0m     \u001b[0mstrategy\u001b[0m \u001b[0;34m=\u001b[0m \u001b[0mds_context\u001b[0m\u001b[0;34m.\u001b[0m\u001b[0mget_strategy\u001b[0m\u001b[0;34m(\u001b[0m\u001b[0;34m)\u001b[0m\u001b[0;34m\u001b[0m\u001b[0;34m\u001b[0m\u001b[0m\n",
            "\u001b[0;32m/usr/local/lib/python3.7/dist-packages/tensorflow/python/keras/engine/data_adapter.py\u001b[0m in \u001b[0;36m__init__\u001b[0;34m(self, x, y, sample_weights, sample_weight_modes, batch_size, epochs, steps, shuffle, **kwargs)\u001b[0m\n\u001b[1;32m    272\u001b[0m \u001b[0;34m\u001b[0m\u001b[0m\n\u001b[1;32m    273\u001b[0m     \u001b[0mnum_samples\u001b[0m \u001b[0;34m=\u001b[0m \u001b[0mset\u001b[0m\u001b[0;34m(\u001b[0m\u001b[0mint\u001b[0m\u001b[0;34m(\u001b[0m\u001b[0mi\u001b[0m\u001b[0;34m.\u001b[0m\u001b[0mshape\u001b[0m\u001b[0;34m[\u001b[0m\u001b[0;36m0\u001b[0m\u001b[0;34m]\u001b[0m\u001b[0;34m)\u001b[0m \u001b[0;32mfor\u001b[0m \u001b[0mi\u001b[0m \u001b[0;32min\u001b[0m \u001b[0mnest\u001b[0m\u001b[0;34m.\u001b[0m\u001b[0mflatten\u001b[0m\u001b[0;34m(\u001b[0m\u001b[0minputs\u001b[0m\u001b[0;34m)\u001b[0m\u001b[0;34m)\u001b[0m\u001b[0;34m.\u001b[0m\u001b[0mpop\u001b[0m\u001b[0;34m(\u001b[0m\u001b[0;34m)\u001b[0m\u001b[0;34m\u001b[0m\u001b[0;34m\u001b[0m\u001b[0m\n\u001b[0;32m--> 274\u001b[0;31m     \u001b[0m_check_data_cardinality\u001b[0m\u001b[0;34m(\u001b[0m\u001b[0minputs\u001b[0m\u001b[0;34m)\u001b[0m\u001b[0;34m\u001b[0m\u001b[0;34m\u001b[0m\u001b[0m\n\u001b[0m\u001b[1;32m    275\u001b[0m \u001b[0;34m\u001b[0m\u001b[0m\n\u001b[1;32m    276\u001b[0m     \u001b[0;31m# If batch_size is not passed but steps is, calculate from the input data.\u001b[0m\u001b[0;34m\u001b[0m\u001b[0;34m\u001b[0m\u001b[0;34m\u001b[0m\u001b[0m\n",
            "\u001b[0;32m/usr/local/lib/python3.7/dist-packages/tensorflow/python/keras/engine/data_adapter.py\u001b[0m in \u001b[0;36m_check_data_cardinality\u001b[0;34m(data)\u001b[0m\n\u001b[1;32m   1527\u001b[0m           label, \", \".join(str(i.shape[0]) for i in nest.flatten(single_data)))\n\u001b[1;32m   1528\u001b[0m     \u001b[0mmsg\u001b[0m \u001b[0;34m+=\u001b[0m \u001b[0;34m\"Make sure all arrays contain the same number of samples.\"\u001b[0m\u001b[0;34m\u001b[0m\u001b[0;34m\u001b[0m\u001b[0m\n\u001b[0;32m-> 1529\u001b[0;31m     \u001b[0;32mraise\u001b[0m \u001b[0mValueError\u001b[0m\u001b[0;34m(\u001b[0m\u001b[0mmsg\u001b[0m\u001b[0;34m)\u001b[0m\u001b[0;34m\u001b[0m\u001b[0;34m\u001b[0m\u001b[0m\n\u001b[0m\u001b[1;32m   1530\u001b[0m \u001b[0;34m\u001b[0m\u001b[0m\n\u001b[1;32m   1531\u001b[0m \u001b[0;34m\u001b[0m\u001b[0m\n",
            "\u001b[0;31mValueError\u001b[0m: Data cardinality is ambiguous:\n  x sizes: 4\n  y sizes: 1005\nMake sure all arrays contain the same number of samples."
          ]
        }
      ]
    },
    {
      "cell_type": "markdown",
      "metadata": {
        "id": "IvFJbIAheD_r"
      },
      "source": [
        "extract first dense layer's inputs, send to random forest"
      ]
    },
    {
      "cell_type": "code",
      "metadata": {
        "id": "ZiIhVg3Teav8"
      },
      "source": [
        ""
      ],
      "execution_count": null,
      "outputs": []
    }
  ]
}