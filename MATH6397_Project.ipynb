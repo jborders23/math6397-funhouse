{
  "nbformat": 4,
  "nbformat_minor": 0,
  "metadata": {
    "colab": {
      "name": "MATH6397-Project.ipynb",
      "provenance": [],
      "toc_visible": true,
      "authorship_tag": "ABX9TyPduKr8DfSrdkt9CKvTDzGD",
      "include_colab_link": true
    },
    "kernelspec": {
      "display_name": "Python 3",
      "name": "python3"
    },
    "language_info": {
      "name": "python"
    }
  },
  "cells": [
    {
      "cell_type": "markdown",
      "metadata": {
        "id": "view-in-github",
        "colab_type": "text"
      },
      "source": [
        "<a href=\"https://colab.research.google.com/github/jborders23/math6397-funhouse/blob/main/MATH6397_Project.ipynb\" target=\"_parent\"><img src=\"https://colab.research.google.com/assets/colab-badge.svg\" alt=\"Open In Colab\"/></a>"
      ]
    },
    {
      "cell_type": "markdown",
      "metadata": {
        "id": "Jkx1gvhs84TG"
      },
      "source": [
        "# Pre-Processing"
      ]
    },
    {
      "cell_type": "markdown",
      "metadata": {
        "id": "kPcE4bD09FD2"
      },
      "source": [
        "Import & Pre-Process Data"
      ]
    },
    {
      "cell_type": "code",
      "metadata": {
        "id": "uxgUtjtcQYn9"
      },
      "source": [
        "import numpy as np\n",
        "import pandas as pd\n",
        "import matplotlib.pyplot as plt\n",
        "\n",
        "#load data from GitHub\n",
        "tesla = pd.read_csv(\"https://raw.githubusercontent.com/jborders23/math6397-funhouse/master/TSLA.csv\")\n",
        "ford = pd.read_csv(\"https://raw.githubusercontent.com/jborders23/math6397-funhouse/master/F.csv\")\n",
        "gm = pd.read_csv(\"https://raw.githubusercontent.com/jborders23/math6397-funhouse/master/GM.csv\")\n",
        "sp500 = pd.read_excel(\"https://raw.githubusercontent.com/jborders23/math6397-funhouse/master/SP500.xlsx\")\n",
        "#reverse sp500 and reset index\n",
        "sp500 = sp500.iloc[::-1].reset_index(drop=True)\n"
      ],
      "execution_count": 2,
      "outputs": []
    },
    {
      "cell_type": "code",
      "metadata": {
        "id": "xUCoMl9f6UXi",
        "colab": {
          "base_uri": "https://localhost:8080/"
        },
        "outputId": "5fb82d02-9a7d-46c6-e3fb-4f2341ea4e03"
      },
      "source": [
        "#keep date and closing price for each security\n",
        "t = tesla.iloc[:,[0,4,7]] #keep 'tomorrow' price for tesla, the target stock\n",
        "f = ford.iloc[:,[0,4]]\n",
        "g = gm.iloc[:,[0,4]]\n",
        "s = sp500.iloc[:,[0,4]]\n",
        "\n",
        "#add column to tesla that equals 1 if tomorrow>close\n",
        "t['Movement'] = np.where(t['Tomorrow'] > t['Close'],1,0)"
      ],
      "execution_count": 3,
      "outputs": [
        {
          "output_type": "stream",
          "text": [
            "/usr/local/lib/python3.7/dist-packages/ipykernel_launcher.py:8: SettingWithCopyWarning: \n",
            "A value is trying to be set on a copy of a slice from a DataFrame.\n",
            "Try using .loc[row_indexer,col_indexer] = value instead\n",
            "\n",
            "See the caveats in the documentation: https://pandas.pydata.org/pandas-docs/stable/user_guide/indexing.html#returning-a-view-versus-a-copy\n",
            "  \n"
          ],
          "name": "stderr"
        }
      ]
    },
    {
      "cell_type": "code",
      "metadata": {
        "colab": {
          "base_uri": "https://localhost:8080/",
          "height": 0
        },
        "id": "lqi3xo5eD01n",
        "outputId": "931847e7-e265-4660-c494-58a843cdccc7"
      },
      "source": [
        "#concatenate dfs\n",
        "data = pd.concat(objs=[f['Date'],s['Close'],f['Close'],g['Close'],t['Close'],t['Tomorrow'],t['Movement']],axis=1,keys=['Date','SP','Ford','GM','Tesla','Tomorrow','Movement'])\n",
        "#normalize the time series: xi - min(xi)/max(xi) - min(xi)\n",
        "s_data = data #will work with a standardized data frame\n",
        "from sklearn.preprocessing import MinMaxScaler\n",
        "scaler = MinMaxScaler()\n",
        "s_data[['SP','Ford','GM','Tesla','Tomorrow']] = scaler.fit_transform(s_data[['SP','Ford','GM','Tesla','Tomorrow']])\n",
        "s_data.head()"
      ],
      "execution_count": 4,
      "outputs": [
        {
          "output_type": "execute_result",
          "data": {
            "text/html": [
              "<div>\n",
              "<style scoped>\n",
              "    .dataframe tbody tr th:only-of-type {\n",
              "        vertical-align: middle;\n",
              "    }\n",
              "\n",
              "    .dataframe tbody tr th {\n",
              "        vertical-align: top;\n",
              "    }\n",
              "\n",
              "    .dataframe thead th {\n",
              "        text-align: right;\n",
              "    }\n",
              "</style>\n",
              "<table border=\"1\" class=\"dataframe\">\n",
              "  <thead>\n",
              "    <tr style=\"text-align: right;\">\n",
              "      <th></th>\n",
              "      <th>Date</th>\n",
              "      <th>SP</th>\n",
              "      <th>Ford</th>\n",
              "      <th>GM</th>\n",
              "      <th>Tesla</th>\n",
              "      <th>Tomorrow</th>\n",
              "      <th>Movement</th>\n",
              "    </tr>\n",
              "  </thead>\n",
              "  <tbody>\n",
              "    <tr>\n",
              "      <th>0</th>\n",
              "      <td>4/26/2016</td>\n",
              "      <td>0.041722</td>\n",
              "      <td>0.966270</td>\n",
              "      <td>0.340939</td>\n",
              "      <td>0.017649</td>\n",
              "      <td>0.017113</td>\n",
              "      <td>0</td>\n",
              "    </tr>\n",
              "    <tr>\n",
              "      <th>1</th>\n",
              "      <td>4/27/2016</td>\n",
              "      <td>0.043301</td>\n",
              "      <td>0.957341</td>\n",
              "      <td>0.340275</td>\n",
              "      <td>0.017113</td>\n",
              "      <td>0.016226</td>\n",
              "      <td>0</td>\n",
              "    </tr>\n",
              "    <tr>\n",
              "      <th>2</th>\n",
              "      <td>4/28/2016</td>\n",
              "      <td>0.034450</td>\n",
              "      <td>1.000000</td>\n",
              "      <td>0.346478</td>\n",
              "      <td>0.016226</td>\n",
              "      <td>0.014585</td>\n",
              "      <td>0</td>\n",
              "    </tr>\n",
              "    <tr>\n",
              "      <th>3</th>\n",
              "      <td>4/29/2016</td>\n",
              "      <td>0.029639</td>\n",
              "      <td>0.947421</td>\n",
              "      <td>0.332300</td>\n",
              "      <td>0.014585</td>\n",
              "      <td>0.014831</td>\n",
              "      <td>1</td>\n",
              "    </tr>\n",
              "    <tr>\n",
              "      <th>4</th>\n",
              "      <td>5/2/2016</td>\n",
              "      <td>0.037022</td>\n",
              "      <td>0.953373</td>\n",
              "      <td>0.331192</td>\n",
              "      <td>0.014831</td>\n",
              "      <td>0.012593</td>\n",
              "      <td>0</td>\n",
              "    </tr>\n",
              "  </tbody>\n",
              "</table>\n",
              "</div>"
            ],
            "text/plain": [
              "        Date        SP      Ford        GM     Tesla  Tomorrow  Movement\n",
              "0  4/26/2016  0.041722  0.966270  0.340939  0.017649  0.017113         0\n",
              "1  4/27/2016  0.043301  0.957341  0.340275  0.017113  0.016226         0\n",
              "2  4/28/2016  0.034450  1.000000  0.346478  0.016226  0.014585         0\n",
              "3  4/29/2016  0.029639  0.947421  0.332300  0.014585  0.014831         1\n",
              "4   5/2/2016  0.037022  0.953373  0.331192  0.014831  0.012593         0"
            ]
          },
          "metadata": {
            "tags": []
          },
          "execution_count": 4
        }
      ]
    },
    {
      "cell_type": "markdown",
      "metadata": {
        "id": "kADzm_doHz4j"
      },
      "source": [
        "# Convolution"
      ]
    },
    {
      "cell_type": "markdown",
      "metadata": {
        "id": "gIB0XFY13yQ0"
      },
      "source": [
        "https://machinelearningmastery.com/how-to-develop-convolutional-neural-network-models-for-time-series-forecasting/"
      ]
    },
    {
      "cell_type": "markdown",
      "metadata": {
        "id": "6IoMH7GgKOnv"
      },
      "source": [
        "Prepare Data for Convolution"
      ]
    },
    {
      "cell_type": "code",
      "metadata": {
        "id": "3SaX9z9csEwK"
      },
      "source": [
        "# split s_data into what the network needs\n",
        "d_data = s_data[['SP','Ford','GM','Tesla','Movement']]\n",
        "X = d_data.iloc[:,0:4]\n",
        "y = d_data.iloc[:,-1]\n",
        "#convert X to array\n",
        "X = np.array(X[:])"
      ],
      "execution_count": 5,
      "outputs": []
    },
    {
      "cell_type": "markdown",
      "metadata": {
        "id": "gvYDj5-aWdEg"
      },
      "source": [
        "Train/Test Split: Unsure whether to split randomly\n",
        "or to do standard time series move of first 80% train, last 20% test...right now it's random, can be changed easily."
      ]
    },
    {
      "cell_type": "code",
      "metadata": {
        "id": "hl_oZ_TOWtYc"
      },
      "source": [
        "#train/test split\n",
        "from sklearn.model_selection import train_test_split\n",
        "x_train, x_test, y_train, y_test = train_test_split(X, y, test_size = 0.2)"
      ],
      "execution_count": null,
      "outputs": []
    },
    {
      "cell_type": "code",
      "metadata": {
        "colab": {
          "base_uri": "https://localhost:8080/"
        },
        "id": "4anNnoqeKfQg",
        "outputId": "0ba03733-f6fb-4131-b4ed-91a74e713683"
      },
      "source": [
        "#reshape to 3d for convolution network\n",
        "x_train = x_train.reshape(x_train.shape[0],x_train.shape[1], 1)\n",
        "x_test = x_test.reshape(x_test.shape[0],x_test.shape[1], 1)"
      ],
      "execution_count": 7,
      "outputs": [
        {
          "output_type": "execute_result",
          "data": {
            "text/plain": [
              "764     0\n",
              "1155    1\n",
              "831     0\n",
              "1132    0\n",
              "582     0\n",
              "       ..\n",
              "704     0\n",
              "597     1\n",
              "411     1\n",
              "1195    1\n",
              "613     0\n",
              "Name: Movement, Length: 1005, dtype: int64"
            ]
          },
          "metadata": {
            "tags": []
          },
          "execution_count": 7
        }
      ]
    },
    {
      "cell_type": "markdown",
      "metadata": {
        "id": "2cBQVY1KXLbk"
      },
      "source": [
        "Building the Model"
      ]
    },
    {
      "cell_type": "code",
      "metadata": {
        "id": "IPq1MAaKXAD-"
      },
      "source": [
        "batch_size = int(round(len(x_train)**0.5,0))\n",
        "num_classes = 2\n",
        "epochs = 100\n",
        "input_shape=(x_train.shape[1], 1)"
      ],
      "execution_count": 19,
      "outputs": []
    },
    {
      "cell_type": "code",
      "metadata": {
        "id": "UskBa1WeH5oK",
        "colab": {
          "base_uri": "https://localhost:8080/"
        },
        "outputId": "5af0fc9c-7ac2-4d2c-c125-76e391587bcf"
      },
      "source": [
        "import tensorflow as tf\n",
        "from tensorflow.keras import datasets, layers, models\n",
        "from tensorflow.keras.callbacks import ModelCheckpoint\n",
        "\n",
        "#build\n",
        "model = models.Sequential()\n",
        "model.add(layers.Conv1D(filters=64,kernel_size=10,padding='same',activation='relu',input_shape=input_shape))\n",
        "model.add(layers.MaxPooling1D(pool_size=2))\n",
        "model.add(layers.Conv1D(filters=64,kernel_size=10,padding='same',activation='relu'))\n",
        "model.add(layers.MaxPooling1D(pool_size=2))\n",
        "model.add(layers.Flatten())\n",
        "#check to see if a normal mlp 'works'\n",
        "model.add(layers.Dense(50, activation='relu'))\n",
        "model.add(layers.Dense(2,activation='softmax'))\n",
        "checkpointer = ModelCheckpoint('does mlp work?', monitor='val_accuracy', save_best_only=True)\n",
        "model.compile(optimizer='adam', loss=tf.keras.losses.CategoricalCrossentropy(from_logits=True), metrics=['accuracy'])\n",
        "monitor = model.fit(x_train, tf.one_hot(pd.Series(y_train,dtype='category').astype('category').cat.codes,2), epochs=100, batch_size= batch_size,\n",
        "                    validation_data=(x_test, tf.one_hot(pd.Series(y_test, dtype='category').astype('category').cat.codes,2)), callbacks=[checkpointer])\n"
      ],
      "execution_count": 20,
      "outputs": [
        {
          "output_type": "stream",
          "text": [
            "Epoch 1/100\n",
            "32/32 [==============================] - 1s 13ms/step - loss: 0.6932 - accuracy: 0.4931 - val_loss: 0.6899 - val_accuracy: 0.5397\n",
            "INFO:tensorflow:Assets written to: does mlp work?/assets\n",
            "Epoch 2/100\n",
            "32/32 [==============================] - 0s 5ms/step - loss: 0.6927 - accuracy: 0.5207 - val_loss: 0.6914 - val_accuracy: 0.5397\n",
            "Epoch 3/100\n",
            "32/32 [==============================] - 0s 5ms/step - loss: 0.6923 - accuracy: 0.5302 - val_loss: 0.6920 - val_accuracy: 0.5198\n",
            "Epoch 4/100\n",
            "32/32 [==============================] - 0s 6ms/step - loss: 0.6918 - accuracy: 0.5033 - val_loss: 0.6903 - val_accuracy: 0.5397\n",
            "Epoch 5/100\n",
            "32/32 [==============================] - 0s 5ms/step - loss: 0.6925 - accuracy: 0.4962 - val_loss: 0.6908 - val_accuracy: 0.5397\n",
            "Epoch 6/100\n",
            "32/32 [==============================] - 0s 6ms/step - loss: 0.6922 - accuracy: 0.5121 - val_loss: 0.6909 - val_accuracy: 0.4722\n",
            "Epoch 7/100\n",
            "32/32 [==============================] - 0s 5ms/step - loss: 0.6910 - accuracy: 0.4994 - val_loss: 0.6900 - val_accuracy: 0.5397\n",
            "Epoch 8/100\n",
            "32/32 [==============================] - 0s 5ms/step - loss: 0.6918 - accuracy: 0.4904 - val_loss: 0.6905 - val_accuracy: 0.5079\n",
            "Epoch 9/100\n",
            "32/32 [==============================] - 0s 5ms/step - loss: 0.6927 - accuracy: 0.5080 - val_loss: 0.6900 - val_accuracy: 0.5159\n",
            "Epoch 10/100\n",
            "32/32 [==============================] - 0s 5ms/step - loss: 0.6929 - accuracy: 0.5204 - val_loss: 0.6909 - val_accuracy: 0.5238\n",
            "Epoch 11/100\n",
            "32/32 [==============================] - 0s 5ms/step - loss: 0.6901 - accuracy: 0.5416 - val_loss: 0.6901 - val_accuracy: 0.5119\n",
            "Epoch 12/100\n",
            "32/32 [==============================] - 0s 6ms/step - loss: 0.6930 - accuracy: 0.4902 - val_loss: 0.6904 - val_accuracy: 0.5278\n",
            "Epoch 13/100\n",
            "32/32 [==============================] - 0s 6ms/step - loss: 0.6900 - accuracy: 0.5209 - val_loss: 0.6908 - val_accuracy: 0.5159\n",
            "Epoch 14/100\n",
            "32/32 [==============================] - 0s 6ms/step - loss: 0.6931 - accuracy: 0.5160 - val_loss: 0.6900 - val_accuracy: 0.5119\n",
            "Epoch 15/100\n",
            "32/32 [==============================] - 0s 6ms/step - loss: 0.6916 - accuracy: 0.5175 - val_loss: 0.6902 - val_accuracy: 0.5159\n",
            "Epoch 16/100\n",
            "32/32 [==============================] - 0s 6ms/step - loss: 0.6931 - accuracy: 0.5145 - val_loss: 0.6896 - val_accuracy: 0.5317\n",
            "Epoch 17/100\n",
            "32/32 [==============================] - 0s 6ms/step - loss: 0.6901 - accuracy: 0.5321 - val_loss: 0.6903 - val_accuracy: 0.5079\n",
            "Epoch 18/100\n",
            "32/32 [==============================] - 0s 6ms/step - loss: 0.6894 - accuracy: 0.5461 - val_loss: 0.6906 - val_accuracy: 0.5040\n",
            "Epoch 19/100\n",
            "32/32 [==============================] - 0s 6ms/step - loss: 0.6911 - accuracy: 0.5093 - val_loss: 0.6902 - val_accuracy: 0.5000\n",
            "Epoch 20/100\n",
            "32/32 [==============================] - 0s 6ms/step - loss: 0.6907 - accuracy: 0.5202 - val_loss: 0.6903 - val_accuracy: 0.4960\n",
            "Epoch 21/100\n",
            "32/32 [==============================] - 0s 5ms/step - loss: 0.6906 - accuracy: 0.5203 - val_loss: 0.6903 - val_accuracy: 0.5119\n",
            "Epoch 22/100\n",
            "32/32 [==============================] - 0s 6ms/step - loss: 0.6910 - accuracy: 0.5099 - val_loss: 0.6912 - val_accuracy: 0.5040\n",
            "Epoch 23/100\n",
            "32/32 [==============================] - 0s 6ms/step - loss: 0.6903 - accuracy: 0.5346 - val_loss: 0.6912 - val_accuracy: 0.5079\n",
            "Epoch 24/100\n",
            "32/32 [==============================] - 0s 6ms/step - loss: 0.6900 - accuracy: 0.5157 - val_loss: 0.6914 - val_accuracy: 0.4960\n",
            "Epoch 25/100\n",
            "32/32 [==============================] - 0s 5ms/step - loss: 0.6909 - accuracy: 0.5095 - val_loss: 0.6908 - val_accuracy: 0.5040\n",
            "Epoch 26/100\n",
            "32/32 [==============================] - 0s 5ms/step - loss: 0.6867 - accuracy: 0.5323 - val_loss: 0.6925 - val_accuracy: 0.5119\n",
            "Epoch 27/100\n",
            "32/32 [==============================] - 0s 5ms/step - loss: 0.6888 - accuracy: 0.5472 - val_loss: 0.6901 - val_accuracy: 0.5079\n",
            "Epoch 28/100\n",
            "32/32 [==============================] - 0s 5ms/step - loss: 0.6923 - accuracy: 0.5213 - val_loss: 0.6902 - val_accuracy: 0.5238\n",
            "Epoch 29/100\n",
            "32/32 [==============================] - 0s 4ms/step - loss: 0.6875 - accuracy: 0.5623 - val_loss: 0.6927 - val_accuracy: 0.5119\n",
            "Epoch 30/100\n",
            "32/32 [==============================] - 0s 5ms/step - loss: 0.6926 - accuracy: 0.5308 - val_loss: 0.6901 - val_accuracy: 0.5278\n",
            "Epoch 31/100\n",
            "32/32 [==============================] - 0s 5ms/step - loss: 0.6902 - accuracy: 0.5379 - val_loss: 0.6913 - val_accuracy: 0.4881\n",
            "Epoch 32/100\n",
            "32/32 [==============================] - 0s 5ms/step - loss: 0.6910 - accuracy: 0.5172 - val_loss: 0.6907 - val_accuracy: 0.4762\n",
            "Epoch 33/100\n",
            "32/32 [==============================] - 0s 5ms/step - loss: 0.6911 - accuracy: 0.5170 - val_loss: 0.6918 - val_accuracy: 0.4960\n",
            "Epoch 34/100\n",
            "32/32 [==============================] - 0s 6ms/step - loss: 0.6906 - accuracy: 0.5304 - val_loss: 0.6914 - val_accuracy: 0.4802\n",
            "Epoch 35/100\n",
            "32/32 [==============================] - 0s 5ms/step - loss: 0.6908 - accuracy: 0.5086 - val_loss: 0.6906 - val_accuracy: 0.5476\n",
            "INFO:tensorflow:Assets written to: does mlp work?/assets\n",
            "Epoch 36/100\n",
            "32/32 [==============================] - 0s 7ms/step - loss: 0.6912 - accuracy: 0.5334 - val_loss: 0.6908 - val_accuracy: 0.5357\n",
            "Epoch 37/100\n",
            "32/32 [==============================] - 0s 7ms/step - loss: 0.6877 - accuracy: 0.5314 - val_loss: 0.6918 - val_accuracy: 0.4762\n",
            "Epoch 38/100\n",
            "32/32 [==============================] - 0s 5ms/step - loss: 0.6878 - accuracy: 0.5504 - val_loss: 0.6914 - val_accuracy: 0.4802\n",
            "Epoch 39/100\n",
            "32/32 [==============================] - 0s 5ms/step - loss: 0.6904 - accuracy: 0.5251 - val_loss: 0.6908 - val_accuracy: 0.5317\n",
            "Epoch 40/100\n",
            "32/32 [==============================] - 0s 5ms/step - loss: 0.6884 - accuracy: 0.4983 - val_loss: 0.6902 - val_accuracy: 0.5357\n",
            "Epoch 41/100\n",
            "32/32 [==============================] - 0s 5ms/step - loss: 0.6882 - accuracy: 0.5413 - val_loss: 0.6914 - val_accuracy: 0.4841\n",
            "Epoch 42/100\n",
            "32/32 [==============================] - 0s 4ms/step - loss: 0.6908 - accuracy: 0.5047 - val_loss: 0.6919 - val_accuracy: 0.5357\n",
            "Epoch 43/100\n",
            "32/32 [==============================] - 0s 5ms/step - loss: 0.6936 - accuracy: 0.5240 - val_loss: 0.6916 - val_accuracy: 0.4802\n",
            "Epoch 44/100\n",
            "32/32 [==============================] - 0s 5ms/step - loss: 0.6898 - accuracy: 0.4981 - val_loss: 0.6929 - val_accuracy: 0.4841\n",
            "Epoch 45/100\n",
            "32/32 [==============================] - 0s 5ms/step - loss: 0.6872 - accuracy: 0.5476 - val_loss: 0.6915 - val_accuracy: 0.5159\n",
            "Epoch 46/100\n",
            "32/32 [==============================] - 0s 5ms/step - loss: 0.6882 - accuracy: 0.5595 - val_loss: 0.6921 - val_accuracy: 0.4841\n",
            "Epoch 47/100\n",
            "32/32 [==============================] - 0s 5ms/step - loss: 0.6893 - accuracy: 0.5228 - val_loss: 0.6942 - val_accuracy: 0.4881\n",
            "Epoch 48/100\n",
            "32/32 [==============================] - 0s 5ms/step - loss: 0.6876 - accuracy: 0.5509 - val_loss: 0.6928 - val_accuracy: 0.5397\n",
            "Epoch 49/100\n",
            "32/32 [==============================] - 0s 5ms/step - loss: 0.6911 - accuracy: 0.5343 - val_loss: 0.6933 - val_accuracy: 0.4960\n",
            "Epoch 50/100\n",
            "32/32 [==============================] - 0s 5ms/step - loss: 0.6899 - accuracy: 0.5331 - val_loss: 0.6929 - val_accuracy: 0.4802\n",
            "Epoch 51/100\n",
            "32/32 [==============================] - 0s 5ms/step - loss: 0.6857 - accuracy: 0.5686 - val_loss: 0.6916 - val_accuracy: 0.5119\n",
            "Epoch 52/100\n",
            "32/32 [==============================] - 0s 5ms/step - loss: 0.6914 - accuracy: 0.5427 - val_loss: 0.6932 - val_accuracy: 0.4722\n",
            "Epoch 53/100\n",
            "32/32 [==============================] - 0s 5ms/step - loss: 0.6903 - accuracy: 0.5264 - val_loss: 0.6930 - val_accuracy: 0.4841\n",
            "Epoch 54/100\n",
            "32/32 [==============================] - 0s 4ms/step - loss: 0.6883 - accuracy: 0.5393 - val_loss: 0.6932 - val_accuracy: 0.5317\n",
            "Epoch 55/100\n",
            "32/32 [==============================] - 0s 5ms/step - loss: 0.6880 - accuracy: 0.5368 - val_loss: 0.6932 - val_accuracy: 0.4841\n",
            "Epoch 56/100\n",
            "32/32 [==============================] - 0s 5ms/step - loss: 0.6844 - accuracy: 0.5495 - val_loss: 0.6938 - val_accuracy: 0.5437\n",
            "Epoch 57/100\n",
            "32/32 [==============================] - 0s 5ms/step - loss: 0.6861 - accuracy: 0.5612 - val_loss: 0.6928 - val_accuracy: 0.5119\n",
            "Epoch 58/100\n",
            "32/32 [==============================] - 0s 5ms/step - loss: 0.6847 - accuracy: 0.5801 - val_loss: 0.6947 - val_accuracy: 0.5040\n",
            "Epoch 59/100\n",
            "32/32 [==============================] - 0s 5ms/step - loss: 0.6916 - accuracy: 0.5385 - val_loss: 0.6922 - val_accuracy: 0.5000\n",
            "Epoch 60/100\n",
            "32/32 [==============================] - 0s 5ms/step - loss: 0.6951 - accuracy: 0.5140 - val_loss: 0.6926 - val_accuracy: 0.5079\n",
            "Epoch 61/100\n",
            "32/32 [==============================] - 0s 5ms/step - loss: 0.6910 - accuracy: 0.5253 - val_loss: 0.6943 - val_accuracy: 0.5079\n",
            "Epoch 62/100\n",
            "32/32 [==============================] - 0s 5ms/step - loss: 0.6886 - accuracy: 0.5440 - val_loss: 0.6932 - val_accuracy: 0.5159\n",
            "Epoch 63/100\n",
            "32/32 [==============================] - 0s 5ms/step - loss: 0.6857 - accuracy: 0.5599 - val_loss: 0.6935 - val_accuracy: 0.5159\n",
            "Epoch 64/100\n",
            "32/32 [==============================] - 0s 5ms/step - loss: 0.6890 - accuracy: 0.5529 - val_loss: 0.6962 - val_accuracy: 0.4960\n",
            "Epoch 65/100\n",
            "32/32 [==============================] - 0s 5ms/step - loss: 0.6873 - accuracy: 0.5551 - val_loss: 0.6968 - val_accuracy: 0.5317\n",
            "Epoch 66/100\n",
            "32/32 [==============================] - 0s 5ms/step - loss: 0.6855 - accuracy: 0.5442 - val_loss: 0.6949 - val_accuracy: 0.5198\n",
            "Epoch 67/100\n",
            "32/32 [==============================] - 0s 5ms/step - loss: 0.6890 - accuracy: 0.5360 - val_loss: 0.6979 - val_accuracy: 0.4921\n",
            "Epoch 68/100\n",
            "32/32 [==============================] - 0s 5ms/step - loss: 0.6918 - accuracy: 0.5155 - val_loss: 0.6939 - val_accuracy: 0.5159\n",
            "Epoch 69/100\n",
            "32/32 [==============================] - 0s 6ms/step - loss: 0.6837 - accuracy: 0.5563 - val_loss: 0.6965 - val_accuracy: 0.5079\n",
            "Epoch 70/100\n",
            "32/32 [==============================] - 0s 5ms/step - loss: 0.6864 - accuracy: 0.5364 - val_loss: 0.6946 - val_accuracy: 0.5357\n",
            "Epoch 71/100\n",
            "32/32 [==============================] - 0s 6ms/step - loss: 0.6845 - accuracy: 0.5622 - val_loss: 0.6968 - val_accuracy: 0.4960\n",
            "Epoch 72/100\n",
            "32/32 [==============================] - 0s 6ms/step - loss: 0.6869 - accuracy: 0.5329 - val_loss: 0.6942 - val_accuracy: 0.5159\n",
            "Epoch 73/100\n",
            "32/32 [==============================] - 0s 6ms/step - loss: 0.6899 - accuracy: 0.5401 - val_loss: 0.6962 - val_accuracy: 0.4762\n",
            "Epoch 74/100\n",
            "32/32 [==============================] - 0s 5ms/step - loss: 0.6799 - accuracy: 0.5683 - val_loss: 0.6931 - val_accuracy: 0.5119\n",
            "Epoch 75/100\n",
            "32/32 [==============================] - 0s 6ms/step - loss: 0.6841 - accuracy: 0.5619 - val_loss: 0.6951 - val_accuracy: 0.5159\n",
            "Epoch 76/100\n",
            "32/32 [==============================] - 0s 6ms/step - loss: 0.6876 - accuracy: 0.5231 - val_loss: 0.6948 - val_accuracy: 0.5317\n",
            "Epoch 77/100\n",
            "32/32 [==============================] - 0s 6ms/step - loss: 0.6774 - accuracy: 0.5767 - val_loss: 0.7014 - val_accuracy: 0.4960\n",
            "Epoch 78/100\n",
            "32/32 [==============================] - 0s 6ms/step - loss: 0.6947 - accuracy: 0.5235 - val_loss: 0.6931 - val_accuracy: 0.5198\n",
            "Epoch 79/100\n",
            "32/32 [==============================] - 0s 6ms/step - loss: 0.6854 - accuracy: 0.5784 - val_loss: 0.6961 - val_accuracy: 0.5198\n",
            "Epoch 80/100\n",
            "32/32 [==============================] - 0s 5ms/step - loss: 0.6846 - accuracy: 0.5522 - val_loss: 0.6970 - val_accuracy: 0.5198\n",
            "Epoch 81/100\n",
            "32/32 [==============================] - 0s 5ms/step - loss: 0.6890 - accuracy: 0.5448 - val_loss: 0.6980 - val_accuracy: 0.5159\n",
            "Epoch 82/100\n",
            "32/32 [==============================] - 0s 5ms/step - loss: 0.6808 - accuracy: 0.5456 - val_loss: 0.7001 - val_accuracy: 0.5000\n",
            "Epoch 83/100\n",
            "32/32 [==============================] - 0s 5ms/step - loss: 0.6916 - accuracy: 0.5257 - val_loss: 0.6978 - val_accuracy: 0.5159\n",
            "Epoch 84/100\n",
            "32/32 [==============================] - 0s 5ms/step - loss: 0.6760 - accuracy: 0.5943 - val_loss: 0.6956 - val_accuracy: 0.5278\n",
            "Epoch 85/100\n",
            "32/32 [==============================] - 0s 5ms/step - loss: 0.6857 - accuracy: 0.5582 - val_loss: 0.6997 - val_accuracy: 0.4960\n",
            "Epoch 86/100\n",
            "32/32 [==============================] - 0s 5ms/step - loss: 0.6901 - accuracy: 0.5415 - val_loss: 0.6957 - val_accuracy: 0.5119\n",
            "Epoch 87/100\n",
            "32/32 [==============================] - 0s 5ms/step - loss: 0.6844 - accuracy: 0.5487 - val_loss: 0.6968 - val_accuracy: 0.5040\n",
            "Epoch 88/100\n",
            "32/32 [==============================] - 0s 5ms/step - loss: 0.6850 - accuracy: 0.5566 - val_loss: 0.6982 - val_accuracy: 0.5278\n",
            "Epoch 89/100\n",
            "32/32 [==============================] - 0s 5ms/step - loss: 0.6828 - accuracy: 0.5756 - val_loss: 0.6988 - val_accuracy: 0.4881\n",
            "Epoch 90/100\n",
            "32/32 [==============================] - 0s 5ms/step - loss: 0.6819 - accuracy: 0.5645 - val_loss: 0.6988 - val_accuracy: 0.4960\n",
            "Epoch 91/100\n",
            "32/32 [==============================] - 0s 5ms/step - loss: 0.6847 - accuracy: 0.5436 - val_loss: 0.6995 - val_accuracy: 0.4921\n",
            "Epoch 92/100\n",
            "32/32 [==============================] - 0s 5ms/step - loss: 0.6883 - accuracy: 0.5416 - val_loss: 0.6986 - val_accuracy: 0.5198\n",
            "Epoch 93/100\n",
            "32/32 [==============================] - 0s 6ms/step - loss: 0.6847 - accuracy: 0.5474 - val_loss: 0.6989 - val_accuracy: 0.5238\n",
            "Epoch 94/100\n",
            "32/32 [==============================] - 0s 6ms/step - loss: 0.6863 - accuracy: 0.5428 - val_loss: 0.6986 - val_accuracy: 0.5317\n",
            "Epoch 95/100\n",
            "32/32 [==============================] - 0s 5ms/step - loss: 0.6863 - accuracy: 0.5391 - val_loss: 0.6988 - val_accuracy: 0.5119\n",
            "Epoch 96/100\n",
            "32/32 [==============================] - 0s 6ms/step - loss: 0.6853 - accuracy: 0.5447 - val_loss: 0.6968 - val_accuracy: 0.5040\n",
            "Epoch 97/100\n",
            "32/32 [==============================] - 0s 6ms/step - loss: 0.6850 - accuracy: 0.5547 - val_loss: 0.6969 - val_accuracy: 0.5317\n",
            "Epoch 98/100\n",
            "32/32 [==============================] - 0s 6ms/step - loss: 0.6784 - accuracy: 0.5770 - val_loss: 0.6991 - val_accuracy: 0.5317\n",
            "Epoch 99/100\n",
            "32/32 [==============================] - 0s 4ms/step - loss: 0.6809 - accuracy: 0.5413 - val_loss: 0.6981 - val_accuracy: 0.5397\n",
            "Epoch 100/100\n",
            "32/32 [==============================] - 0s 5ms/step - loss: 0.6793 - accuracy: 0.5730 - val_loss: 0.6971 - val_accuracy: 0.5159\n"
          ],
          "name": "stdout"
        }
      ]
    },
    {
      "cell_type": "markdown",
      "metadata": {
        "id": "IvFJbIAheD_r"
      },
      "source": [
        "pretty crappy performance, but the data is shaped correctly! (probably)...now just need to get flattened layers to a random forest"
      ]
    },
    {
      "cell_type": "code",
      "metadata": {
        "id": "ZiIhVg3Teav8"
      },
      "source": [
        ""
      ],
      "execution_count": null,
      "outputs": []
    }
  ]
}