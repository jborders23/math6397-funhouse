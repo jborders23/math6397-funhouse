{
 "cells": [
  {
   "cell_type": "markdown",
   "id": "d7c3e3f6",
   "metadata": {},
   "source": [
    "## Understanding Libraries Used"
   ]
  },
  {
   "cell_type": "markdown",
   "id": "fdae6eae",
   "metadata": {},
   "source": [
    "If you are using the sagemaker, you need the boto3 library. Just like you use pandas to read data from your local system, boto3 helps us to access data from the S3 buckets if access to those buckets are provided"
   ]
  },
  {
   "cell_type": "code",
   "execution_count": 1,
   "id": "dd2246b2",
   "metadata": {},
   "outputs": [],
   "source": [
    "import sagemaker\n",
    "import boto3\n",
    "from sagemaker.amazon.amazon_estimator import get_image_uri\n",
    "from sagemaker.session import s3_input, Session"
   ]
  },
  {
   "cell_type": "markdown",
   "id": "e24457e0",
   "metadata": {},
   "source": [
    "## Data Preparation & Importing to S3"
   ]
  },
  {
   "cell_type": "markdown",
   "id": "290bf124",
   "metadata": {},
   "source": [
    "The response variable that we are predicting for the dataset is “medv”, which is the median value of owner occupied home in thousands.\n",
    "\n",
    "First we need to split our data into train and test then convert these into numpy arrays. We will need the data in this format to convert it to **RecordIO** later which is the format Linear Learner/SageMaker expects data for training."
   ]
  },
  {
   "cell_type": "code",
   "execution_count": 2,
   "id": "8ae22320",
   "metadata": {},
   "outputs": [
    {
     "data": {
      "text/html": [
       "<div>\n",
       "<style scoped>\n",
       "    .dataframe tbody tr th:only-of-type {\n",
       "        vertical-align: middle;\n",
       "    }\n",
       "\n",
       "    .dataframe tbody tr th {\n",
       "        vertical-align: top;\n",
       "    }\n",
       "\n",
       "    .dataframe thead th {\n",
       "        text-align: right;\n",
       "    }\n",
       "</style>\n",
       "<table border=\"1\" class=\"dataframe\">\n",
       "  <thead>\n",
       "    <tr style=\"text-align: right;\">\n",
       "      <th></th>\n",
       "      <th>crim</th>\n",
       "      <th>zn</th>\n",
       "      <th>indus</th>\n",
       "      <th>chas</th>\n",
       "      <th>nox</th>\n",
       "      <th>rm</th>\n",
       "      <th>age</th>\n",
       "      <th>dis</th>\n",
       "      <th>rad</th>\n",
       "      <th>tax</th>\n",
       "      <th>ptratio</th>\n",
       "      <th>black</th>\n",
       "      <th>lstat</th>\n",
       "      <th>medv</th>\n",
       "    </tr>\n",
       "  </thead>\n",
       "  <tbody>\n",
       "    <tr>\n",
       "      <th>0</th>\n",
       "      <td>0.15876</td>\n",
       "      <td>0.0</td>\n",
       "      <td>10.81</td>\n",
       "      <td>0.0</td>\n",
       "      <td>0.413</td>\n",
       "      <td>5.961</td>\n",
       "      <td>17.5</td>\n",
       "      <td>5.2873</td>\n",
       "      <td>4.0</td>\n",
       "      <td>305.0</td>\n",
       "      <td>19.2</td>\n",
       "      <td>376.94</td>\n",
       "      <td>9.88</td>\n",
       "      <td>21.7</td>\n",
       "    </tr>\n",
       "    <tr>\n",
       "      <th>1</th>\n",
       "      <td>0.10328</td>\n",
       "      <td>25.0</td>\n",
       "      <td>5.13</td>\n",
       "      <td>0.0</td>\n",
       "      <td>0.453</td>\n",
       "      <td>5.927</td>\n",
       "      <td>47.2</td>\n",
       "      <td>6.9320</td>\n",
       "      <td>8.0</td>\n",
       "      <td>284.0</td>\n",
       "      <td>19.7</td>\n",
       "      <td>396.90</td>\n",
       "      <td>9.22</td>\n",
       "      <td>19.6</td>\n",
       "    </tr>\n",
       "    <tr>\n",
       "      <th>2</th>\n",
       "      <td>0.34940</td>\n",
       "      <td>0.0</td>\n",
       "      <td>9.90</td>\n",
       "      <td>0.0</td>\n",
       "      <td>0.544</td>\n",
       "      <td>5.972</td>\n",
       "      <td>76.7</td>\n",
       "      <td>3.1025</td>\n",
       "      <td>4.0</td>\n",
       "      <td>304.0</td>\n",
       "      <td>18.4</td>\n",
       "      <td>396.24</td>\n",
       "      <td>9.97</td>\n",
       "      <td>20.3</td>\n",
       "    </tr>\n",
       "    <tr>\n",
       "      <th>3</th>\n",
       "      <td>2.73397</td>\n",
       "      <td>0.0</td>\n",
       "      <td>19.58</td>\n",
       "      <td>0.0</td>\n",
       "      <td>0.871</td>\n",
       "      <td>5.597</td>\n",
       "      <td>94.9</td>\n",
       "      <td>1.5257</td>\n",
       "      <td>5.0</td>\n",
       "      <td>403.0</td>\n",
       "      <td>14.7</td>\n",
       "      <td>351.85</td>\n",
       "      <td>21.45</td>\n",
       "      <td>15.4</td>\n",
       "    </tr>\n",
       "    <tr>\n",
       "      <th>4</th>\n",
       "      <td>0.04337</td>\n",
       "      <td>21.0</td>\n",
       "      <td>5.64</td>\n",
       "      <td>0.0</td>\n",
       "      <td>0.439</td>\n",
       "      <td>6.115</td>\n",
       "      <td>63.0</td>\n",
       "      <td>6.8147</td>\n",
       "      <td>4.0</td>\n",
       "      <td>243.0</td>\n",
       "      <td>16.8</td>\n",
       "      <td>393.97</td>\n",
       "      <td>9.43</td>\n",
       "      <td>20.5</td>\n",
       "    </tr>\n",
       "  </tbody>\n",
       "</table>\n",
       "</div>"
      ],
      "text/plain": [
       "      crim    zn  indus  chas    nox     rm   age     dis  rad    tax  \\\n",
       "0  0.15876   0.0  10.81   0.0  0.413  5.961  17.5  5.2873  4.0  305.0   \n",
       "1  0.10328  25.0   5.13   0.0  0.453  5.927  47.2  6.9320  8.0  284.0   \n",
       "2  0.34940   0.0   9.90   0.0  0.544  5.972  76.7  3.1025  4.0  304.0   \n",
       "3  2.73397   0.0  19.58   0.0  0.871  5.597  94.9  1.5257  5.0  403.0   \n",
       "4  0.04337  21.0   5.64   0.0  0.439  6.115  63.0  6.8147  4.0  243.0   \n",
       "\n",
       "   ptratio   black  lstat  medv  \n",
       "0     19.2  376.94   9.88  21.7  \n",
       "1     19.7  396.90   9.22  19.6  \n",
       "2     18.4  396.24   9.97  20.3  \n",
       "3     14.7  351.85  21.45  15.4  \n",
       "4     16.8  393.97   9.43  20.5  "
      ]
     },
     "execution_count": 2,
     "metadata": {},
     "output_type": "execute_result"
    }
   ],
   "source": [
    "import pandas as pd\n",
    "import numpy as np\n",
    "import seaborn as sns\n",
    "import matplotlib.pyplot as plt\n",
    "\n",
    "df = pd.read_csv('boston_data.csv')\n",
    "df.head()"
   ]
  },
  {
   "cell_type": "code",
   "execution_count": 3,
   "id": "c2b48c62",
   "metadata": {},
   "outputs": [],
   "source": [
    "X = df.drop(['medv'], axis = 1)\n",
    "y = df['medv']\n",
    "#Convert to numpy arrays\n",
    "X = np.array(X).astype('float32')\n",
    "y = np.array(y).astype('float32')\n",
    "\n",
    "from sklearn.model_selection import train_test_split\n",
    "X_train, X_test, y_train, y_test = train_test_split(X,y, test_size=0.30)"
   ]
  },
  {
   "cell_type": "markdown",
   "id": "21629554",
   "metadata": {},
   "source": [
    "Before we can convert our numpy arrays to **RecordIO** we need to make sure we can access our **S3 Bucket** and **IAM role** we created. We will be using these when we call Linear Learner to train on our data."
   ]
  },
  {
   "cell_type": "code",
   "execution_count": 4,
   "id": "4c050ea3",
   "metadata": {},
   "outputs": [
    {
     "name": "stdout",
     "output_type": "stream",
     "text": [
      "arn:aws:iam::907658219813:role/service-role/AmazonSageMaker-ExecutionRole-20210715T232904\n"
     ]
    }
   ],
   "source": [
    "import sagemaker\n",
    "import boto3\n",
    "\n",
    "#Create a SageMaker session\n",
    "sagemaker_session = sagemaker.Session()\n",
    "bucket = \"linlearner-housingdata-test\"\n",
    "prefix = \"linear-learner\" #prefix is a sub-folder/key within the S3 bucket\n",
    "\n",
    "#Access SageMaker role created prior to session\n",
    "#Need to pass role to training job\n",
    "role = sagemaker.get_execution_role()\n",
    "print(role)"
   ]
  },
  {
   "cell_type": "markdown",
   "id": "1aeb1369",
   "metadata": {},
   "source": [
    "Now that we have our data in the proper format, we need to be able to upload the data to our S3 bucket. We create sub-folders for our train, test and model artifacts data (information after training job is done).\n"
   ]
  },
  {
   "cell_type": "code",
   "execution_count": 5,
   "id": "6f59bf9c",
   "metadata": {},
   "outputs": [
    {
     "name": "stdout",
     "output_type": "stream",
     "text": [
      "uploaded training data location: s3://linlearner-housingdata-test/linear-learner/train/linear-train-data\n",
      "uploaded training data location: s3://linlearner-housingdata-test/linear-learner/test/linear-test-data\n",
      "Training artifacts will be uploaded to: s3://linlearner-housingdata-test/linear-learner/output\n"
     ]
    }
   ],
   "source": [
    "#Need to convert dataset to RecordIO format for Linear Learner to understand\n",
    "import io \n",
    "import sagemaker.amazon.common as smac \n",
    "import os\n",
    "\n",
    "buf = io.BytesIO()\n",
    "smac.write_numpy_to_dense_tensor(buf, X_train, y_train)\n",
    "buf.seek(0) \n",
    "\n",
    "###Uploading training data\n",
    "#Filename for training data we are uploading to S3 \n",
    "# Very important\n",
    "key = 'linear-train-data'\n",
    "#Upload training data to S3\n",
    "boto3.resource('s3').Bucket(bucket).Object(os.path.join(prefix, 'train', key)).upload_fileobj(buf)\n",
    "s3_train_data = 's3://{}/{}/train/{}'.format(bucket, prefix, key)\n",
    "print('uploaded training data location: {}'.format(s3_train_data))\n",
    "\n",
    "###Uploading test data\n",
    "buf = io.BytesIO() # create an in-memory byte array (buf is a buffer I will be writing to)\n",
    "smac.write_numpy_to_dense_tensor(buf, X_test, y_test)\n",
    "buf.seek(0)\n",
    "\n",
    "#Sub-folder for test data\n",
    "key = 'linear-test-data'\n",
    "boto3.resource('s3').Bucket(bucket).Object(os.path.join(prefix, 'test', key)).upload_fileobj(buf)\n",
    "s3_test_data = 's3://{}/{}/test/{}'.format(bucket, prefix, key)\n",
    "print('uploaded training data location: {}'.format(s3_test_data))\n",
    "\n",
    "###Model Artifacts\n",
    "output_location = 's3://{}/{}/output'.format(bucket, prefix)\n",
    "print('Training artifacts will be uploaded to: {}'.format(output_location))"
   ]
  },
  {
   "cell_type": "markdown",
   "id": "4456b863",
   "metadata": {},
   "source": [
    "### You should now have your training and test data stored in your S3 bucket."
   ]
  },
  {
   "cell_type": "markdown",
   "id": "3a23a53e",
   "metadata": {},
   "source": [
    "## Training & Understanding Linear Learner"
   ]
  },
  {
   "cell_type": "markdown",
   "id": "740364c1",
   "metadata": {},
   "source": [
    "Now that our data is properly configured, we can see the magic of Linear Learner. Linear Learner is one of AWS’s Supervised Learning algorithms and can be used for Regression and Classification problems. For classification it supports both Binary Classification and Multi-Class Classification. For our regression problem we also have a number of hyperparameters that we can provide the algorithm ranging from epochs to batch size. First we need to access the training container of Linear Learner."
   ]
  },
  {
   "cell_type": "code",
   "execution_count": 6,
   "id": "6122db90",
   "metadata": {},
   "outputs": [],
   "source": [
    "from sagemaker.amazon.amazon_estimator import image_uris\n",
    "container = image_uris.retrieve('linear-learner', boto3.Session().region_name)\n",
    "\n",
    "linear = sagemaker.estimator.Estimator(container,\n",
    "                                       role, \n",
    "                                       instance_count = 1, \n",
    "                                       instance_type = 'ml.c4.xlarge',\n",
    "                                       output_path = output_location,\n",
    "                                       sagemaker_session = sagemaker_session)"
   ]
  },
  {
   "cell_type": "markdown",
   "id": "278ce365",
   "metadata": {},
   "source": [
    "Note for the SageMaker estimator our output path is the S3 bucket path for model artifacts we have created. Now that we have created our estimator, we can set our hyperparameters. The most important hyperparameter in this case is feature_dim, which is the number of features we have in our X set that we are using to predict our response. For our dataset we have 13 features we are feeding to evaluate median house prices. For a list of all available hyperparameters click here."
   ]
  },
  {
   "cell_type": "code",
   "execution_count": 7,
   "id": "5cdd7c90",
   "metadata": {},
   "outputs": [],
   "source": [
    "linear.set_hyperparameters(feature_dim = 13,\n",
    "                           predictor_type = 'regressor',\n",
    "                           mini_batch_size = 20,\n",
    "                           epochs = 5,\n",
    "                           num_models = 10,\n",
    "                           loss = 'absolute_loss')"
   ]
  },
  {
   "cell_type": "code",
   "execution_count": 8,
   "id": "b5c748f4",
   "metadata": {},
   "outputs": [
    {
     "name": "stdout",
     "output_type": "stream",
     "text": [
      "2021-07-16 04:34:35 Starting - Starting the training job...\n",
      "2021-07-16 04:34:37 Starting - Launching requested ML instancesProfilerReport-1626410075: InProgress\n",
      "...\n",
      "2021-07-16 04:35:30 Starting - Preparing the instances for training............\n",
      "2021-07-16 04:37:31 Downloading - Downloading input data\n",
      "2021-07-16 04:37:31 Training - Downloading the training image...\n",
      "2021-07-16 04:38:02 Uploading - Uploading generated training model\u001b[34mDocker entrypoint called with argument(s): train\u001b[0m\n",
      "\u001b[34mRunning default environment configuration script\u001b[0m\n",
      "\u001b[34m[07/16/2021 04:37:56 INFO 139730002769728] Reading default configuration from /opt/amazon/lib/python3.7/site-packages/algorithm/resources/default-input.json: {'mini_batch_size': '1000', 'epochs': '15', 'feature_dim': 'auto', 'use_bias': 'true', 'binary_classifier_model_selection_criteria': 'accuracy', 'f_beta': '1.0', 'target_recall': '0.8', 'target_precision': '0.8', 'num_models': 'auto', 'num_calibration_samples': '10000000', 'init_method': 'uniform', 'init_scale': '0.07', 'init_sigma': '0.01', 'init_bias': '0.0', 'optimizer': 'auto', 'loss': 'auto', 'margin': '1.0', 'quantile': '0.5', 'loss_insensitivity': '0.01', 'huber_delta': '1.0', 'num_classes': '1', 'accuracy_top_k': '3', 'wd': 'auto', 'l1': 'auto', 'momentum': 'auto', 'learning_rate': 'auto', 'beta_1': 'auto', 'beta_2': 'auto', 'bias_lr_mult': 'auto', 'bias_wd_mult': 'auto', 'use_lr_scheduler': 'true', 'lr_scheduler_step': 'auto', 'lr_scheduler_factor': 'auto', 'lr_scheduler_minimum_lr': 'auto', 'positive_example_weight_mult': '1.0', 'balance_multiclass_weights': 'false', 'normalize_data': 'true', 'normalize_label': 'auto', 'unbias_data': 'auto', 'unbias_label': 'auto', 'num_point_for_scaler': '10000', '_kvstore': 'auto', '_num_gpus': 'auto', '_num_kv_servers': 'auto', '_log_level': 'info', '_tuning_objective_metric': '', 'early_stopping_patience': '3', 'early_stopping_tolerance': '0.001', '_enable_profiler': 'false'}\u001b[0m\n",
      "\u001b[34m[07/16/2021 04:37:56 INFO 139730002769728] Merging with provided configuration from /opt/ml/input/config/hyperparameters.json: {'loss': 'absolute_loss', 'feature_dim': '13', 'num_models': '10', 'predictor_type': 'regressor', 'epochs': '5', 'mini_batch_size': '20'}\u001b[0m\n",
      "\u001b[34m[07/16/2021 04:37:56 INFO 139730002769728] Final configuration: {'mini_batch_size': '20', 'epochs': '5', 'feature_dim': '13', 'use_bias': 'true', 'binary_classifier_model_selection_criteria': 'accuracy', 'f_beta': '1.0', 'target_recall': '0.8', 'target_precision': '0.8', 'num_models': '10', 'num_calibration_samples': '10000000', 'init_method': 'uniform', 'init_scale': '0.07', 'init_sigma': '0.01', 'init_bias': '0.0', 'optimizer': 'auto', 'loss': 'absolute_loss', 'margin': '1.0', 'quantile': '0.5', 'loss_insensitivity': '0.01', 'huber_delta': '1.0', 'num_classes': '1', 'accuracy_top_k': '3', 'wd': 'auto', 'l1': 'auto', 'momentum': 'auto', 'learning_rate': 'auto', 'beta_1': 'auto', 'beta_2': 'auto', 'bias_lr_mult': 'auto', 'bias_wd_mult': 'auto', 'use_lr_scheduler': 'true', 'lr_scheduler_step': 'auto', 'lr_scheduler_factor': 'auto', 'lr_scheduler_minimum_lr': 'auto', 'positive_example_weight_mult': '1.0', 'balance_multiclass_weights': 'false', 'normalize_data': 'true', 'normalize_label': 'auto', 'unbias_data': 'auto', 'unbias_label': 'auto', 'num_point_for_scaler': '10000', '_kvstore': 'auto', '_num_gpus': 'auto', '_num_kv_servers': 'auto', '_log_level': 'info', '_tuning_objective_metric': '', 'early_stopping_patience': '3', 'early_stopping_tolerance': '0.001', '_enable_profiler': 'false', 'predictor_type': 'regressor'}\u001b[0m\n",
      "\u001b[34m[07/16/2021 04:37:56 WARNING 139730002769728] Loggers have already been setup.\u001b[0m\n",
      "\u001b[34mProcess 1 is a worker.\u001b[0m\n",
      "\u001b[34m[07/16/2021 04:37:56 INFO 139730002769728] Using default worker.\u001b[0m\n",
      "\u001b[34m[07/16/2021 04:37:56 INFO 139730002769728] Checkpoint loading and saving are disabled.\u001b[0m\n",
      "\u001b[34m[2021-07-16 04:37:56.262] [tensorio] [info] epoch_stats={\"data_pipeline\": \"/opt/ml/input/data/train\", \"epoch\": 0, \"duration\": 14, \"num_examples\": 1, \"num_bytes\": 1920}\u001b[0m\n",
      "\u001b[34m[07/16/2021 04:37:56 INFO 139730002769728] Create Store: local\u001b[0m\n",
      "\u001b[34m[2021-07-16 04:37:56.377] [tensorio] [info] epoch_stats={\"data_pipeline\": \"/opt/ml/input/data/train\", \"epoch\": 1, \"duration\": 114, \"num_examples\": 15, \"num_bytes\": 27072}\u001b[0m\n",
      "\u001b[34m[07/16/2021 04:37:56 INFO 139730002769728] Scaler algorithm parameters\n",
      " <algorithm.scaler.ScalerAlgorithmStable object at 0x7f150e461850>\u001b[0m\n",
      "\u001b[34m[07/16/2021 04:37:56 INFO 139730002769728] Scaling model computed with parameters:\n",
      " {'stdev_label': \u001b[0m\n",
      "\u001b[34m[9.217618]\u001b[0m\n",
      "\u001b[34m<NDArray 1 @cpu(0)>, 'stdev_weight': \u001b[0m\n",
      "\u001b[34m[9.1762371e+00 2.1463848e+01 6.8735018e+00 2.6906869e-01 1.2068128e-01\n",
      " 7.2506756e-01 2.8589514e+01 2.0760062e+00 8.9276543e+00 1.7273648e+02\n",
      " 2.1281953e+00 9.5796616e+01 7.0744400e+00]\u001b[0m\n",
      "\u001b[34m<NDArray 13 @cpu(0)>, 'mean_label': \u001b[0m\n",
      "\u001b[34m[22.579645]\u001b[0m\n",
      "\u001b[34m<NDArray 1 @cpu(0)>, 'mean_weight': \u001b[0m\n",
      "\u001b[34m[3.9581401e+00 1.0321429e+01 1.1319751e+01 7.8571431e-02 5.5984646e-01\n",
      " 6.3125901e+00 6.8462509e+01 3.7877431e+00 1.0064285e+01 4.1306073e+02\n",
      " 1.8479284e+01 3.5312048e+02 1.2561323e+01]\u001b[0m\n",
      "\u001b[34m<NDArray 13 @cpu(0)>}\u001b[0m\n",
      "\u001b[34m[07/16/2021 04:37:56 INFO 139730002769728] nvidia-smi: took 0.030 seconds to run.\u001b[0m\n",
      "\u001b[34m[07/16/2021 04:37:56 INFO 139730002769728] nvidia-smi identified 0 GPUs.\u001b[0m\n",
      "\u001b[34m[07/16/2021 04:37:56 INFO 139730002769728] Number of GPUs being used: 0\u001b[0m\n",
      "\u001b[34m#metrics {\"StartTime\": 1626410276.4342263, \"EndTime\": 1626410276.4342604, \"Dimensions\": {\"Algorithm\": \"Linear Learner\", \"Host\": \"algo-1\", \"Operation\": \"training\", \"Meta\": \"init_train_data_iter\"}, \"Metrics\": {\"Total Records Seen\": {\"sum\": 302.0, \"count\": 1, \"min\": 302, \"max\": 302}, \"Total Batches Seen\": {\"sum\": 16.0, \"count\": 1, \"min\": 16, \"max\": 16}, \"Max Records Seen Between Resets\": {\"sum\": 282.0, \"count\": 1, \"min\": 282, \"max\": 282}, \"Max Batches Seen Between Resets\": {\"sum\": 15.0, \"count\": 1, \"min\": 15, \"max\": 15}, \"Reset Count\": {\"sum\": 2.0, \"count\": 1, \"min\": 2, \"max\": 2}, \"Number of Records Since Last Reset\": {\"sum\": 0.0, \"count\": 1, \"min\": 0, \"max\": 0}, \"Number of Batches Since Last Reset\": {\"sum\": 0.0, \"count\": 1, \"min\": 0, \"max\": 0}}}\n",
      "\u001b[0m\n",
      "\u001b[34m[2021-07-16 04:37:56.579] [tensorio] [info] epoch_stats={\"data_pipeline\": \"/opt/ml/input/data/train\", \"epoch\": 4, \"duration\": 145, \"num_examples\": 15, \"num_bytes\": 27072}\u001b[0m\n",
      "\u001b[34m#metrics {\"StartTime\": 1626410276.5798306, \"EndTime\": 1626410276.5798848, \"Dimensions\": {\"Algorithm\": \"Linear Learner\", \"Host\": \"algo-1\", \"Operation\": \"training\", \"epoch\": 0, \"model\": 0}, \"Metrics\": {\"train_absolute_loss_objective\": {\"sum\": 0.6073408501488822, \"count\": 1, \"min\": 0.6073408501488822, \"max\": 0.6073408501488822}}}\n",
      "\u001b[0m\n",
      "\u001b[34m#metrics {\"StartTime\": 1626410276.5799649, \"EndTime\": 1626410276.5799804, \"Dimensions\": {\"Algorithm\": \"Linear Learner\", \"Host\": \"algo-1\", \"Operation\": \"training\", \"epoch\": 0, \"model\": 1}, \"Metrics\": {\"train_absolute_loss_objective\": {\"sum\": 0.5877521906580244, \"count\": 1, \"min\": 0.5877521906580244, \"max\": 0.5877521906580244}}}\n",
      "\u001b[0m\n",
      "\u001b[34m#metrics {\"StartTime\": 1626410276.5800226, \"EndTime\": 1626410276.5800333, \"Dimensions\": {\"Algorithm\": \"Linear Learner\", \"Host\": \"algo-1\", \"Operation\": \"training\", \"epoch\": 0, \"model\": 2}, \"Metrics\": {\"train_absolute_loss_objective\": {\"sum\": 0.6613378661019461, \"count\": 1, \"min\": 0.6613378661019461, \"max\": 0.6613378661019461}}}\n",
      "\u001b[0m\n",
      "\u001b[34m#metrics {\"StartTime\": 1626410276.5800683, \"EndTime\": 1626410276.5800776, \"Dimensions\": {\"Algorithm\": \"Linear Learner\", \"Host\": \"algo-1\", \"Operation\": \"training\", \"epoch\": 0, \"model\": 3}, \"Metrics\": {\"train_absolute_loss_objective\": {\"sum\": 0.6298664195196969, \"count\": 1, \"min\": 0.6298664195196969, \"max\": 0.6298664195196969}}}\n",
      "\u001b[0m\n",
      "\u001b[34m#metrics {\"StartTime\": 1626410276.5801125, \"EndTime\": 1626410276.580122, \"Dimensions\": {\"Algorithm\": \"Linear Learner\", \"Host\": \"algo-1\", \"Operation\": \"training\", \"epoch\": 0, \"model\": 4}, \"Metrics\": {\"train_absolute_loss_objective\": {\"sum\": 0.6490201984133039, \"count\": 1, \"min\": 0.6490201984133039, \"max\": 0.6490201984133039}}}\n",
      "\u001b[0m\n",
      "\u001b[34m#metrics {\"StartTime\": 1626410276.5801551, \"EndTime\": 1626410276.5801644, \"Dimensions\": {\"Algorithm\": \"Linear Learner\", \"Host\": \"algo-1\", \"Operation\": \"training\", \"epoch\": 0, \"model\": 5}, \"Metrics\": {\"train_absolute_loss_objective\": {\"sum\": 0.7037558197975159, \"count\": 1, \"min\": 0.7037558197975159, \"max\": 0.7037558197975159}}}\n",
      "\u001b[0m\n",
      "\u001b[34m#metrics {\"StartTime\": 1626410276.5801964, \"EndTime\": 1626410276.5802093, \"Dimensions\": {\"Algorithm\": \"Linear Learner\", \"Host\": \"algo-1\", \"Operation\": \"training\", \"epoch\": 0, \"model\": 6}, \"Metrics\": {\"train_absolute_loss_objective\": {\"sum\": 0.6917076468467712, \"count\": 1, \"min\": 0.6917076468467712, \"max\": 0.6917076468467712}}}\n",
      "\u001b[0m\n",
      "\u001b[34m#metrics {\"StartTime\": 1626410276.5802495, \"EndTime\": 1626410276.5802598, \"Dimensions\": {\"Algorithm\": \"Linear Learner\", \"Host\": \"algo-1\", \"Operation\": \"training\", \"epoch\": 0, \"model\": 7}, \"Metrics\": {\"train_absolute_loss_objective\": {\"sum\": 0.6631324751036508, \"count\": 1, \"min\": 0.6631324751036508, \"max\": 0.6631324751036508}}}\n",
      "\u001b[0m\n",
      "\u001b[34m#metrics {\"StartTime\": 1626410276.5802996, \"EndTime\": 1626410276.5803099, \"Dimensions\": {\"Algorithm\": \"Linear Learner\", \"Host\": \"algo-1\", \"Operation\": \"training\", \"epoch\": 0, \"model\": 8}, \"Metrics\": {\"train_absolute_loss_objective\": {\"sum\": 0.5909897957529341, \"count\": 1, \"min\": 0.5909897957529341, \"max\": 0.5909897957529341}}}\n",
      "\u001b[0m\n",
      "\u001b[34m#metrics {\"StartTime\": 1626410276.580349, \"EndTime\": 1626410276.580359, \"Dimensions\": {\"Algorithm\": \"Linear Learner\", \"Host\": \"algo-1\", \"Operation\": \"training\", \"epoch\": 0, \"model\": 9}, \"Metrics\": {\"train_absolute_loss_objective\": {\"sum\": 0.6998572485787528, \"count\": 1, \"min\": 0.6998572485787528, \"max\": 0.6998572485787528}}}\n",
      "\u001b[0m\n",
      "\u001b[34m[07/16/2021 04:37:56 INFO 139730002769728] #quality_metric: host=algo-1, epoch=0, train absolute_loss_objective <loss>=0.6073408501488822\u001b[0m\n",
      "\u001b[34m[07/16/2021 04:37:56 INFO 139730002769728] #early_stopping_criteria_metric: host=algo-1, epoch=0, criteria=absolute_loss_objective, value=0.5877521906580244\u001b[0m\n",
      "\u001b[34m[07/16/2021 04:37:56 INFO 139730002769728] Epoch 0: Loss improved. Updating best model\u001b[0m\n",
      "\u001b[34m[07/16/2021 04:37:56 INFO 139730002769728] Saving model for epoch: 0\u001b[0m\n",
      "\u001b[34m[07/16/2021 04:37:56 INFO 139730002769728] Saved checkpoint to \"/tmp/tmpdhtlqlqx/mx-mod-0000.params\"\u001b[0m\n",
      "\u001b[34m[07/16/2021 04:37:56 INFO 139730002769728] #progress_metric: host=algo-1, completed 20.0 % of epochs\u001b[0m\n",
      "\u001b[34m#metrics {\"StartTime\": 1626410276.4345, \"EndTime\": 1626410276.5946038, \"Dimensions\": {\"Algorithm\": \"Linear Learner\", \"Host\": \"algo-1\", \"Operation\": \"training\", \"epoch\": 0, \"Meta\": \"training_data_iter\"}, \"Metrics\": {\"Total Records Seen\": {\"sum\": 584.0, \"count\": 1, \"min\": 584, \"max\": 584}, \"Total Batches Seen\": {\"sum\": 31.0, \"count\": 1, \"min\": 31, \"max\": 31}, \"Max Records Seen Between Resets\": {\"sum\": 282.0, \"count\": 1, \"min\": 282, \"max\": 282}, \"Max Batches Seen Between Resets\": {\"sum\": 15.0, \"count\": 1, \"min\": 15, \"max\": 15}, \"Reset Count\": {\"sum\": 3.0, \"count\": 1, \"min\": 3, \"max\": 3}, \"Number of Records Since Last Reset\": {\"sum\": 282.0, \"count\": 1, \"min\": 282, \"max\": 282}, \"Number of Batches Since Last Reset\": {\"sum\": 15.0, \"count\": 1, \"min\": 15, \"max\": 15}}}\n",
      "\u001b[0m\n",
      "\u001b[34m[07/16/2021 04:37:56 INFO 139730002769728] #throughput_metric: host=algo-1, train throughput=1759.9682882625502 records/second\u001b[0m\n",
      "\u001b[34m[2021-07-16 04:37:56.699] [tensorio] [info] epoch_stats={\"data_pipeline\": \"/opt/ml/input/data/train\", \"epoch\": 6, \"duration\": 104, \"num_examples\": 15, \"num_bytes\": 27072}\u001b[0m\n",
      "\u001b[34m#metrics {\"StartTime\": 1626410276.699828, \"EndTime\": 1626410276.6998703, \"Dimensions\": {\"Algorithm\": \"Linear Learner\", \"Host\": \"algo-1\", \"Operation\": \"training\", \"epoch\": 1, \"model\": 0}, \"Metrics\": {\"train_absolute_loss_objective\": {\"sum\": 0.48887669358934677, \"count\": 1, \"min\": 0.48887669358934677, \"max\": 0.48887669358934677}}}\n",
      "\u001b[0m\n",
      "\u001b[34m#metrics {\"StartTime\": 1626410276.6999335, \"EndTime\": 1626410276.699947, \"Dimensions\": {\"Algorithm\": \"Linear Learner\", \"Host\": \"algo-1\", \"Operation\": \"training\", \"epoch\": 1, \"model\": 1}, \"Metrics\": {\"train_absolute_loss_objective\": {\"sum\": 0.49597732680184503, \"count\": 1, \"min\": 0.49597732680184503, \"max\": 0.49597732680184503}}}\n",
      "\u001b[0m\n",
      "\u001b[34m#metrics {\"StartTime\": 1626410276.6999853, \"EndTime\": 1626410276.6999953, \"Dimensions\": {\"Algorithm\": \"Linear Learner\", \"Host\": \"algo-1\", \"Operation\": \"training\", \"epoch\": 1, \"model\": 2}, \"Metrics\": {\"train_absolute_loss_objective\": {\"sum\": 0.5274268099239894, \"count\": 1, \"min\": 0.5274268099239894, \"max\": 0.5274268099239894}}}\n",
      "\u001b[0m\n",
      "\u001b[34m#metrics {\"StartTime\": 1626410276.7000291, \"EndTime\": 1626410276.7000382, \"Dimensions\": {\"Algorithm\": \"Linear Learner\", \"Host\": \"algo-1\", \"Operation\": \"training\", \"epoch\": 1, \"model\": 3}, \"Metrics\": {\"train_absolute_loss_objective\": {\"sum\": 0.5157389078821455, \"count\": 1, \"min\": 0.5157389078821455, \"max\": 0.5157389078821455}}}\n",
      "\u001b[0m\n",
      "\u001b[34m#metrics {\"StartTime\": 1626410276.700071, \"EndTime\": 1626410276.7000804, \"Dimensions\": {\"Algorithm\": \"Linear Learner\", \"Host\": \"algo-1\", \"Operation\": \"training\", \"epoch\": 1, \"model\": 4}, \"Metrics\": {\"train_absolute_loss_objective\": {\"sum\": 0.4480453269822257, \"count\": 1, \"min\": 0.4480453269822257, \"max\": 0.4480453269822257}}}\n",
      "\u001b[0m\n",
      "\u001b[34m#metrics {\"StartTime\": 1626410276.7001126, \"EndTime\": 1626410276.7001216, \"Dimensions\": {\"Algorithm\": \"Linear Learner\", \"Host\": \"algo-1\", \"Operation\": \"training\", \"epoch\": 1, \"model\": 5}, \"Metrics\": {\"train_absolute_loss_objective\": {\"sum\": 0.6086942877088274, \"count\": 1, \"min\": 0.6086942877088274, \"max\": 0.6086942877088274}}}\n",
      "\u001b[0m\n",
      "\u001b[34m#metrics {\"StartTime\": 1626410276.7001534, \"EndTime\": 1626410276.7001624, \"Dimensions\": {\"Algorithm\": \"Linear Learner\", \"Host\": \"algo-1\", \"Operation\": \"training\", \"epoch\": 1, \"model\": 6}, \"Metrics\": {\"train_absolute_loss_objective\": {\"sum\": 0.5006425363676889, \"count\": 1, \"min\": 0.5006425363676889, \"max\": 0.5006425363676889}}}\n",
      "\u001b[0m\n",
      "\u001b[34m#metrics {\"StartTime\": 1626410276.7001936, \"EndTime\": 1626410276.7002063, \"Dimensions\": {\"Algorithm\": \"Linear Learner\", \"Host\": \"algo-1\", \"Operation\": \"training\", \"epoch\": 1, \"model\": 7}, \"Metrics\": {\"train_absolute_loss_objective\": {\"sum\": 0.4586078201021467, \"count\": 1, \"min\": 0.4586078201021467, \"max\": 0.4586078201021467}}}\n",
      "\u001b[0m\n",
      "\u001b[34m#metrics {\"StartTime\": 1626410276.7002392, \"EndTime\": 1626410276.7002482, \"Dimensions\": {\"Algorithm\": \"Linear Learner\", \"Host\": \"algo-1\", \"Operation\": \"training\", \"epoch\": 1, \"model\": 8}, \"Metrics\": {\"train_absolute_loss_objective\": {\"sum\": 0.49585575887135097, \"count\": 1, \"min\": 0.49585575887135097, \"max\": 0.49585575887135097}}}\n",
      "\u001b[0m\n",
      "\u001b[34m#metrics {\"StartTime\": 1626410276.7002804, \"EndTime\": 1626410276.700289, \"Dimensions\": {\"Algorithm\": \"Linear Learner\", \"Host\": \"algo-1\", \"Operation\": \"training\", \"epoch\": 1, \"model\": 9}, \"Metrics\": {\"train_absolute_loss_objective\": {\"sum\": 0.5660820620400565, \"count\": 1, \"min\": 0.5660820620400565, \"max\": 0.5660820620400565}}}\n",
      "\u001b[0m\n",
      "\u001b[34m[07/16/2021 04:37:56 INFO 139730002769728] #quality_metric: host=algo-1, epoch=1, train absolute_loss_objective <loss>=0.48887669358934677\u001b[0m\n",
      "\u001b[34m[07/16/2021 04:37:56 INFO 139730002769728] #early_stopping_criteria_metric: host=algo-1, epoch=1, criteria=absolute_loss_objective, value=0.4480453269822257\u001b[0m\n",
      "\u001b[34m[07/16/2021 04:37:56 INFO 139730002769728] Epoch 1: Loss improved. Updating best model\u001b[0m\n",
      "\u001b[34m[07/16/2021 04:37:56 INFO 139730002769728] Saving model for epoch: 1\u001b[0m\n",
      "\u001b[34m[07/16/2021 04:37:56 INFO 139730002769728] Saved checkpoint to \"/tmp/tmpsoquul3m/mx-mod-0000.params\"\u001b[0m\n",
      "\u001b[34m[07/16/2021 04:37:56 INFO 139730002769728] #progress_metric: host=algo-1, completed 40.0 % of epochs\u001b[0m\n",
      "\u001b[34m#metrics {\"StartTime\": 1626410276.5948977, \"EndTime\": 1626410276.7078123, \"Dimensions\": {\"Algorithm\": \"Linear Learner\", \"Host\": \"algo-1\", \"Operation\": \"training\", \"epoch\": 1, \"Meta\": \"training_data_iter\"}, \"Metrics\": {\"Total Records Seen\": {\"sum\": 866.0, \"count\": 1, \"min\": 866, \"max\": 866}, \"Total Batches Seen\": {\"sum\": 46.0, \"count\": 1, \"min\": 46, \"max\": 46}, \"Max Records Seen Between Resets\": {\"sum\": 282.0, \"count\": 1, \"min\": 282, \"max\": 282}, \"Max Batches Seen Between Resets\": {\"sum\": 15.0, \"count\": 1, \"min\": 15, \"max\": 15}, \"Reset Count\": {\"sum\": 4.0, \"count\": 1, \"min\": 4, \"max\": 4}, \"Number of Records Since Last Reset\": {\"sum\": 282.0, \"count\": 1, \"min\": 282, \"max\": 282}, \"Number of Batches Since Last Reset\": {\"sum\": 15.0, \"count\": 1, \"min\": 15, \"max\": 15}}}\n",
      "\u001b[0m\n",
      "\u001b[34m[07/16/2021 04:37:56 INFO 139730002769728] #throughput_metric: host=algo-1, train throughput=2494.9401215414373 records/second\u001b[0m\n",
      "\u001b[34m[2021-07-16 04:37:56.861] [tensorio] [info] epoch_stats={\"data_pipeline\": \"/opt/ml/input/data/train\", \"epoch\": 8, \"duration\": 153, \"num_examples\": 15, \"num_bytes\": 27072}\u001b[0m\n",
      "\u001b[34m#metrics {\"StartTime\": 1626410276.861336, \"EndTime\": 1626410276.8613937, \"Dimensions\": {\"Algorithm\": \"Linear Learner\", \"Host\": \"algo-1\", \"Operation\": \"training\", \"epoch\": 2, \"model\": 0}, \"Metrics\": {\"train_absolute_loss_objective\": {\"sum\": 0.44325884240014213, \"count\": 1, \"min\": 0.44325884240014213, \"max\": 0.44325884240014213}}}\n",
      "\u001b[0m\n",
      "\u001b[34m#metrics {\"StartTime\": 1626410276.8614779, \"EndTime\": 1626410276.8614933, \"Dimensions\": {\"Algorithm\": \"Linear Learner\", \"Host\": \"algo-1\", \"Operation\": \"training\", \"epoch\": 2, \"model\": 1}, \"Metrics\": {\"train_absolute_loss_objective\": {\"sum\": 0.44276285001209803, \"count\": 1, \"min\": 0.44276285001209803, \"max\": 0.44276285001209803}}}\n",
      "\u001b[0m\n",
      "\u001b[34m#metrics {\"StartTime\": 1626410276.8615324, \"EndTime\": 1626410276.8615427, \"Dimensions\": {\"Algorithm\": \"Linear Learner\", \"Host\": \"algo-1\", \"Operation\": \"training\", \"epoch\": 2, \"model\": 2}, \"Metrics\": {\"train_absolute_loss_objective\": {\"sum\": 0.4575571928705488, \"count\": 1, \"min\": 0.4575571928705488, \"max\": 0.4575571928705488}}}\n",
      "\u001b[0m\n",
      "\u001b[34m#metrics {\"StartTime\": 1626410276.861577, \"EndTime\": 1626410276.8615863, \"Dimensions\": {\"Algorithm\": \"Linear Learner\", \"Host\": \"algo-1\", \"Operation\": \"training\", \"epoch\": 2, \"model\": 3}, \"Metrics\": {\"train_absolute_loss_objective\": {\"sum\": 0.45851267405918666, \"count\": 1, \"min\": 0.45851267405918666, \"max\": 0.45851267405918666}}}\n",
      "\u001b[0m\n",
      "\u001b[34m#metrics {\"StartTime\": 1626410276.861619, \"EndTime\": 1626410276.861628, \"Dimensions\": {\"Algorithm\": \"Linear Learner\", \"Host\": \"algo-1\", \"Operation\": \"training\", \"epoch\": 2, \"model\": 4}, \"Metrics\": {\"train_absolute_loss_objective\": {\"sum\": 0.46698637008666993, \"count\": 1, \"min\": 0.46698637008666993, \"max\": 0.46698637008666993}}}\n",
      "\u001b[0m\n",
      "\u001b[34m#metrics {\"StartTime\": 1626410276.8616605, \"EndTime\": 1626410276.8616695, \"Dimensions\": {\"Algorithm\": \"Linear Learner\", \"Host\": \"algo-1\", \"Operation\": \"training\", \"epoch\": 2, \"model\": 5}, \"Metrics\": {\"train_absolute_loss_objective\": {\"sum\": 0.4751260689326695, \"count\": 1, \"min\": 0.4751260689326695, \"max\": 0.4751260689326695}}}\n",
      "\u001b[0m\n",
      "\u001b[34m#metrics {\"StartTime\": 1626410276.861705, \"EndTime\": 1626410276.8617153, \"Dimensions\": {\"Algorithm\": \"Linear Learner\", \"Host\": \"algo-1\", \"Operation\": \"training\", \"epoch\": 2, \"model\": 6}, \"Metrics\": {\"train_absolute_loss_objective\": {\"sum\": 0.5133752618517194, \"count\": 1, \"min\": 0.5133752618517194, \"max\": 0.5133752618517194}}}\n",
      "\u001b[0m\n",
      "\u001b[34m#metrics {\"StartTime\": 1626410276.8617485, \"EndTime\": 1626410276.8617578, \"Dimensions\": {\"Algorithm\": \"Linear Learner\", \"Host\": \"algo-1\", \"Operation\": \"training\", \"epoch\": 2, \"model\": 7}, \"Metrics\": {\"train_absolute_loss_objective\": {\"sum\": 0.4739779829978943, \"count\": 1, \"min\": 0.4739779829978943, \"max\": 0.4739779829978943}}}\n",
      "\u001b[0m\n",
      "\u001b[34m#metrics {\"StartTime\": 1626410276.86179, \"EndTime\": 1626410276.861799, \"Dimensions\": {\"Algorithm\": \"Linear Learner\", \"Host\": \"algo-1\", \"Operation\": \"training\", \"epoch\": 2, \"model\": 8}, \"Metrics\": {\"train_absolute_loss_objective\": {\"sum\": 0.44075344800949096, \"count\": 1, \"min\": 0.44075344800949096, \"max\": 0.44075344800949096}}}\n",
      "\u001b[0m\n",
      "\u001b[34m#metrics {\"StartTime\": 1626410276.8618312, \"EndTime\": 1626410276.86184, \"Dimensions\": {\"Algorithm\": \"Linear Learner\", \"Host\": \"algo-1\", \"Operation\": \"training\", \"epoch\": 2, \"model\": 9}, \"Metrics\": {\"train_absolute_loss_objective\": {\"sum\": 0.4941341587475368, \"count\": 1, \"min\": 0.4941341587475368, \"max\": 0.4941341587475368}}}\n",
      "\u001b[0m\n",
      "\u001b[34m[07/16/2021 04:37:56 INFO 139730002769728] #quality_metric: host=algo-1, epoch=2, train absolute_loss_objective <loss>=0.44325884240014213\u001b[0m\n",
      "\u001b[34m[07/16/2021 04:37:56 INFO 139730002769728] #early_stopping_criteria_metric: host=algo-1, epoch=2, criteria=absolute_loss_objective, value=0.44075344800949096\u001b[0m\n",
      "\u001b[34m[07/16/2021 04:37:56 INFO 139730002769728] Epoch 2: Loss improved. Updating best model\u001b[0m\n",
      "\u001b[34m[07/16/2021 04:37:56 INFO 139730002769728] Saving model for epoch: 2\u001b[0m\n",
      "\u001b[34m[07/16/2021 04:37:56 INFO 139730002769728] Saved checkpoint to \"/tmp/tmp37fylb8n/mx-mod-0000.params\"\u001b[0m\n",
      "\u001b[34m[07/16/2021 04:37:56 INFO 139730002769728] #progress_metric: host=algo-1, completed 60.0 % of epochs\u001b[0m\n",
      "\u001b[34m#metrics {\"StartTime\": 1626410276.708073, \"EndTime\": 1626410276.8726757, \"Dimensions\": {\"Algorithm\": \"Linear Learner\", \"Host\": \"algo-1\", \"Operation\": \"training\", \"epoch\": 2, \"Meta\": \"training_data_iter\"}, \"Metrics\": {\"Total Records Seen\": {\"sum\": 1148.0, \"count\": 1, \"min\": 1148, \"max\": 1148}, \"Total Batches Seen\": {\"sum\": 61.0, \"count\": 1, \"min\": 61, \"max\": 61}, \"Max Records Seen Between Resets\": {\"sum\": 282.0, \"count\": 1, \"min\": 282, \"max\": 282}, \"Max Batches Seen Between Resets\": {\"sum\": 15.0, \"count\": 1, \"min\": 15, \"max\": 15}, \"Reset Count\": {\"sum\": 5.0, \"count\": 1, \"min\": 5, \"max\": 5}, \"Number of Records Since Last Reset\": {\"sum\": 282.0, \"count\": 1, \"min\": 282, \"max\": 282}, \"Number of Batches Since Last Reset\": {\"sum\": 15.0, \"count\": 1, \"min\": 15, \"max\": 15}}}\n",
      "\u001b[0m\n",
      "\u001b[34m[07/16/2021 04:37:56 INFO 139730002769728] #throughput_metric: host=algo-1, train throughput=1711.8889610944107 records/second\u001b[0m\n",
      "\u001b[34m[2021-07-16 04:37:56.983] [tensorio] [info] epoch_stats={\"data_pipeline\": \"/opt/ml/input/data/train\", \"epoch\": 10, \"duration\": 110, \"num_examples\": 15, \"num_bytes\": 27072}\u001b[0m\n",
      "\u001b[34m#metrics {\"StartTime\": 1626410276.9835308, \"EndTime\": 1626410276.983581, \"Dimensions\": {\"Algorithm\": \"Linear Learner\", \"Host\": \"algo-1\", \"Operation\": \"training\", \"epoch\": 3, \"model\": 0}, \"Metrics\": {\"train_absolute_loss_objective\": {\"sum\": 0.4098250661577497, \"count\": 1, \"min\": 0.4098250661577497, \"max\": 0.4098250661577497}}}\n",
      "\u001b[0m\n",
      "\u001b[34m#metrics {\"StartTime\": 1626410276.9836602, \"EndTime\": 1626410276.9836738, \"Dimensions\": {\"Algorithm\": \"Linear Learner\", \"Host\": \"algo-1\", \"Operation\": \"training\", \"epoch\": 3, \"model\": 1}, \"Metrics\": {\"train_absolute_loss_objective\": {\"sum\": 0.40964713777814593, \"count\": 1, \"min\": 0.40964713777814593, \"max\": 0.40964713777814593}}}\n",
      "\u001b[0m\n",
      "\u001b[34m#metrics {\"StartTime\": 1626410276.9837177, \"EndTime\": 1626410276.983732, \"Dimensions\": {\"Algorithm\": \"Linear Learner\", \"Host\": \"algo-1\", \"Operation\": \"training\", \"epoch\": 3, \"model\": 2}, \"Metrics\": {\"train_absolute_loss_objective\": {\"sum\": 0.4165829879896981, \"count\": 1, \"min\": 0.4165829879896981, \"max\": 0.4165829879896981}}}\n",
      "\u001b[0m\n",
      "\u001b[34m#metrics {\"StartTime\": 1626410276.9837854, \"EndTime\": 1626410276.983802, \"Dimensions\": {\"Algorithm\": \"Linear Learner\", \"Host\": \"algo-1\", \"Operation\": \"training\", \"epoch\": 3, \"model\": 3}, \"Metrics\": {\"train_absolute_loss_objective\": {\"sum\": 0.4222667728151594, \"count\": 1, \"min\": 0.4222667728151594, \"max\": 0.4222667728151594}}}\n",
      "\u001b[0m\n",
      "\u001b[34m#metrics {\"StartTime\": 1626410276.9838533, \"EndTime\": 1626410276.9838705, \"Dimensions\": {\"Algorithm\": \"Linear Learner\", \"Host\": \"algo-1\", \"Operation\": \"training\", \"epoch\": 3, \"model\": 4}, \"Metrics\": {\"train_absolute_loss_objective\": {\"sum\": 0.4108282174382891, \"count\": 1, \"min\": 0.4108282174382891, \"max\": 0.4108282174382891}}}\n",
      "\u001b[0m\n",
      "\u001b[34m#metrics {\"StartTime\": 1626410276.9839237, \"EndTime\": 1626410276.98394, \"Dimensions\": {\"Algorithm\": \"Linear Learner\", \"Host\": \"algo-1\", \"Operation\": \"training\", \"epoch\": 3, \"model\": 5}, \"Metrics\": {\"train_absolute_loss_objective\": {\"sum\": 0.4843731812068394, \"count\": 1, \"min\": 0.4843731812068394, \"max\": 0.4843731812068394}}}\n",
      "\u001b[0m\n",
      "\u001b[34m#metrics {\"StartTime\": 1626410276.9839914, \"EndTime\": 1626410276.9840074, \"Dimensions\": {\"Algorithm\": \"Linear Learner\", \"Host\": \"algo-1\", \"Operation\": \"training\", \"epoch\": 3, \"model\": 6}, \"Metrics\": {\"train_absolute_loss_objective\": {\"sum\": 0.4692846144948687, \"count\": 1, \"min\": 0.4692846144948687, \"max\": 0.4692846144948687}}}\n",
      "\u001b[0m\n",
      "\u001b[34m#metrics {\"StartTime\": 1626410276.9840584, \"EndTime\": 1626410276.984075, \"Dimensions\": {\"Algorithm\": \"Linear Learner\", \"Host\": \"algo-1\", \"Operation\": \"training\", \"epoch\": 3, \"model\": 7}, \"Metrics\": {\"train_absolute_loss_objective\": {\"sum\": 0.5119590640068055, \"count\": 1, \"min\": 0.5119590640068055, \"max\": 0.5119590640068055}}}\n",
      "\u001b[0m\n",
      "\u001b[34m#metrics {\"StartTime\": 1626410276.9841254, \"EndTime\": 1626410276.9841418, \"Dimensions\": {\"Algorithm\": \"Linear Learner\", \"Host\": \"algo-1\", \"Operation\": \"training\", \"epoch\": 3, \"model\": 8}, \"Metrics\": {\"train_absolute_loss_objective\": {\"sum\": 0.40847123520714895, \"count\": 1, \"min\": 0.40847123520714895, \"max\": 0.40847123520714895}}}\n",
      "\u001b[0m\n",
      "\u001b[34m#metrics {\"StartTime\": 1626410276.984192, \"EndTime\": 1626410276.9842079, \"Dimensions\": {\"Algorithm\": \"Linear Learner\", \"Host\": \"algo-1\", \"Operation\": \"training\", \"epoch\": 3, \"model\": 9}, \"Metrics\": {\"train_absolute_loss_objective\": {\"sum\": 0.45068222284317017, \"count\": 1, \"min\": 0.45068222284317017, \"max\": 0.45068222284317017}}}\n",
      "\u001b[0m\n",
      "\u001b[34m[07/16/2021 04:37:56 INFO 139730002769728] #quality_metric: host=algo-1, epoch=3, train absolute_loss_objective <loss>=0.4098250661577497\u001b[0m\n",
      "\u001b[34m[07/16/2021 04:37:56 INFO 139730002769728] #early_stopping_criteria_metric: host=algo-1, epoch=3, criteria=absolute_loss_objective, value=0.40847123520714895\u001b[0m\n",
      "\u001b[34m[07/16/2021 04:37:56 INFO 139730002769728] Epoch 3: Loss improved. Updating best model\u001b[0m\n",
      "\u001b[34m[07/16/2021 04:37:56 INFO 139730002769728] Saving model for epoch: 3\u001b[0m\n",
      "\u001b[34m[07/16/2021 04:37:56 INFO 139730002769728] Saved checkpoint to \"/tmp/tmpw9ur7lw2/mx-mod-0000.params\"\u001b[0m\n",
      "\u001b[34m[07/16/2021 04:37:56 INFO 139730002769728] #progress_metric: host=algo-1, completed 80.0 % of epochs\u001b[0m\n",
      "\u001b[34m#metrics {\"StartTime\": 1626410276.872946, \"EndTime\": 1626410276.9922483, \"Dimensions\": {\"Algorithm\": \"Linear Learner\", \"Host\": \"algo-1\", \"Operation\": \"training\", \"epoch\": 3, \"Meta\": \"training_data_iter\"}, \"Metrics\": {\"Total Records Seen\": {\"sum\": 1430.0, \"count\": 1, \"min\": 1430, \"max\": 1430}, \"Total Batches Seen\": {\"sum\": 76.0, \"count\": 1, \"min\": 76, \"max\": 76}, \"Max Records Seen Between Resets\": {\"sum\": 282.0, \"count\": 1, \"min\": 282, \"max\": 282}, \"Max Batches Seen Between Resets\": {\"sum\": 15.0, \"count\": 1, \"min\": 15, \"max\": 15}, \"Reset Count\": {\"sum\": 6.0, \"count\": 1, \"min\": 6, \"max\": 6}, \"Number of Records Since Last Reset\": {\"sum\": 282.0, \"count\": 1, \"min\": 282, \"max\": 282}, \"Number of Batches Since Last Reset\": {\"sum\": 15.0, \"count\": 1, \"min\": 15, \"max\": 15}}}\n",
      "\u001b[0m\n",
      "\u001b[34m[07/16/2021 04:37:56 INFO 139730002769728] #throughput_metric: host=algo-1, train throughput=2361.134356603446 records/second\u001b[0m\n",
      "\u001b[34m[2021-07-16 04:37:57.094] [tensorio] [info] epoch_stats={\"data_pipeline\": \"/opt/ml/input/data/train\", \"epoch\": 12, \"duration\": 102, \"num_examples\": 15, \"num_bytes\": 27072}\u001b[0m\n",
      "\u001b[34m#metrics {\"StartTime\": 1626410277.0948722, \"EndTime\": 1626410277.0949254, \"Dimensions\": {\"Algorithm\": \"Linear Learner\", \"Host\": \"algo-1\", \"Operation\": \"training\", \"epoch\": 4, \"model\": 0}, \"Metrics\": {\"train_absolute_loss_objective\": {\"sum\": 0.3903209226472037, \"count\": 1, \"min\": 0.3903209226472037, \"max\": 0.3903209226472037}}}\n",
      "\u001b[0m\n",
      "\u001b[34m#metrics {\"StartTime\": 1626410277.0950131, \"EndTime\": 1626410277.0950341, \"Dimensions\": {\"Algorithm\": \"Linear Learner\", \"Host\": \"algo-1\", \"Operation\": \"training\", \"epoch\": 4, \"model\": 1}, \"Metrics\": {\"train_absolute_loss_objective\": {\"sum\": 0.3878474882670811, \"count\": 1, \"min\": 0.3878474882670811, \"max\": 0.3878474882670811}}}\n",
      "\u001b[0m\n",
      "\u001b[34m#metrics {\"StartTime\": 1626410277.0950866, \"EndTime\": 1626410277.0951018, \"Dimensions\": {\"Algorithm\": \"Linear Learner\", \"Host\": \"algo-1\", \"Operation\": \"training\", \"epoch\": 4, \"model\": 2}, \"Metrics\": {\"train_absolute_loss_objective\": {\"sum\": 0.3904907464981079, \"count\": 1, \"min\": 0.3904907464981079, \"max\": 0.3904907464981079}}}\n",
      "\u001b[0m\n",
      "\u001b[34m#metrics {\"StartTime\": 1626410277.095155, \"EndTime\": 1626410277.0951705, \"Dimensions\": {\"Algorithm\": \"Linear Learner\", \"Host\": \"algo-1\", \"Operation\": \"training\", \"epoch\": 4, \"model\": 3}, \"Metrics\": {\"train_absolute_loss_objective\": {\"sum\": 0.3941247122628348, \"count\": 1, \"min\": 0.3941247122628348, \"max\": 0.3941247122628348}}}\n",
      "\u001b[0m\n",
      "\u001b[34m#metrics {\"StartTime\": 1626410277.0952055, \"EndTime\": 1626410277.095219, \"Dimensions\": {\"Algorithm\": \"Linear Learner\", \"Host\": \"algo-1\", \"Operation\": \"training\", \"epoch\": 4, \"model\": 4}, \"Metrics\": {\"train_absolute_loss_objective\": {\"sum\": 0.42128060374941145, \"count\": 1, \"min\": 0.42128060374941145, \"max\": 0.42128060374941145}}}\n",
      "\u001b[0m\n",
      "\u001b[34m#metrics {\"StartTime\": 1626410277.0952563, \"EndTime\": 1626410277.0952704, \"Dimensions\": {\"Algorithm\": \"Linear Learner\", \"Host\": \"algo-1\", \"Operation\": \"training\", \"epoch\": 4, \"model\": 5}, \"Metrics\": {\"train_absolute_loss_objective\": {\"sum\": 0.40777009214673726, \"count\": 1, \"min\": 0.40777009214673726, \"max\": 0.40777009214673726}}}\n",
      "\u001b[0m\n",
      "\u001b[34m#metrics {\"StartTime\": 1626410277.0953186, \"EndTime\": 1626410277.0953336, \"Dimensions\": {\"Algorithm\": \"Linear Learner\", \"Host\": \"algo-1\", \"Operation\": \"training\", \"epoch\": 4, \"model\": 6}, \"Metrics\": {\"train_absolute_loss_objective\": {\"sum\": 0.47081275837762016, \"count\": 1, \"min\": 0.47081275837762016, \"max\": 0.47081275837762016}}}\n",
      "\u001b[0m\n",
      "\u001b[34m#metrics {\"StartTime\": 1626410277.0953705, \"EndTime\": 1626410277.095384, \"Dimensions\": {\"Algorithm\": \"Linear Learner\", \"Host\": \"algo-1\", \"Operation\": \"training\", \"epoch\": 4, \"model\": 7}, \"Metrics\": {\"train_absolute_loss_objective\": {\"sum\": 0.4864050762993949, \"count\": 1, \"min\": 0.4864050762993949, \"max\": 0.4864050762993949}}}\n",
      "\u001b[0m\n",
      "\u001b[34m#metrics {\"StartTime\": 1626410277.0954304, \"EndTime\": 1626410277.0954452, \"Dimensions\": {\"Algorithm\": \"Linear Learner\", \"Host\": \"algo-1\", \"Operation\": \"training\", \"epoch\": 4, \"model\": 8}, \"Metrics\": {\"train_absolute_loss_objective\": {\"sum\": 0.38717535734176634, \"count\": 1, \"min\": 0.38717535734176634, \"max\": 0.38717535734176634}}}\n",
      "\u001b[0m\n",
      "\u001b[34m#metrics {\"StartTime\": 1626410277.095495, \"EndTime\": 1626410277.0955107, \"Dimensions\": {\"Algorithm\": \"Linear Learner\", \"Host\": \"algo-1\", \"Operation\": \"training\", \"epoch\": 4, \"model\": 9}, \"Metrics\": {\"train_absolute_loss_objective\": {\"sum\": 0.41425000258854455, \"count\": 1, \"min\": 0.41425000258854455, \"max\": 0.41425000258854455}}}\n",
      "\u001b[0m\n",
      "\u001b[34m[07/16/2021 04:37:57 INFO 139730002769728] #quality_metric: host=algo-1, epoch=4, train absolute_loss_objective <loss>=0.3903209226472037\u001b[0m\n",
      "\u001b[34m[07/16/2021 04:37:57 INFO 139730002769728] #early_stopping_criteria_metric: host=algo-1, epoch=4, criteria=absolute_loss_objective, value=0.38717535734176634\u001b[0m\n",
      "\u001b[34m[07/16/2021 04:37:57 INFO 139730002769728] Epoch 4: Loss improved. Updating best model\u001b[0m\n",
      "\u001b[34m[07/16/2021 04:37:57 INFO 139730002769728] Saving model for epoch: 4\u001b[0m\n",
      "\u001b[34m[07/16/2021 04:37:57 INFO 139730002769728] Saved checkpoint to \"/tmp/tmpn2rdh3vk/mx-mod-0000.params\"\u001b[0m\n",
      "\u001b[34m[07/16/2021 04:37:57 INFO 139730002769728] #progress_metric: host=algo-1, completed 100.0 % of epochs\u001b[0m\n",
      "\u001b[34m#metrics {\"StartTime\": 1626410276.9925363, \"EndTime\": 1626410277.1027737, \"Dimensions\": {\"Algorithm\": \"Linear Learner\", \"Host\": \"algo-1\", \"Operation\": \"training\", \"epoch\": 4, \"Meta\": \"training_data_iter\"}, \"Metrics\": {\"Total Records Seen\": {\"sum\": 1712.0, \"count\": 1, \"min\": 1712, \"max\": 1712}, \"Total Batches Seen\": {\"sum\": 91.0, \"count\": 1, \"min\": 91, \"max\": 91}, \"Max Records Seen Between Resets\": {\"sum\": 282.0, \"count\": 1, \"min\": 282, \"max\": 282}, \"Max Batches Seen Between Resets\": {\"sum\": 15.0, \"count\": 1, \"min\": 15, \"max\": 15}, \"Reset Count\": {\"sum\": 7.0, \"count\": 1, \"min\": 7, \"max\": 7}, \"Number of Records Since Last Reset\": {\"sum\": 282.0, \"count\": 1, \"min\": 282, \"max\": 282}, \"Number of Batches Since Last Reset\": {\"sum\": 15.0, \"count\": 1, \"min\": 15, \"max\": 15}}}\n",
      "\u001b[0m\n",
      "\u001b[34m[07/16/2021 04:37:57 INFO 139730002769728] #throughput_metric: host=algo-1, train throughput=2555.1598776420165 records/second\u001b[0m\n",
      "\u001b[34m[07/16/2021 04:37:57 WARNING 139730002769728] wait_for_all_workers will not sync workers since the kv store is not running distributed\u001b[0m\n",
      "\u001b[34m[07/16/2021 04:37:57 WARNING 139730002769728] wait_for_all_workers will not sync workers since the kv store is not running distributed\u001b[0m\n",
      "\u001b[34m[2021-07-16 04:37:57.103] [tensorio] [info] epoch_stats={\"data_pipeline\": \"/opt/ml/input/data/train\", \"epoch\": 14, \"duration\": 0, \"num_examples\": 1, \"num_bytes\": 1920}\u001b[0m\n",
      "\u001b[34m[2021-07-16 04:37:57.121] [tensorio] [info] epoch_stats={\"data_pipeline\": \"/opt/ml/input/data/train\", \"epoch\": 16, \"duration\": 16, \"num_examples\": 15, \"num_bytes\": 27072}\u001b[0m\n",
      "\u001b[34m[07/16/2021 04:37:57 INFO 139730002769728] #train_score (algo-1) : ('absolute_loss_objective', 3.445442558180356)\u001b[0m\n",
      "\u001b[34m[07/16/2021 04:37:57 INFO 139730002769728] #train_score (algo-1) : ('mse', 30.319131979705595)\u001b[0m\n",
      "\u001b[34m[07/16/2021 04:37:57 INFO 139730002769728] #train_score (algo-1) : ('absolute_loss', 3.445442558180356)\u001b[0m\n",
      "\u001b[34m[07/16/2021 04:37:57 INFO 139730002769728] #quality_metric: host=algo-1, train absolute_loss_objective <loss>=3.445442558180356\u001b[0m\n",
      "\u001b[34m[07/16/2021 04:37:57 INFO 139730002769728] #quality_metric: host=algo-1, train mse <loss>=30.319131979705595\u001b[0m\n",
      "\u001b[34m[07/16/2021 04:37:57 INFO 139730002769728] #quality_metric: host=algo-1, train absolute_loss <loss>=3.445442558180356\u001b[0m\n",
      "\u001b[34m[07/16/2021 04:37:57 INFO 139730002769728] Best model found for hyperparameters: {\"optimizer\": \"adam\", \"learning_rate\": 0.005, \"wd\": 0.01, \"l1\": 0.0, \"lr_scheduler_step\": 10, \"lr_scheduler_factor\": 0.99, \"lr_scheduler_minimum_lr\": 1e-05}\u001b[0m\n",
      "\u001b[34m[07/16/2021 04:37:57 INFO 139730002769728] Saved checkpoint to \"/tmp/tmpo4_mvovn/mx-mod-0000.params\"\u001b[0m\n",
      "\u001b[34m[07/16/2021 04:37:57 INFO 139730002769728] Test data is not provided.\u001b[0m\n",
      "\u001b[34m#metrics {\"StartTime\": 1626410276.2475705, \"EndTime\": 1626410277.125709, \"Dimensions\": {\"Algorithm\": \"Linear Learner\", \"Host\": \"algo-1\", \"Operation\": \"training\"}, \"Metrics\": {\"initialize.time\": {\"sum\": 185.75429916381836, \"count\": 1, \"min\": 185.75429916381836, \"max\": 185.75429916381836}, \"epochs\": {\"sum\": 5.0, \"count\": 1, \"min\": 5, \"max\": 5}, \"check_early_stopping.time\": {\"sum\": 5.410432815551758, \"count\": 5, \"min\": 0.9486675262451172, \"max\": 1.1608600616455078}, \"update.time\": {\"sum\": 645.2646255493164, \"count\": 5, \"min\": 107.65504837036133, \"max\": 159.0278148651123}, \"finalize.time\": {\"sum\": 19.52052116394043, \"count\": 1, \"min\": 19.52052116394043, \"max\": 19.52052116394043}, \"setuptime\": {\"sum\": 23.476600646972656, \"count\": 1, \"min\": 23.476600646972656, \"max\": 23.476600646972656}, \"totaltime\": {\"sum\": 1096.7092514038086, \"count\": 1, \"min\": 1096.7092514038086, \"max\": 1096.7092514038086}}}\n",
      "\u001b[0m\n",
      "\n",
      "2021-07-16 04:38:30 Completed - Training job completed\n",
      "Training seconds: 61\n",
      "Billable seconds: 61\n"
     ]
    }
   ],
   "source": [
    "#Pass in S3 training_data path variable we declared earlier\n",
    "linear.fit({'train': s3_train_data})"
   ]
  },
  {
   "cell_type": "markdown",
   "id": "c304b425",
   "metadata": {},
   "source": [
    "## Endpoint Creation & Model Evaluation"
   ]
  },
  {
   "cell_type": "code",
   "execution_count": 10,
   "id": "e111db5c",
   "metadata": {},
   "outputs": [
    {
     "name": "stdout",
     "output_type": "stream",
     "text": [
      "-------------!"
     ]
    }
   ],
   "source": [
    "linear_regressor = linear.deploy(initial_instance_count = 1,\n",
    "                                          instance_type = 'ml.m4.xlarge')\n",
    "\n",
    "#need to make sure data is in correct format for deployed model\n",
    "from sagemaker.predictor import csv_serializer, json_deserializer\n",
    "linear_regressor.serializer = csv_serializer\n",
    "linear_regressor.deserializer = json_deserializer"
   ]
  },
  {
   "cell_type": "markdown",
   "id": "a7685974",
   "metadata": {},
   "source": [
    "Note that we’ve also serialized our model to make sure we can process our results and compare it to the actual Y test results. After your endpoint has been successfully created you should see an exclamation message and an endpoint will appear when you check active Endpoints on the SageMaker service."
   ]
  },
  {
   "cell_type": "code",
   "execution_count": 11,
   "id": "122e8754",
   "metadata": {},
   "outputs": [
    {
     "name": "stderr",
     "output_type": "stream",
     "text": [
      "The csv_serializer has been renamed in sagemaker>=2.\n",
      "See: https://sagemaker.readthedocs.io/en/stable/v2.html for details.\n",
      "The json_deserializer has been renamed in sagemaker>=2.\n",
      "See: https://sagemaker.readthedocs.io/en/stable/v2.html for details.\n"
     ]
    },
    {
     "data": {
      "text/plain": [
       "<matplotlib.collections.PathCollection at 0x7f71df0d8898>"
      ]
     },
     "execution_count": 11,
     "metadata": {},
     "output_type": "execute_result"
    },
    {
     "data": {
      "image/png": "[encoded data removed]",
      "text/plain": [
       "<Figure size 432x288 with 1 Axes>"
      ]
     },
     "metadata": {
      "needs_background": "light"
     },
     "output_type": "display_data"
    }
   ],
   "source": [
    "result = linear_regressor.predict(X_test)\n",
    "result #should be a JSON\n",
    "\n",
    "#Iterate the result JSON to get an NP array of all the predictions so we can compare to Y test\n",
    "predictions = np.array([res['score'] for res in result['predictions']])\n",
    "predictions #should now be an numpy array\n",
    "\n",
    "#Visualize how accurate predictions are relative to y_test\n",
    "plt.scatter(y_test, predictions)"
   ]
  },
  {
   "cell_type": "markdown",
   "id": "99213baa",
   "metadata": {},
   "source": [
    "We can see our model was pretty accurate overall, but let’s use Root Mean-Squared Error (RMSE) to evaluate our model numerically."
   ]
  },
  {
   "cell_type": "code",
   "execution_count": 12,
   "id": "c6ad74d6",
   "metadata": {},
   "outputs": [
    {
     "data": {
      "text/plain": [
       "3.479302979413433"
      ]
     },
     "execution_count": 12,
     "metadata": {},
     "output_type": "execute_result"
    }
   ],
   "source": [
    "from sklearn import metrics \n",
    "np.sqrt(metrics.mean_squared_error(y_test, predictions))"
   ]
  },
  {
   "cell_type": "code",
   "execution_count": null,
   "id": "edb31592",
   "metadata": {},
   "outputs": [],
   "source": []
  }
 ],
 "metadata": {
  "kernelspec": {
   "display_name": "conda_python3",
   "language": "python",
   "name": "conda_python3"
  },
  "language_info": {
   "codemirror_mode": {
    "name": "ipython",
    "version": 3
   },
   "file_extension": ".py",
   "mimetype": "text/x-python",
   "name": "python",
   "nbconvert_exporter": "python",
   "pygments_lexer": "ipython3",
   "version": "3.6.13"
  }
 },
 "nbformat": 4,
 "nbformat_minor": 5
}
